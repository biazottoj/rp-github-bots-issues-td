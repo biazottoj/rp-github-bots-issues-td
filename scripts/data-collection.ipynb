{
 "cells": [
  {
   "cell_type": "markdown",
   "id": "c320907a-4bd9-40b6-b42f-74cef7691351",
   "metadata": {},
   "source": [
    "# Data Collection"
   ]
  },
  {
   "cell_type": "markdown",
   "id": "2c9db20f-d245-4e87-bad3-6fa0bfbedc21",
   "metadata": {
    "tags": []
   },
   "source": [
    "## Set up logging"
   ]
  },
  {
   "cell_type": "code",
   "execution_count": 1,
   "id": "2afaca70-74f2-4fcf-9a83-c01cfa46ad33",
   "metadata": {
    "tags": []
   },
   "outputs": [],
   "source": [
    "import logging\n",
    "from ipylogging import DisplayHandler, HTMLFormatter\n",
    "\n",
    "handler = DisplayHandler()\n",
    "handler.setFormatter(HTMLFormatter())\n",
    "\n",
    "log = logging.getLogger()\n",
    "log.addHandler(handler)\n",
    "log.setLevel(logging.INFO)"
   ]
  },
  {
   "cell_type": "markdown",
   "id": "23ade3e0-8048-4e7f-a0dd-dc651fa4a12e",
   "metadata": {},
   "source": [
    "## Global variables"
   ]
  },
  {
   "cell_type": "code",
   "execution_count": 2,
   "id": "d761f18c-b3b8-4dab-84f7-9f9b56e8431c",
   "metadata": {
    "tags": []
   },
   "outputs": [],
   "source": [
    "from pathlib import Path\n",
    "\n",
    "data_dir = Path('../data')\n",
    "cache_dir_github = data_dir.joinpath('github')\n",
    "bots_dataset_path = data_dir.joinpath('bots-dataset.csv')\n",
    "bots_issues_dir = data_dir.joinpath('bots-issues')\n",
    "\n",
    "github_token = open('../gh-token.txt','r').readlines()[0].strip()"
   ]
  },
  {
   "cell_type": "markdown",
   "id": "c5713359-ff37-41f7-bb5b-061ce9f30868",
   "metadata": {},
   "source": [
    "## Step 1 - Collect bots from [Golzadeh et al.](https://zenodo.org/record/4000388)'s dataset"
   ]
  },
  {
   "cell_type": "markdown",
   "id": "0e35605f-4609-44a4-a509-324ae27d6e32",
   "metadata": {},
   "source": [
    "Download dataset from [Golzadeh et al.](https://zenodo.org/record/4000388)"
   ]
  },
  {
   "cell_type": "code",
   "execution_count": null,
   "id": "4f17e3ed-7f81-49e1-b7fa-6760e93d4ae0",
   "metadata": {
    "tags": []
   },
   "outputs": [],
   "source": [
    "import urllib\n",
    "import gzip\n",
    "import os\n",
    "\n",
    "url_bot_dataset = \"https://zenodo.org/record/4000388/files/groundtruthbots.csv.gz\"\n",
    "path_bot_dataset = data_dir.joinpath('groundtruthbots.csv')\n",
    "\n",
    "gz_path, _ = urllib.request.urlretrieve(url_bot_dataset)\n",
    "with gzip.open(gz_path, \"rb\") as f_in, open(path_bot_dataset, \"wb\") as f_out:\n",
    "    f_out.write(f_in.read())"
   ]
  },
  {
   "cell_type": "markdown",
   "id": "d0dc2369-880b-4120-8d2f-36ac77dab317",
   "metadata": {},
   "source": [
    "Extract bots"
   ]
  },
  {
   "cell_type": "code",
   "execution_count": null,
   "id": "00acd30b-d15c-4ad0-82e6-04965add1274",
   "metadata": {},
   "outputs": [],
   "source": [
    "from minirig import load_csv_dataset, save_csv_dataset\n",
    "\n",
    "bot_dataset = load_csv_dataset(path_bot_dataset)\n",
    "bot_dataset = [{'account': row['account']} for row in bot_dataset if row['type'] == 'Bot']\n",
    "save_csv_dataset(bots_dataset_path, data=bot_dataset)"
   ]
  },
  {
   "cell_type": "markdown",
   "id": "95a0c8d7-1d45-424f-a368-11f9cca98495",
   "metadata": {
    "tags": []
   },
   "source": [
    "## Step 2 - Collect the number of issues per bot"
   ]
  },
  {
   "cell_type": "code",
   "execution_count": 3,
   "id": "ff3475c3-72d8-4fad-bd90-6aec7b409b62",
   "metadata": {
    "tags": []
   },
   "outputs": [
    {
     "data": {
      "text/html": [
       "<span style=\"font-weight: bold; color: green\">2023-04-22 10:21:30,448</span> [<span style=\"font-weight: bold; color: dodgerblue\">INFO</span>] NumExpr defaulting to 8 threads."
      ],
      "text/plain": [
       "<IPython.core.display.HTML object>"
      ]
     },
     "metadata": {},
     "output_type": "display_data"
    },
    {
     "data": {
      "text/html": [
       "<span style=\"font-weight: bold; color: green\">2023-04-22 10:39:04,354</span> [<span style=\"font-weight: bold; color: crimson\">ERROR</span>] Request failed (422): https://api.github.com/search/issues?q=involves:renovate+is:issue"
      ],
      "text/plain": [
       "<IPython.core.display.HTML object>"
      ]
     },
     "metadata": {},
     "output_type": "display_data"
    },
    {
     "data": {
      "text/html": [
       "<span style=\"font-weight: bold; color: green\">2023-04-22 10:39:04,680</span> [<span style=\"font-weight: bold; color: crimson\">ERROR</span>] Request failed (422): https://api.github.com/search/issues?q=involves:mfehr94+is:issue"
      ],
      "text/plain": [
       "<IPython.core.display.HTML object>"
      ]
     },
     "metadata": {},
     "output_type": "display_data"
    },
    {
     "data": {
      "text/html": [
       "<span style=\"font-weight: bold; color: green\">2023-04-22 10:39:04,967</span> [<span style=\"font-weight: bold; color: crimson\">ERROR</span>] Request failed (422): https://api.github.com/search/issues?q=involves:dependabot-preview+is:issue"
      ],
      "text/plain": [
       "<IPython.core.display.HTML object>"
      ]
     },
     "metadata": {},
     "output_type": "display_data"
    },
    {
     "data": {
      "text/html": [
       "<span style=\"font-weight: bold; color: green\">2023-04-22 10:40:15,909</span> [<span style=\"font-weight: bold; color: crimson\">ERROR</span>] Request failed (422): https://api.github.com/search/issues?q=involves:stale+is:issue"
      ],
      "text/plain": [
       "<IPython.core.display.HTML object>"
      ]
     },
     "metadata": {},
     "output_type": "display_data"
    },
    {
     "data": {
      "text/html": [
       "<span style=\"font-weight: bold; color: green\">2023-04-22 10:40:16,237</span> [<span style=\"font-weight: bold; color: crimson\">ERROR</span>] Request failed (422): https://api.github.com/search/issues?q=involves:resin-io-modules-versionbot+is:issue"
      ],
      "text/plain": [
       "<IPython.core.display.HTML object>"
      ]
     },
     "metadata": {},
     "output_type": "display_data"
    },
    {
     "data": {
      "text/html": [
       "<span style=\"font-weight: bold; color: green\">2023-04-22 10:40:17,557</span> [<span style=\"font-weight: bold; color: crimson\">ERROR</span>] Request failed (422): https://api.github.com/search/issues?q=involves:old-fusion-bot+is:issue"
      ],
      "text/plain": [
       "<IPython.core.display.HTML object>"
      ]
     },
     "metadata": {},
     "output_type": "display_data"
    },
    {
     "data": {
      "text/html": [
       "<span style=\"font-weight: bold; color: green\">2023-04-22 10:40:18,972</span> [<span style=\"font-weight: bold; color: crimson\">ERROR</span>] Request failed (422): https://api.github.com/search/issues?q=involves:gatsbot+is:issue"
      ],
      "text/plain": [
       "<IPython.core.display.HTML object>"
      ]
     },
     "metadata": {},
     "output_type": "display_data"
    },
    {
     "data": {
      "text/html": [
       "<span style=\"font-weight: bold; color: green\">2023-04-22 10:40:19,264</span> [<span style=\"font-weight: bold; color: crimson\">ERROR</span>] Request failed (422): https://api.github.com/search/issues?q=involves:WeTransferOSSBot+is:issue"
      ],
      "text/plain": [
       "<IPython.core.display.HTML object>"
      ]
     },
     "metadata": {},
     "output_type": "display_data"
    },
    {
     "data": {
      "text/html": [
       "<span style=\"font-weight: bold; color: green\">2023-04-22 10:40:23,184</span> [<span style=\"font-weight: bold; color: crimson\">ERROR</span>] Request failed (422): https://api.github.com/search/issues?q=involves:deepcode-ci-bot+is:issue"
      ],
      "text/plain": [
       "<IPython.core.display.HTML object>"
      ]
     },
     "metadata": {},
     "output_type": "display_data"
    },
    {
     "data": {
      "text/html": [
       "<span style=\"font-weight: bold; color: green\">2023-04-22 10:40:23,479</span> [<span style=\"font-weight: bold; color: crimson\">ERROR</span>] Request failed (422): https://api.github.com/search/issues?q=involves:algolia-api-client-bot+is:issue"
      ],
      "text/plain": [
       "<IPython.core.display.HTML object>"
      ]
     },
     "metadata": {},
     "output_type": "display_data"
    },
    {
     "data": {
      "text/html": [
       "<span style=\"font-weight: bold; color: green\">2023-04-22 10:40:23,758</span> [<span style=\"font-weight: bold; color: crimson\">ERROR</span>] Request failed (422): https://api.github.com/search/issues?q=involves:resin-io-versionbot+is:issue"
      ],
      "text/plain": [
       "<IPython.core.display.HTML object>"
      ]
     },
     "metadata": {},
     "output_type": "display_data"
    },
    {
     "data": {
      "text/html": [
       "<span style=\"font-weight: bold; color: green\">2023-04-22 10:40:24,023</span> [<span style=\"font-weight: bold; color: crimson\">ERROR</span>] Request failed (422): https://api.github.com/search/issues?q=involves:ConfluentCLABot+is:issue"
      ],
      "text/plain": [
       "<IPython.core.display.HTML object>"
      ]
     },
     "metadata": {},
     "output_type": "display_data"
    },
    {
     "data": {
      "text/html": [
       "<span style=\"font-weight: bold; color: green\">2023-04-22 10:40:26,526</span> [<span style=\"font-weight: bold; color: crimson\">ERROR</span>] Request failed (422): https://api.github.com/search/issues?q=involves:sourcelevel-bot+is:issue"
      ],
      "text/plain": [
       "<IPython.core.display.HTML object>"
      ]
     },
     "metadata": {},
     "output_type": "display_data"
    },
    {
     "data": {
      "text/html": [
       "<span style=\"font-weight: bold; color: green\">2023-04-22 10:40:26,804</span> [<span style=\"font-weight: bold; color: crimson\">ERROR</span>] Request failed (422): https://api.github.com/search/issues?q=involves:symfony-skeleton-bot+is:issue"
      ],
      "text/plain": [
       "<IPython.core.display.HTML object>"
      ]
     },
     "metadata": {},
     "output_type": "display_data"
    },
    {
     "data": {
      "text/html": [
       "<span style=\"font-weight: bold; color: green\">2023-04-22 10:40:27,942</span> [<span style=\"font-weight: bold; color: crimson\">ERROR</span>] Request failed (422): https://api.github.com/search/issues?q=involves:xcoderobot+is:issue"
      ],
      "text/plain": [
       "<IPython.core.display.HTML object>"
      ]
     },
     "metadata": {},
     "output_type": "display_data"
    },
    {
     "data": {
      "text/html": [
       "<span style=\"font-weight: bold; color: green\">2023-04-22 10:41:39,913</span> [<span style=\"font-weight: bold; color: crimson\">ERROR</span>] Request failed (422): https://api.github.com/search/issues?q=involves:angular-automatic-lock-bot+is:issue"
      ],
      "text/plain": [
       "<IPython.core.display.HTML object>"
      ]
     },
     "metadata": {},
     "output_type": "display_data"
    },
    {
     "data": {
      "text/html": [
       "<span style=\"font-weight: bold; color: green\">2023-04-22 10:41:40,210</span> [<span style=\"font-weight: bold; color: crimson\">ERROR</span>] Request failed (422): https://api.github.com/search/issues?q=involves:probot-shopify+is:issue"
      ],
      "text/plain": [
       "<IPython.core.display.HTML object>"
      ]
     },
     "metadata": {},
     "output_type": "display_data"
    },
    {
     "data": {
      "text/html": [
       "<span style=\"font-weight: bold; color: green\">2023-04-22 10:41:40,493</span> [<span style=\"font-weight: bold; color: crimson\">ERROR</span>] Request failed (422): https://api.github.com/search/issues?q=involves:go-cloud-bot+is:issue"
      ],
      "text/plain": [
       "<IPython.core.display.HTML object>"
      ]
     },
     "metadata": {},
     "output_type": "display_data"
    },
    {
     "data": {
      "text/html": [
       "<span style=\"font-weight: bold; color: green\">2023-04-22 10:41:40,774</span> [<span style=\"font-weight: bold; color: crimson\">ERROR</span>] Request failed (422): https://api.github.com/search/issues?q=involves:msftbot+is:issue"
      ],
      "text/plain": [
       "<IPython.core.display.HTML object>"
      ]
     },
     "metadata": {},
     "output_type": "display_data"
    },
    {
     "data": {
      "text/html": [
       "<span style=\"font-weight: bold; color: green\">2023-04-22 10:41:41,056</span> [<span style=\"font-weight: bold; color: crimson\">ERROR</span>] Request failed (422): https://api.github.com/search/issues?q=involves:changeset-bot+is:issue"
      ],
      "text/plain": [
       "<IPython.core.display.HTML object>"
      ]
     },
     "metadata": {},
     "output_type": "display_data"
    },
    {
     "data": {
      "text/html": [
       "<span style=\"font-weight: bold; color: green\">2023-04-22 10:41:41,340</span> [<span style=\"font-weight: bold; color: crimson\">ERROR</span>] Request failed (422): https://api.github.com/search/issues?q=involves:ApplozicBot+is:issue"
      ],
      "text/plain": [
       "<IPython.core.display.HTML object>"
      ]
     },
     "metadata": {},
     "output_type": "display_data"
    },
    {
     "data": {
      "text/html": [
       "<span style=\"font-weight: bold; color: green\">2023-04-22 10:41:43,078</span> [<span style=\"font-weight: bold; color: crimson\">ERROR</span>] Request failed (422): https://api.github.com/search/issues?q=involves:conventional-release-bot+is:issue"
      ],
      "text/plain": [
       "<IPython.core.display.HTML object>"
      ]
     },
     "metadata": {},
     "output_type": "display_data"
    },
    {
     "data": {
      "text/html": [
       "<span style=\"font-weight: bold; color: green\">2023-04-22 10:41:43,389</span> [<span style=\"font-weight: bold; color: crimson\">ERROR</span>] Request failed (422): https://api.github.com/search/issues?q=involves:dry-python-bot+is:issue"
      ],
      "text/plain": [
       "<IPython.core.display.HTML object>"
      ]
     },
     "metadata": {},
     "output_type": "display_data"
    },
    {
     "data": {
      "text/html": [
       "<span style=\"font-weight: bold; color: green\">2023-04-22 10:41:43,654</span> [<span style=\"font-weight: bold; color: crimson\">ERROR</span>] Request failed (422): https://api.github.com/search/issues?q=involves:realm-probot+is:issue"
      ],
      "text/plain": [
       "<IPython.core.display.HTML object>"
      ]
     },
     "metadata": {},
     "output_type": "display_data"
    },
    {
     "data": {
      "text/html": [
       "<span style=\"font-weight: bold; color: green\">2023-04-22 10:41:43,939</span> [<span style=\"font-weight: bold; color: crimson\">ERROR</span>] Request failed (422): https://api.github.com/search/issues?q=involves:generic-probot-app-workflow+is:issue"
      ],
      "text/plain": [
       "<IPython.core.display.HTML object>"
      ]
     },
     "metadata": {},
     "output_type": "display_data"
    },
    {
     "data": {
      "text/html": [
       "<span style=\"font-weight: bold; color: green\">2023-04-22 10:41:49,141</span> [<span style=\"font-weight: bold; color: crimson\">ERROR</span>] Request failed (422): https://api.github.com/search/issues?q=involves:solo-git-bot+is:issue"
      ],
      "text/plain": [
       "<IPython.core.display.HTML object>"
      ]
     },
     "metadata": {},
     "output_type": "display_data"
    },
    {
     "data": {
      "text/html": [
       "<span style=\"font-weight: bold; color: green\">2023-04-22 10:41:49,413</span> [<span style=\"font-weight: bold; color: crimson\">ERROR</span>] Request failed (422): https://api.github.com/search/issues?q=involves:reakit-bot+is:issue"
      ],
      "text/plain": [
       "<IPython.core.display.HTML object>"
      ]
     },
     "metadata": {},
     "output_type": "display_data"
    },
    {
     "data": {
      "text/html": [
       "<span style=\"font-weight: bold; color: green\">2023-04-22 10:41:51,402</span> [<span style=\"font-weight: bold; color: crimson\">ERROR</span>] Request failed (422): https://api.github.com/search/issues?q=involves:garvisbot-tianhaoz+is:issue"
      ],
      "text/plain": [
       "<IPython.core.display.HTML object>"
      ]
     },
     "metadata": {},
     "output_type": "display_data"
    },
    {
     "data": {
      "text/html": [
       "<span style=\"font-weight: bold; color: green\">2023-04-22 10:41:51,676</span> [<span style=\"font-weight: bold; color: crimson\">ERROR</span>] Request failed (422): https://api.github.com/search/issues?q=involves:garvisbot+is:issue"
      ],
      "text/plain": [
       "<IPython.core.display.HTML object>"
      ]
     },
     "metadata": {},
     "output_type": "display_data"
    },
    {
     "data": {
      "text/html": [
       "<span style=\"font-weight: bold; color: green\">2023-04-22 10:43:02,671</span> [<span style=\"font-weight: bold; color: crimson\">ERROR</span>] Request failed (422): https://api.github.com/search/issues?q=involves:amp-owners-bot+is:issue"
      ],
      "text/plain": [
       "<IPython.core.display.HTML object>"
      ]
     },
     "metadata": {},
     "output_type": "display_data"
    },
    {
     "data": {
      "text/html": [
       "<span style=\"font-weight: bold; color: green\">2023-04-22 10:43:05,141</span> [<span style=\"font-weight: bold; color: crimson\">ERROR</span>] Request failed (422): https://api.github.com/search/issues?q=involves:hospitalrunbot+is:issue"
      ],
      "text/plain": [
       "<IPython.core.display.HTML object>"
      ]
     },
     "metadata": {},
     "output_type": "display_data"
    },
    {
     "data": {
      "text/html": [
       "<span style=\"font-weight: bold; color: green\">2023-04-22 10:43:05,439</span> [<span style=\"font-weight: bold; color: crimson\">ERROR</span>] Request failed (422): https://api.github.com/search/issues?q=involves:zorro-bot+is:issue"
      ],
      "text/plain": [
       "<IPython.core.display.HTML object>"
      ]
     },
     "metadata": {},
     "output_type": "display_data"
    },
    {
     "data": {
      "text/html": [
       "<span style=\"font-weight: bold; color: green\">2023-04-22 10:43:05,728</span> [<span style=\"font-weight: bold; color: crimson\">ERROR</span>] Request failed (422): https://api.github.com/search/issues?q=involves:theguild-bot+is:issue"
      ],
      "text/plain": [
       "<IPython.core.display.HTML object>"
      ]
     },
     "metadata": {},
     "output_type": "display_data"
    },
    {
     "data": {
      "text/html": [
       "<span style=\"font-weight: bold; color: green\">2023-04-22 10:43:06,050</span> [<span style=\"font-weight: bold; color: crimson\">ERROR</span>] Request failed (422): https://api.github.com/search/issues?q=involves:cargo-dep-bot+is:issue"
      ],
      "text/plain": [
       "<IPython.core.display.HTML object>"
      ]
     },
     "metadata": {},
     "output_type": "display_data"
    },
    {
     "data": {
      "text/html": [
       "<span style=\"font-weight: bold; color: green\">2023-04-22 10:43:06,364</span> [<span style=\"font-weight: bold; color: crimson\">ERROR</span>] Request failed (422): https://api.github.com/search/issues?q=involves:cypress-bot+is:issue"
      ],
      "text/plain": [
       "<IPython.core.display.HTML object>"
      ]
     },
     "metadata": {},
     "output_type": "display_data"
    },
    {
     "data": {
      "text/html": [
       "<span style=\"font-weight: bold; color: green\">2023-04-22 10:43:06,661</span> [<span style=\"font-weight: bold; color: crimson\">ERROR</span>] Request failed (422): https://api.github.com/search/issues?q=involves:echarts-bot+is:issue"
      ],
      "text/plain": [
       "<IPython.core.display.HTML object>"
      ]
     },
     "metadata": {},
     "output_type": "display_data"
    },
    {
     "data": {
      "text/html": [
       "<span style=\"font-weight: bold; color: green\">2023-04-22 10:43:10,103</span> [<span style=\"font-weight: bold; color: crimson\">ERROR</span>] Request failed (422): https://api.github.com/search/issues?q=involves:vtex-io-docs-bot+is:issue"
      ],
      "text/plain": [
       "<IPython.core.display.HTML object>"
      ]
     },
     "metadata": {},
     "output_type": "display_data"
    },
    {
     "data": {
      "text/html": [
       "<span style=\"font-weight: bold; color: green\">2023-04-22 10:43:10,400</span> [<span style=\"font-weight: bold; color: crimson\">ERROR</span>] Request failed (422): https://api.github.com/search/issues?q=involves:solo-changelog-bot+is:issue"
      ],
      "text/plain": [
       "<IPython.core.display.HTML object>"
      ]
     },
     "metadata": {},
     "output_type": "display_data"
    },
    {
     "data": {
      "text/html": [
       "<span style=\"font-weight: bold; color: green\">2023-04-22 10:43:10,728</span> [<span style=\"font-weight: bold; color: crimson\">ERROR</span>] Request failed (422): https://api.github.com/search/issues?q=involves:nusmods-deploy-bot+is:issue"
      ],
      "text/plain": [
       "<IPython.core.display.HTML object>"
      ]
     },
     "metadata": {},
     "output_type": "display_data"
    },
    {
     "data": {
      "text/html": [
       "<span style=\"font-weight: bold; color: green\">2023-04-22 10:43:11,009</span> [<span style=\"font-weight: bold; color: crimson\">ERROR</span>] Request failed (422): https://api.github.com/search/issues?q=involves:tykbot+is:issue"
      ],
      "text/plain": [
       "<IPython.core.display.HTML object>"
      ]
     },
     "metadata": {},
     "output_type": "display_data"
    },
    {
     "data": {
      "text/html": [
       "<span style=\"font-weight: bold; color: green\">2023-04-22 10:43:11,260</span> [<span style=\"font-weight: bold; color: crimson\">ERROR</span>] Request failed (422): https://api.github.com/search/issues?q=involves:status-github-bot+is:issue"
      ],
      "text/plain": [
       "<IPython.core.display.HTML object>"
      ]
     },
     "metadata": {},
     "output_type": "display_data"
    },
    {
     "data": {
      "text/html": [
       "<span style=\"font-weight: bold; color: green\">2023-04-22 10:43:13,558</span> [<span style=\"font-weight: bold; color: crimson\">ERROR</span>] Request failed (422): https://api.github.com/search/issues?q=involves:libra-cla-bot+is:issue"
      ],
      "text/plain": [
       "<IPython.core.display.HTML object>"
      ]
     },
     "metadata": {},
     "output_type": "display_data"
    },
    {
     "data": {
      "text/html": [
       "<span style=\"font-weight: bold; color: green\">2023-04-22 10:43:13,854</span> [<span style=\"font-weight: bold; color: crimson\">ERROR</span>] Request failed (422): https://api.github.com/search/issues?q=involves:WeTransferBot+is:issue"
      ],
      "text/plain": [
       "<IPython.core.display.HTML object>"
      ]
     },
     "metadata": {},
     "output_type": "display_data"
    },
    {
     "data": {
      "text/html": [
       "<span style=\"font-weight: bold; color: green\">2023-04-22 10:43:14,120</span> [<span style=\"font-weight: bold; color: crimson\">ERROR</span>] Request failed (422): https://api.github.com/search/issues?q=involves:fusionjs-sync-bot+is:issue"
      ],
      "text/plain": [
       "<IPython.core.display.HTML object>"
      ]
     },
     "metadata": {},
     "output_type": "display_data"
    },
    {
     "data": {
      "text/html": [
       "<span style=\"font-weight: bold; color: green\">2023-04-22 10:44:25,080</span> [<span style=\"font-weight: bold; color: crimson\">ERROR</span>] Request failed (422): https://api.github.com/search/issues?q=involves:spacchettibotti+is:issue"
      ],
      "text/plain": [
       "<IPython.core.display.HTML object>"
      ]
     },
     "metadata": {},
     "output_type": "display_data"
    },
    {
     "data": {
      "text/html": [
       "<span style=\"font-weight: bold; color: green\">2023-04-22 10:44:25,379</span> [<span style=\"font-weight: bold; color: crimson\">ERROR</span>] Request failed (422): https://api.github.com/search/issues?q=involves:hacs-bot+is:issue"
      ],
      "text/plain": [
       "<IPython.core.display.HTML object>"
      ]
     },
     "metadata": {},
     "output_type": "display_data"
    },
    {
     "data": {
      "text/html": [
       "<span style=\"font-weight: bold; color: green\">2023-04-22 10:44:25,663</span> [<span style=\"font-weight: bold; color: crimson\">ERROR</span>] Request failed (422): https://api.github.com/search/issues?q=involves:sumupbot+is:issue"
      ],
      "text/plain": [
       "<IPython.core.display.HTML object>"
      ]
     },
     "metadata": {},
     "output_type": "display_data"
    },
    {
     "data": {
      "text/html": [
       "<span style=\"font-weight: bold; color: green\">2023-04-22 10:44:26,812</span> [<span style=\"font-weight: bold; color: crimson\">ERROR</span>] Request failed (422): https://api.github.com/search/issues?q=involves:docker-compose-qa-bot+is:issue"
      ],
      "text/plain": [
       "<IPython.core.display.HTML object>"
      ]
     },
     "metadata": {},
     "output_type": "display_data"
    },
    {
     "data": {
      "text/html": [
       "<span style=\"font-weight: bold; color: green\">2023-04-22 10:44:28,203</span> [<span style=\"font-weight: bold; color: crimson\">ERROR</span>] Request failed (422): https://api.github.com/search/issues?q=involves:opendatakit-bot+is:issue"
      ],
      "text/plain": [
       "<IPython.core.display.HTML object>"
      ]
     },
     "metadata": {},
     "output_type": "display_data"
    },
    {
     "data": {
      "text/html": [
       "<span style=\"font-weight: bold; color: green\">2023-04-22 10:44:28,496</span> [<span style=\"font-weight: bold; color: crimson\">ERROR</span>] Request failed (422): https://api.github.com/search/issues?q=involves:oni-bot+is:issue"
      ],
      "text/plain": [
       "<IPython.core.display.HTML object>"
      ]
     },
     "metadata": {},
     "output_type": "display_data"
    },
    {
     "data": {
      "text/html": [
       "<span style=\"font-weight: bold; color: green\">2023-04-22 10:44:28,794</span> [<span style=\"font-weight: bold; color: crimson\">ERROR</span>] Request failed (422): https://api.github.com/search/issues?q=involves:open-collective-bot+is:issue"
      ],
      "text/plain": [
       "<IPython.core.display.HTML object>"
      ]
     },
     "metadata": {},
     "output_type": "display_data"
    },
    {
     "data": {
      "text/html": [
       "<span style=\"font-weight: bold; color: green\">2023-04-22 10:44:29,077</span> [<span style=\"font-weight: bold; color: crimson\">ERROR</span>] Request failed (422): https://api.github.com/search/issues?q=involves:ionitron-bot+is:issue"
      ],
      "text/plain": [
       "<IPython.core.display.HTML object>"
      ]
     },
     "metadata": {},
     "output_type": "display_data"
    },
    {
     "data": {
      "text/html": [
       "<span style=\"font-weight: bold; color: green\">2023-04-22 10:44:29,376</span> [<span style=\"font-weight: bold; color: crimson\">ERROR</span>] Request failed (422): https://api.github.com/search/issues?q=involves:issue-label-bot+is:issue"
      ],
      "text/plain": [
       "<IPython.core.display.HTML object>"
      ]
     },
     "metadata": {},
     "output_type": "display_data"
    },
    {
     "data": {
      "text/html": [
       "<span style=\"font-weight: bold; color: green\">2023-04-22 10:44:29,654</span> [<span style=\"font-weight: bold; color: crimson\">ERROR</span>] Request failed (422): https://api.github.com/search/issues?q=involves:appsflyerbot+is:issue"
      ],
      "text/plain": [
       "<IPython.core.display.HTML object>"
      ]
     },
     "metadata": {},
     "output_type": "display_data"
    },
    {
     "data": {
      "text/html": [
       "<span style=\"font-weight: bold; color: green\">2023-04-22 10:44:29,945</span> [<span style=\"font-weight: bold; color: crimson\">ERROR</span>] Request failed (422): https://api.github.com/search/issues?q=involves:matts-bot+is:issue"
      ],
      "text/plain": [
       "<IPython.core.display.HTML object>"
      ]
     },
     "metadata": {},
     "output_type": "display_data"
    },
    {
     "data": {
      "text/html": [
       "<span style=\"font-weight: bold; color: green\">2023-04-22 10:44:30,212</span> [<span style=\"font-weight: bold; color: crimson\">ERROR</span>] Request failed (422): https://api.github.com/search/issues?q=involves:taro-ui-bot+is:issue"
      ],
      "text/plain": [
       "<IPython.core.display.HTML object>"
      ]
     },
     "metadata": {},
     "output_type": "display_data"
    },
    {
     "data": {
      "text/html": [
       "<span style=\"font-weight: bold; color: green\">2023-04-22 10:44:31,093</span> [<span style=\"font-weight: bold; color: crimson\">ERROR</span>] Request failed (422): https://api.github.com/search/issues?q=involves:build-cop-bot+is:issue"
      ],
      "text/plain": [
       "<IPython.core.display.HTML object>"
      ]
     },
     "metadata": {},
     "output_type": "display_data"
    },
    {
     "data": {
      "text/html": [
       "<span style=\"font-weight: bold; color: green\">2023-04-22 10:44:32,021</span> [<span style=\"font-weight: bold; color: crimson\">ERROR</span>] Request failed (422): https://api.github.com/search/issues?q=involves:kf-label-bot-dev+is:issue"
      ],
      "text/plain": [
       "<IPython.core.display.HTML object>"
      ]
     },
     "metadata": {},
     "output_type": "display_data"
    },
    {
     "data": {
      "text/html": [
       "<span style=\"font-weight: bold; color: green\">2023-04-22 10:44:33,402</span> [<span style=\"font-weight: bold; color: crimson\">ERROR</span>] Request failed (422): https://api.github.com/search/issues?q=involves:swaglyricsbot+is:issue"
      ],
      "text/plain": [
       "<IPython.core.display.HTML object>"
      ]
     },
     "metadata": {},
     "output_type": "display_data"
    },
    {
     "data": {
      "text/html": [
       "<span style=\"font-weight: bold; color: green\">2023-04-22 10:44:33,696</span> [<span style=\"font-weight: bold; color: crimson\">ERROR</span>] Request failed (422): https://api.github.com/search/issues?q=involves:pull-assistant+is:issue"
      ],
      "text/plain": [
       "<IPython.core.display.HTML object>"
      ]
     },
     "metadata": {},
     "output_type": "display_data"
    },
    {
     "data": {
      "text/html": [
       "<span style=\"font-weight: bold; color: green\">2023-04-22 10:44:33,961</span> [<span style=\"font-weight: bold; color: crimson\">ERROR</span>] Request failed (422): https://api.github.com/search/issues?q=involves:selenium-assistant+is:issue"
      ],
      "text/plain": [
       "<IPython.core.display.HTML object>"
      ]
     },
     "metadata": {},
     "output_type": "display_data"
    },
    {
     "data": {
      "text/html": [
       "<span style=\"font-weight: bold; color: green\">2023-04-22 10:44:34,244</span> [<span style=\"font-weight: bold; color: crimson\">ERROR</span>] Request failed (422): https://api.github.com/search/issues?q=involves:gitpod-io-legacy-app+is:issue"
      ],
      "text/plain": [
       "<IPython.core.display.HTML object>"
      ]
     },
     "metadata": {},
     "output_type": "display_data"
    },
    {
     "data": {
      "text/html": [
       "<span style=\"font-weight: bold; color: green\">2023-04-22 10:44:34,525</span> [<span style=\"font-weight: bold; color: crimson\">ERROR</span>] Request failed (422): https://api.github.com/search/issues?q=involves:vtex-io-ci-cd+is:issue"
      ],
      "text/plain": [
       "<IPython.core.display.HTML object>"
      ]
     },
     "metadata": {},
     "output_type": "display_data"
    },
    {
     "data": {
      "text/html": [
       "<span style=\"font-weight: bold; color: green\">2023-04-22 10:44:34,809</span> [<span style=\"font-weight: bold; color: crimson\">ERROR</span>] Request failed (422): https://api.github.com/search/issues?q=involves:similar-code-searcher+is:issue"
      ],
      "text/plain": [
       "<IPython.core.display.HTML object>"
      ]
     },
     "metadata": {},
     "output_type": "display_data"
    },
    {
     "data": {
      "text/html": [
       "<span style=\"font-weight: bold; color: green\">2023-04-22 10:45:48,484</span> [<span style=\"font-weight: bold; color: crimson\">ERROR</span>] Request failed (422): https://api.github.com/search/issues?q=involves:pika-ci+is:issue"
      ],
      "text/plain": [
       "<IPython.core.display.HTML object>"
      ]
     },
     "metadata": {},
     "output_type": "display_data"
    },
    {
     "data": {
      "text/html": [
       "<span style=\"font-weight: bold; color: green\">2023-04-22 10:45:48,765</span> [<span style=\"font-weight: bold; color: crimson\">ERROR</span>] Request failed (422): https://api.github.com/search/issues?q=involves:taskcat-ci+is:issue"
      ],
      "text/plain": [
       "<IPython.core.display.HTML object>"
      ]
     },
     "metadata": {},
     "output_type": "display_data"
    },
    {
     "data": {
      "text/html": [
       "<span style=\"font-weight: bold; color: green\">2023-04-22 10:45:51,743</span> [<span style=\"font-weight: bold; color: crimson\">ERROR</span>] Request failed (422): https://api.github.com/search/issues?q=involves:openapi-sdkautomation+is:issue"
      ],
      "text/plain": [
       "<IPython.core.display.HTML object>"
      ]
     },
     "metadata": {},
     "output_type": "display_data"
    },
    {
     "data": {
      "text/html": [
       "<span style=\"font-weight: bold; color: green\">2023-04-22 10:45:52,024</span> [<span style=\"font-weight: bold; color: crimson\">ERROR</span>] Request failed (422): https://api.github.com/search/issues?q=involves:auto-comment+is:issue"
      ],
      "text/plain": [
       "<IPython.core.display.HTML object>"
      ]
     },
     "metadata": {},
     "output_type": "display_data"
    },
    {
     "data": {
      "text/html": [
       "<span style=\"font-weight: bold; color: green\">2023-04-22 10:45:52,305</span> [<span style=\"font-weight: bold; color: crimson\">ERROR</span>] Request failed (422): https://api.github.com/search/issues?q=involves:zeebe-bors+is:issue"
      ],
      "text/plain": [
       "<IPython.core.display.HTML object>"
      ]
     },
     "metadata": {},
     "output_type": "display_data"
    },
    {
     "data": {
      "text/html": [
       "<span style=\"font-weight: bold; color: green\">2023-04-22 10:45:52,587</span> [<span style=\"font-weight: bold; color: crimson\">ERROR</span>] Request failed (422): https://api.github.com/search/issues?q=involves:request-info+is:issue"
      ],
      "text/plain": [
       "<IPython.core.display.HTML object>"
      ]
     },
     "metadata": {},
     "output_type": "display_data"
    },
    {
     "data": {
      "text/html": [
       "<span style=\"font-weight: bold; color: green\">2023-04-22 10:45:52,868</span> [<span style=\"font-weight: bold; color: crimson\">ERROR</span>] Request failed (422): https://api.github.com/search/issues?q=involves:peril-staging+is:issue"
      ],
      "text/plain": [
       "<IPython.core.display.HTML object>"
      ]
     },
     "metadata": {},
     "output_type": "display_data"
    },
    {
     "data": {
      "text/html": [
       "<span style=\"font-weight: bold; color: green\">2023-04-22 10:45:53,165</span> [<span style=\"font-weight: bold; color: crimson\">ERROR</span>] Request failed (422): https://api.github.com/search/issues?q=involves:github-actions+is:issue"
      ],
      "text/plain": [
       "<IPython.core.display.HTML object>"
      ]
     },
     "metadata": {},
     "output_type": "display_data"
    }
   ],
   "source": [
    "from minirig import load_csv_dataset, save_csv_dataset\n",
    "from minirig import GHRequests\n",
    "\n",
    "bot_dataset = load_csv_dataset(bots_dataset_path)\n",
    "gh_api = GHRequests(token=github_token,cache_dir=cache_dir_github)\n",
    "\n",
    "for bot in bot_dataset:\n",
    "    try:\n",
    "        bot['issue_count'] = gh_api.get_number_issues_involving_user(bot['account'], force=True)\n",
    "    except:\n",
    "        bot['issue_count'] = 'na'\n",
    "\n",
    "bot_dataset.sort(reverse=True, key=lambda x: -1 if x['issue_count'] == 'na' else x['issue_count'])\n",
    "save_csv_dataset('../data/new-bot-dataset.csv', data=bot_dataset, s)"
   ]
  },
  {
   "cell_type": "markdown",
   "id": "cb21537d-2805-4dca-881b-319aef79fa96",
   "metadata": {},
   "source": [
    "## Step 3 - Download issues for each bot"
   ]
  },
  {
   "cell_type": "code",
   "execution_count": null,
   "id": "bb8834e8-c314-416a-8157-da09afcaaa75",
   "metadata": {
    "tags": []
   },
   "outputs": [],
   "source": [
    "from IPython.display import clear_output\n",
    "from minirig import GHRequests, load_csv_dataset\n",
    "import pandas as pd\n",
    "import json\n",
    "\n",
    "bot_dataset = load_csv_dataset(bots_dataset_path)\n",
    "gh_api = GHRequests(token=github_token,cache_dir=cache_dir_github)\n",
    "\n",
    "issues_errors = []\n",
    "\n",
    "for bot in bot_dataset:\n",
    "    cnt = 1\n",
    "    for issue in gh_api.get_issues_involving_user(bot['account']):\n",
    "        \n",
    "        bot_issue_path = bots_issues_dir.joinpath(bot['account']).joinpath(issue['html_url'].replace('https://github.com/',''))\n",
    "        owner, project = issue['repository_url'].replace('https://api.github.com/repos/', '').split('/')\n",
    "        \n",
    "        if not bot_issue_path.joinpath('json').exists():    \n",
    "            full_issue = gh_api.get_issue_info(issue['number'], owner, project)  \n",
    "            bot_issue_path.mkdir(parents=True, exist_ok=True)\n",
    "            with open(bot_issue_path.joinpath('json'), 'w') as f:\n",
    "                json.dump(full_issue, f)\n",
    "\n",
    "        clear_output()\n",
    "        logging.info(f\"{bot['account']}: {cnt} of {bot['issue_count']}\")\n",
    "        cnt += 1"
   ]
  },
  {
   "cell_type": "code",
   "execution_count": null,
   "id": "174f9be1",
   "metadata": {},
   "outputs": [],
   "source": [
    "from IPython.display import clear_output\n",
    "from minirig import GHRequests, load_csv_dataset\n",
    "import pandas as pd\n",
    "import json\n",
    "\n",
    "bot_dataset = load_csv_dataset(bots_dataset_path)\n",
    "gh_api = GHRequests(token=github_token,cache_dir=cache_dir_github)\n",
    "\n",
    "vaadin_bot = [x for x in bot_dataset if x['account'] == 'vaadin-bot']\n",
    "\n",
    "for bot in vaadin_bot:\n",
    "    \n",
    "    for issue in gh_api.get_issues_involving_user(bot['account'], force= True):\n",
    "        \n",
    "        bot_issue_path = bots_issues_dir.joinpath(bot['account']).joinpath(issue['html_url'].replace('https://github.com/',''))\n",
    "        owner, project = issue['repository_url'].replace('https://api.github.com/repos/', '').split('/')\n",
    "        \n",
    "        if not bot_issue_path.joinpath('json').exists():    \n",
    "            full_issue = gh_api.get_issue_info(issue['number'], owner, project)  \n",
    "            bot_issue_path.mkdir(parents=True, exist_ok=True)\n",
    "            with open(bot_issue_path.joinpath('json'), 'w') as f:\n",
    "                json.dump(full_issue, f)\n",
    "\n",
    "        clear_output()\n",
    "        logging.info(f\"{bot['account']}: {cnt} of {bot['issue_count']}\")\n",
    "        cnt += 1"
   ]
  },
  {
   "cell_type": "markdown",
   "id": "b99eec13",
   "metadata": {},
   "source": [
    "## Step 4 - Download comments for each issue"
   ]
  },
  {
   "cell_type": "code",
   "execution_count": null,
   "id": "1c7b6f96",
   "metadata": {},
   "outputs": [],
   "source": [
    "from IPython.display import clear_output\n",
    "from minirig import GHRequests, load_csv_dataset\n",
    "import pandas as pd\n",
    "import json\n",
    "\n",
    "bot_dataset = load_csv_dataset(bots_dataset_path)\n",
    "gh_api = GHRequests(token=github_token,cache_dir=cache_dir_github)\n",
    "\n",
    "issues_errors = []\n",
    "\n",
    "for bot in bot_dataset:\n",
    "    cnt = 1\n",
    "    for issue in gh_api.get_issues_involving_user(bot['account']):\n",
    "        bot_issue_path = bots_issues_dir.joinpath(bot['account']).joinpath(issue['html_url'].replace('https://github.com/','')).joinpath('comments')\n",
    "        bot_issue_path.mkdir(parents=True, exist_ok=True)\n",
    "        owner, project = issue['repository_url'].replace('https://api.github.com/repos/', '').split('/')\n",
    "        comments = gh_api.get_comments_per_issue(issue['number'], owner, project, force = True)           \n",
    "        with open(bot_issue_path.joinpath('json'), 'w') as f:\n",
    "            json.dump(comments, f)\n",
    "        clear_output()\n",
    "        logging.info(f\"{bot['account']}: {cnt} of {bot['issue_count']}\")\n",
    "        print(bot_issue_path)\n",
    "        cnt += 1"
   ]
  },
  {
   "cell_type": "markdown",
   "id": "7f98aa33",
   "metadata": {},
   "source": [
    "## Step 5 - Creating Dataset"
   ]
  },
  {
   "cell_type": "code",
   "execution_count": null,
   "id": "a6f2d30c",
   "metadata": {
    "scrolled": true
   },
   "outputs": [],
   "source": [
    "from IPython.display import clear_output\n",
    "from minirig import GHRequests, load_csv_dataset, save_csv_dataset\n",
    "import pandas as pd\n",
    "import json\n",
    "from helpers import *\n",
    "    \n",
    "bot_dataset = load_csv_dataset(bots_dataset_path)\n",
    "gh_api = GHRequests(token=github_token,cache_dir=cache_dir_github)\n",
    "dataset_name = 'dataset-backup.csv'\n",
    "dataset = []  \n",
    "\n",
    "headers =['bot',\n",
    "            'owner',\n",
    "            'project',\n",
    "            'issue',\n",
    "            'text',\n",
    "            'type',\n",
    "            'author-login',\n",
    "            'open-date',\n",
    "            'state',\n",
    "            'close-date',\n",
    "            'closed-by',\n",
    "            'n-comments',\n",
    "            'td-label']\n",
    "\n",
    "\n",
    "for bot in bot_dataset:\n",
    "    cnt = 1\n",
    "    for issue in gh_api.get_issues_involving_user(bot['account']):\n",
    "        rows = []\n",
    "        owner, project = (issue['repository_url'].replace('https://api.github.com/repos/', '').split('/'))\n",
    "        issue_path = bots_issues_dir.joinpath(f\"{bot['account']}/{owner}/{project}/issues/{issue['number']}\")\n",
    "        with open(issue_path.joinpath('json'), 'r') as f:\n",
    "            issue_json = json.load(f)\n",
    "        rows.append(create_dataset_row(bot['account'], issue_json, text_section='body', is_comment=False, comment_number=None,owner=owner, project=project))\n",
    "        if issue['comments'] > 0:\n",
    "            with open(issue_path.joinpath('comments').joinpath('json'), 'r') as f:\n",
    "                comments = json.load(f)\n",
    "            for i,comment in enumerate(comments):\n",
    "                rows.append(create_dataset_row(bot['account'], comment, is_comment=True, comment_number=i, owner=owner, project=project))\n",
    "        dataset.extend(rows)\n",
    "        cnt += 1\n",
    "    save_csv_dataset(data=dataset,header=headers, filename = data_dir.joinpath(dataset_name))"
   ]
  },
  {
   "cell_type": "markdown",
   "id": "44fc35d9",
   "metadata": {},
   "source": [
    "## Step 6 - Labeling sections with [Li et al.](http://doi.org/10.1007/s10664-022-10128-3)'s Model "
   ]
  },
  {
   "cell_type": "code",
   "execution_count": null,
   "id": "327b85fb",
   "metadata": {},
   "outputs": [],
   "source": [
    "from IPython.display import clear_output\n",
    "from minirig import GHRequests, load_csv_dataset\n",
    "import pandas as pd\n",
    "import json\n",
    "from model_li2022_emse import *\n",
    "\n",
    "model1_li2022_emse = Model1_IssueTracker_Li2022_ESEM('../model/mode1-issue-tracker-li2022-emse/model1-issue-tracker-li2022-esem-weight_file.hdf5', \n",
    "                 '../model/mode1-issue-tracker-li2022-emse/model1-issue-tracker-li2022-esem-word_embedding_file.bin')\n",
    "\n",
    "issues_dataset = pd.read_csv('../data/dataset-backup.csv')"
   ]
  },
  {
   "cell_type": "code",
   "execution_count": null,
   "id": "6af58b7e",
   "metadata": {},
   "outputs": [],
   "source": [
    "issues_dataset['td-label-li-emse'] = '-'\n",
    "len_dataset = len(issues_dataset)\n",
    "for j, i in enumerate(issues_dataset.index):\n",
    "    issues_dataset['td-label'][i] = model1_li2022_emse.predict(str(issues_dataset['text'][i]))\n",
    "    clear_output()\n",
    "    log.info(f'Handling {i+1} out {len_dataset} lines')\n",
    "issues_dataset.to_csv('../data/dataset-labeled.csv')"
   ]
  },
  {
   "cell_type": "markdown",
   "id": "23cd2e6b",
   "metadata": {},
   "source": [
    "## Step 7 - Labeling sections with [Li et al.](http://doi.org/10.1109/TSE.2022.3224378)'s Model \n"
   ]
  },
  {
   "cell_type": "code",
   "execution_count": null,
   "id": "d61e62e0",
   "metadata": {},
   "outputs": [],
   "source": [
    "from IPython.display import clear_output\n",
    "from minirig import GHRequests, load_csv_dataset\n",
    "import pandas as pd\n",
    "import json\n",
    "from model_li2022_tse import *\n",
    "\n",
    "v = Model1_IssueTracker_Li2022_TSE('../model/satd-issue_mul.hdf5', '../model/fasttext_issue_300.bin')\n",
    "\n",
    "issues_dataset = pd.read_csv('../data/dataset-backup.csv')"
   ]
  },
  {
   "cell_type": "code",
   "execution_count": null,
   "id": "6ffda391",
   "metadata": {},
   "outputs": [],
   "source": [
    "issues_dataset['td-label-li-tse'] = '-'\n",
    "len_dataset = len(issues_dataset)\n",
    "for j, i in enumerate(issues_dataset.index):\n",
    "    issues_dataset['td-label'][i] = v.classify_prob_comment(issues_dataset['text'][i])\n",
    "    clear_output()\n",
    "    log.info(f'Handling {i+1} out {len_dataset} lines')"
   ]
  }
 ],
 "metadata": {
  "kernelspec": {
   "display_name": "Python 3 (ipykernel)",
   "language": "python",
   "name": "python3"
  },
  "language_info": {
   "codemirror_mode": {
    "name": "ipython",
    "version": 3
   },
   "file_extension": ".py",
   "mimetype": "text/x-python",
   "name": "python",
   "nbconvert_exporter": "python",
   "pygments_lexer": "ipython3",
   "version": "3.10.0"
  }
 },
 "nbformat": 4,
 "nbformat_minor": 5
}
