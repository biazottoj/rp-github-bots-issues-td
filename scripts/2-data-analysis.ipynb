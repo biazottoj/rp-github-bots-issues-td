{
 "cells": [
  {
   "cell_type": "markdown",
   "id": "9fde6bf9-1de5-4d8b-a0f7-5082aef0b72f",
   "metadata": {
    "jp-MarkdownHeadingCollapsed": true
   },
   "source": [
    "## Import Modules"
   ]
  },
  {
   "cell_type": "code",
   "execution_count": 1,
   "id": "66980c36-9c14-44ff-ad20-4719fa0a5b4e",
   "metadata": {},
   "outputs": [
    {
     "name": "stdout",
     "output_type": "stream",
     "text": [
      "Requirement already satisfied: pingouin in /opt/conda/lib/python3.10/site-packages (0.5.3)\n",
      "Requirement already satisfied: numpy>=1.19 in /opt/conda/lib/python3.10/site-packages (from pingouin) (1.23.5)\n",
      "Requirement already satisfied: scipy>=1.7 in /opt/conda/lib/python3.10/site-packages (from pingouin) (1.10.1)\n",
      "Requirement already satisfied: pandas>=1.0 in /opt/conda/lib/python3.10/site-packages (from pingouin) (2.0.1)\n",
      "Requirement already satisfied: matplotlib>=3.0.2 in /opt/conda/lib/python3.10/site-packages (from pingouin) (3.7.1)\n",
      "Requirement already satisfied: seaborn>=0.11 in /opt/conda/lib/python3.10/site-packages (from pingouin) (0.12.2)\n",
      "Requirement already satisfied: statsmodels>=0.13 in /opt/conda/lib/python3.10/site-packages (from pingouin) (0.14.0)\n",
      "Requirement already satisfied: scikit-learn in /opt/conda/lib/python3.10/site-packages (from pingouin) (1.3.2)\n",
      "Requirement already satisfied: pandas-flavor>=0.2.0 in /opt/conda/lib/python3.10/site-packages (from pingouin) (0.6.0)\n",
      "Requirement already satisfied: outdated in /opt/conda/lib/python3.10/site-packages (from pingouin) (0.2.2)\n",
      "Requirement already satisfied: tabulate in /opt/conda/lib/python3.10/site-packages (from pingouin) (0.9.0)\n",
      "Requirement already satisfied: contourpy>=1.0.1 in /opt/conda/lib/python3.10/site-packages (from matplotlib>=3.0.2->pingouin) (1.0.7)\n",
      "Requirement already satisfied: cycler>=0.10 in /opt/conda/lib/python3.10/site-packages (from matplotlib>=3.0.2->pingouin) (0.11.0)\n",
      "Requirement already satisfied: fonttools>=4.22.0 in /opt/conda/lib/python3.10/site-packages (from matplotlib>=3.0.2->pingouin) (4.39.4)\n",
      "Requirement already satisfied: kiwisolver>=1.0.1 in /opt/conda/lib/python3.10/site-packages (from matplotlib>=3.0.2->pingouin) (1.4.4)\n",
      "Requirement already satisfied: packaging>=20.0 in /opt/conda/lib/python3.10/site-packages (from matplotlib>=3.0.2->pingouin) (23.1)\n",
      "Requirement already satisfied: pillow>=6.2.0 in /opt/conda/lib/python3.10/site-packages (from matplotlib>=3.0.2->pingouin) (9.5.0)\n",
      "Requirement already satisfied: pyparsing>=2.3.1 in /opt/conda/lib/python3.10/site-packages (from matplotlib>=3.0.2->pingouin) (3.0.9)\n",
      "Requirement already satisfied: python-dateutil>=2.7 in /opt/conda/lib/python3.10/site-packages (from matplotlib>=3.0.2->pingouin) (2.8.2)\n",
      "Requirement already satisfied: pytz>=2020.1 in /opt/conda/lib/python3.10/site-packages (from pandas>=1.0->pingouin) (2023.3)\n",
      "Requirement already satisfied: tzdata>=2022.1 in /opt/conda/lib/python3.10/site-packages (from pandas>=1.0->pingouin) (2023.3)\n",
      "Requirement already satisfied: xarray in /opt/conda/lib/python3.10/site-packages (from pandas-flavor>=0.2.0->pingouin) (2023.10.1)\n",
      "Requirement already satisfied: patsy>=0.5.2 in /opt/conda/lib/python3.10/site-packages (from statsmodels>=0.13->pingouin) (0.5.3)\n",
      "Requirement already satisfied: setuptools>=44 in /opt/conda/lib/python3.10/site-packages (from outdated->pingouin) (67.7.2)\n",
      "Requirement already satisfied: littleutils in /opt/conda/lib/python3.10/site-packages (from outdated->pingouin) (0.2.2)\n",
      "Requirement already satisfied: requests in /opt/conda/lib/python3.10/site-packages (from outdated->pingouin) (2.30.0)\n",
      "Requirement already satisfied: joblib>=1.1.1 in /opt/conda/lib/python3.10/site-packages (from scikit-learn->pingouin) (1.2.0)\n",
      "Requirement already satisfied: threadpoolctl>=2.0.0 in /opt/conda/lib/python3.10/site-packages (from scikit-learn->pingouin) (3.2.0)\n",
      "Requirement already satisfied: six in /opt/conda/lib/python3.10/site-packages (from patsy>=0.5.2->statsmodels>=0.13->pingouin) (1.16.0)\n",
      "Requirement already satisfied: charset-normalizer<4,>=2 in /opt/conda/lib/python3.10/site-packages (from requests->outdated->pingouin) (3.1.0)\n",
      "Requirement already satisfied: idna<4,>=2.5 in /opt/conda/lib/python3.10/site-packages (from requests->outdated->pingouin) (3.4)\n",
      "Requirement already satisfied: urllib3<3,>=1.21.1 in /opt/conda/lib/python3.10/site-packages (from requests->outdated->pingouin) (1.26.15)\n",
      "Requirement already satisfied: certifi>=2017.4.17 in /opt/conda/lib/python3.10/site-packages (from requests->outdated->pingouin) (2023.5.7)\n"
     ]
    }
   ],
   "source": [
    "!pip install pingouin\n",
    "from pathlib import Path\n",
    "import pandas as pd\n",
    "import matplotlib.pyplot as plt\n",
    "import seaborn as sns\n",
    "import scipy.stats as stats\n",
    "from minirig import load_csv_dataset\n",
    "import pingouin as pg"
   ]
  },
  {
   "cell_type": "markdown",
   "id": "7b6422b4-d012-4f04-8033-fe6067c79e8c",
   "metadata": {
    "jp-MarkdownHeadingCollapsed": true
   },
   "source": [
    "## Global Variables"
   ]
  },
  {
   "cell_type": "code",
   "execution_count": 4,
   "id": "f45b446f-5043-4f8d-99f0-626fd566f216",
   "metadata": {},
   "outputs": [],
   "source": [
    "data_dir = Path('../data')\n",
    "cache_dir_github = data_dir.joinpath('github')\n",
    "bots_dataset_path = data_dir.joinpath('final-dataset.csv')\n",
    "bots_dataset_funcionality_path = data_dir.joinpath('bots-dataset-functionality.csv')\n",
    "tasks_df = pd.read_csv(bots_dataset_path)\n",
    "functionality_df = pd.read_csv(bots_dataset_funcionality_path)"
   ]
  },
  {
   "cell_type": "markdown",
   "id": "2ac061e8-c75b-4fcf-940a-423c96e8934f",
   "metadata": {
    "jp-MarkdownHeadingCollapsed": true
   },
   "source": [
    "## Demographics"
   ]
  },
  {
   "cell_type": "markdown",
   "id": "82e15901-2674-4b24-a4a8-3beb42d3fe95",
   "metadata": {},
   "source": [
    "### Distribution of bots per amount of issues"
   ]
  },
  {
   "cell_type": "code",
   "execution_count": 131,
   "id": "743ff307-b8e2-4cdb-a946-38c5cf8f1fc6",
   "metadata": {},
   "outputs": [
    {
     "data": {
      "image/png": "[encoded data removed]",
      "text/plain": [
       "<Figure size 640x480 with 2 Axes>"
      ]
     },
     "metadata": {},
     "output_type": "display_data"
    }
   ],
   "source": [
    "df['total_issues'] = df['total-issues-td'] + df['total-issues-non-td']\n",
    "\n",
    "sns.set_style(\"whitegrid\")\n",
    "\n",
    "# creating a figure composed of two matplotlib.Axes objects (ax_box and ax_hist)\n",
    "f, (ax_hist,ax_box) = plt.subplots(2, sharex=True, gridspec_kw={\"height_ratios\": (.80, .20)})\n",
    " \n",
    "# assigning a graph to each ax\n",
    "sns.histplot(data=df, x=\"total_issues\", ax=ax_hist, bins=int(max(df['total_issues'])/1500), color='dimgray')\n",
    "sns.boxplot(df[\"total_issues\"], orient=\"h\", ax=ax_box, color='darkgray')\n",
    "\n",
    "# Remove x axis name for the boxplot\n",
    "ax_box.set(xlabel='')\n",
    "ax_box.set(ylabel='')\n",
    "ax_hist.set(alpha=0)\n",
    "\n",
    "plt.xlim(min(df['total_issues']), max(df['total_issues']) + 1000)\n",
    "plt.ylim(1, )\n",
    "plt.savefig('../figures/distribution-of-bots-per-number-of-issues.pdf', bbox_inches='tight')"
   ]
  },
  {
   "cell_type": "markdown",
   "id": "c253d49b-a536-4581-b3b3-0ea080cfe8f4",
   "metadata": {},
   "source": [
    "### Bots per task"
   ]
  },
  {
   "cell_type": "code",
   "execution_count": null,
   "id": "ffacea8f-ba62-43aa-8b5f-bbad12a8edd7",
   "metadata": {},
   "outputs": [],
   "source": [
    "open = bots_df['create'].sum()\n",
    "close = bots_df['comment'].sum()\n",
    "comment = bots_df['close'].sum()\n",
    "plt.barh(y = [1, 2, 3], width=[comment, close, open])\n",
    "plt.rcParams[\"figure.figsize\"] = (6,1)\n",
    "\n",
    "plt.yticks([1,2,3], ['comment', 'close', 'open'])\n",
    "\n",
    "plt.savefig('../figures/amount-of-bots-per-task.pdf', bbox_inches='tight')\n",
    "\n"
   ]
  },
  {
   "cell_type": "code",
   "execution_count": 157,
   "id": "66d2bc4d-e004-4aef-998c-90cc3459ce72",
   "metadata": {},
   "outputs": [
    {
     "data": {
      "text/plain": [
       "664.0"
      ]
     },
     "execution_count": 157,
     "metadata": {},
     "output_type": "execute_result"
    }
   ],
   "source": [
    "df['total_issues'].median()"
   ]
  },
  {
   "cell_type": "markdown",
   "id": "27bbf817-42a6-4cf9-964c-822c6c964b10",
   "metadata": {
    "jp-MarkdownHeadingCollapsed": true
   },
   "source": [
    "## Intuition \\#1: *Bots open fewer issues documenting TD than not documenting TD.*"
   ]
  },
  {
   "cell_type": "markdown",
   "id": "2ccc75a8-813c-485f-be1b-342ba06562f0",
   "metadata": {},
   "source": [
    "#### 1.1. Selecting bots that open issues"
   ]
  },
  {
   "cell_type": "code",
   "execution_count": 208,
   "id": "1200c356-4324-45ba-bedf-5b5e166fa572",
   "metadata": {},
   "outputs": [
    {
     "data": {
      "text/plain": [
       "76"
      ]
     },
     "execution_count": 208,
     "metadata": {},
     "output_type": "execute_result"
    }
   ],
   "source": [
    "bots_open_issues = df.loc[(df['opened-satd'] >= 1) | (df['opened-non-satd'] >= 1)]\n",
    "len(bots_open_issues)"
   ]
  },
  {
   "cell_type": "markdown",
   "id": "35ad6379-acb6-4d22-9628-c9fa197c957c",
   "metadata": {},
   "source": [
    "#### 1.2. No normalization"
   ]
  },
  {
   "cell_type": "code",
   "execution_count": 132,
   "id": "8bc0addb-60a6-4fbc-9d20-04fb75917446",
   "metadata": {},
   "outputs": [
    {
     "data": {
      "text/html": [
       "<div>\n",
       "<style scoped>\n",
       "    .dataframe tbody tr th:only-of-type {\n",
       "        vertical-align: middle;\n",
       "    }\n",
       "\n",
       "    .dataframe tbody tr th {\n",
       "        vertical-align: top;\n",
       "    }\n",
       "\n",
       "    .dataframe thead th {\n",
       "        text-align: right;\n",
       "    }\n",
       "</style>\n",
       "<table border=\"1\" class=\"dataframe\">\n",
       "  <thead>\n",
       "    <tr style=\"text-align: right;\">\n",
       "      <th></th>\n",
       "      <th>U-val</th>\n",
       "      <th>alternative</th>\n",
       "      <th>p-val</th>\n",
       "      <th>RBC</th>\n",
       "      <th>CLES</th>\n",
       "    </tr>\n",
       "  </thead>\n",
       "  <tbody>\n",
       "    <tr>\n",
       "      <th>MWU</th>\n",
       "      <td>2157.0</td>\n",
       "      <td>less</td>\n",
       "      <td>0.00346</td>\n",
       "      <td>0.253116</td>\n",
       "      <td>0.626558</td>\n",
       "    </tr>\n",
       "  </tbody>\n",
       "</table>\n",
       "</div>"
      ],
      "text/plain": [
       "      U-val alternative    p-val       RBC      CLES\n",
       "MWU  2157.0        less  0.00346  0.253116  0.626558"
      ]
     },
     "execution_count": 132,
     "metadata": {},
     "output_type": "execute_result"
    }
   ],
   "source": [
    "results = pg.mwu(x=bots_open_issues['opened-satd'], \n",
    "                             y=bots_open_issues['opened-non-satd'], \n",
    "                             alternative='less',\n",
    "                             method='auto', \n",
    "                             nan_policy='raise')\n",
    "results"
   ]
  },
  {
   "cell_type": "markdown",
   "id": "027409a5-fef3-4dc8-ab41-8b0381f9224b",
   "metadata": {},
   "source": [
    "#### 1.3. Normalization by proportion"
   ]
  },
  {
   "cell_type": "code",
   "execution_count": 203,
   "id": "1660d864-0ffc-4ec3-bd99-545fb1948cfe",
   "metadata": {},
   "outputs": [
    {
     "data": {
      "text/html": [
       "<div>\n",
       "<style scoped>\n",
       "    .dataframe tbody tr th:only-of-type {\n",
       "        vertical-align: middle;\n",
       "    }\n",
       "\n",
       "    .dataframe tbody tr th {\n",
       "        vertical-align: top;\n",
       "    }\n",
       "\n",
       "    .dataframe thead th {\n",
       "        text-align: right;\n",
       "    }\n",
       "</style>\n",
       "<table border=\"1\" class=\"dataframe\">\n",
       "  <thead>\n",
       "    <tr style=\"text-align: right;\">\n",
       "      <th></th>\n",
       "      <th>U-val</th>\n",
       "      <th>alternative</th>\n",
       "      <th>p-val</th>\n",
       "      <th>RBC</th>\n",
       "      <th>CLES</th>\n",
       "    </tr>\n",
       "  </thead>\n",
       "  <tbody>\n",
       "    <tr>\n",
       "      <th>MWU</th>\n",
       "      <td>1614.0</td>\n",
       "      <td>less</td>\n",
       "      <td>0.000001</td>\n",
       "      <td>0.441136</td>\n",
       "      <td>0.720568</td>\n",
       "    </tr>\n",
       "  </tbody>\n",
       "</table>\n",
       "</div>"
      ],
      "text/plain": [
       "      U-val alternative     p-val       RBC      CLES\n",
       "MWU  1614.0        less  0.000001  0.441136  0.720568"
      ]
     },
     "execution_count": 203,
     "metadata": {},
     "output_type": "execute_result"
    }
   ],
   "source": [
    "results = pg.mwu(x=bots_open_issues['opened-satd-norm-bot'], \n",
    "                   y=bots_open_issues['opened-non-satd-norm-bot'], \n",
    "                   alternative='less',\n",
    "                   method='auto', \n",
    "                   nan_policy='raise')\n",
    "\n",
    "results"
   ]
  },
  {
   "cell_type": "markdown",
   "id": "72a962e4-8b9a-4bd3-810d-ef4db521bffd",
   "metadata": {},
   "source": [
    "#### 1.4. Normalization by population"
   ]
  },
  {
   "cell_type": "code",
   "execution_count": 204,
   "id": "d314012a-d06b-4c77-ba1d-0bbad2e5721a",
   "metadata": {},
   "outputs": [
    {
     "data": {
      "text/html": [
       "<div>\n",
       "<style scoped>\n",
       "    .dataframe tbody tr th:only-of-type {\n",
       "        vertical-align: middle;\n",
       "    }\n",
       "\n",
       "    .dataframe tbody tr th {\n",
       "        vertical-align: top;\n",
       "    }\n",
       "\n",
       "    .dataframe thead th {\n",
       "        text-align: right;\n",
       "    }\n",
       "</style>\n",
       "<table border=\"1\" class=\"dataframe\">\n",
       "  <thead>\n",
       "    <tr style=\"text-align: right;\">\n",
       "      <th></th>\n",
       "      <th>U-val</th>\n",
       "      <th>alternative</th>\n",
       "      <th>p-val</th>\n",
       "      <th>RBC</th>\n",
       "      <th>CLES</th>\n",
       "    </tr>\n",
       "  </thead>\n",
       "  <tbody>\n",
       "    <tr>\n",
       "      <th>MWU</th>\n",
       "      <td>2519.5</td>\n",
       "      <td>less</td>\n",
       "      <td>0.086673</td>\n",
       "      <td>0.127597</td>\n",
       "      <td>0.563798</td>\n",
       "    </tr>\n",
       "  </tbody>\n",
       "</table>\n",
       "</div>"
      ],
      "text/plain": [
       "      U-val alternative     p-val       RBC      CLES\n",
       "MWU  2519.5        less  0.086673  0.127597  0.563798"
      ]
     },
     "execution_count": 204,
     "metadata": {},
     "output_type": "execute_result"
    }
   ],
   "source": [
    "results = pg.mwu(x=bots_open_issues['opened-satd-norm-pop'], \n",
    "                             y=bots_open_issues['opened-non-satd-norm-pop'], \n",
    "                             alternative='less',\n",
    "                             method='auto', \n",
    "                             nan_policy='raise')\n",
    "results"
   ]
  },
  {
   "cell_type": "code",
   "execution_count": 184,
   "id": "03dcf4f4-2967-42b2-9afb-d37811b2228b",
   "metadata": {},
   "outputs": [
    {
     "data": {
      "text/html": [
       "<div>\n",
       "<style scoped>\n",
       "    .dataframe tbody tr th:only-of-type {\n",
       "        vertical-align: middle;\n",
       "    }\n",
       "\n",
       "    .dataframe tbody tr th {\n",
       "        vertical-align: top;\n",
       "    }\n",
       "\n",
       "    .dataframe thead th {\n",
       "        text-align: right;\n",
       "    }\n",
       "</style>\n",
       "<table border=\"1\" class=\"dataframe\">\n",
       "  <thead>\n",
       "    <tr style=\"text-align: right;\">\n",
       "      <th></th>\n",
       "      <th>U-val</th>\n",
       "      <th>alternative</th>\n",
       "      <th>p-val</th>\n",
       "      <th>RBC</th>\n",
       "      <th>CLES</th>\n",
       "    </tr>\n",
       "  </thead>\n",
       "  <tbody>\n",
       "    <tr>\n",
       "      <th>MWU</th>\n",
       "      <td>2519.5</td>\n",
       "      <td>greater</td>\n",
       "      <td>0.91391</td>\n",
       "      <td>0.127597</td>\n",
       "      <td>0.436202</td>\n",
       "    </tr>\n",
       "  </tbody>\n",
       "</table>\n",
       "</div>"
      ],
      "text/plain": [
       "      U-val alternative    p-val       RBC      CLES\n",
       "MWU  2519.5     greater  0.91391  0.127597  0.436202"
      ]
     },
     "execution_count": 184,
     "metadata": {},
     "output_type": "execute_result"
    }
   ],
   "source": [
    "results = pg.mwu(x=bots_open_issues['opened-satd-norm-pop'], \n",
    "                             y=bots_open_issues['opened-non-satd-norm-pop'], \n",
    "                             alternative='greater',\n",
    "                             method='auto', \n",
    "                             nan_policy='raise')\n",
    "results"
   ]
  },
  {
   "cell_type": "code",
   "execution_count": 185,
   "id": "1dfa0d71-fc9e-4558-a154-16f9a380b7e8",
   "metadata": {},
   "outputs": [
    {
     "data": {
      "text/html": [
       "<div>\n",
       "<style scoped>\n",
       "    .dataframe tbody tr th:only-of-type {\n",
       "        vertical-align: middle;\n",
       "    }\n",
       "\n",
       "    .dataframe tbody tr th {\n",
       "        vertical-align: top;\n",
       "    }\n",
       "\n",
       "    .dataframe thead th {\n",
       "        text-align: right;\n",
       "    }\n",
       "</style>\n",
       "<table border=\"1\" class=\"dataframe\">\n",
       "  <thead>\n",
       "    <tr style=\"text-align: right;\">\n",
       "      <th></th>\n",
       "      <th>U-val</th>\n",
       "      <th>alternative</th>\n",
       "      <th>p-val</th>\n",
       "      <th>RBC</th>\n",
       "      <th>CLES</th>\n",
       "    </tr>\n",
       "  </thead>\n",
       "  <tbody>\n",
       "    <tr>\n",
       "      <th>MWU</th>\n",
       "      <td>2519.5</td>\n",
       "      <td>two-sided</td>\n",
       "      <td>0.173346</td>\n",
       "      <td>0.127597</td>\n",
       "      <td>0.436202</td>\n",
       "    </tr>\n",
       "  </tbody>\n",
       "</table>\n",
       "</div>"
      ],
      "text/plain": [
       "      U-val alternative     p-val       RBC      CLES\n",
       "MWU  2519.5   two-sided  0.173346  0.127597  0.436202"
      ]
     },
     "execution_count": 185,
     "metadata": {},
     "output_type": "execute_result"
    }
   ],
   "source": [
    "results = pg.mwu(x=bots_open_issues['opened-satd-norm-pop'], \n",
    "                             y=bots_open_issues['opened-non-satd-norm-pop'], \n",
    "                             alternative='two-sided',\n",
    "                             method='auto', \n",
    "                             nan_policy='raise')\n",
    "results"
   ]
  },
  {
   "cell_type": "markdown",
   "id": "3e4c68d8-f069-4b7c-866f-443c57783e73",
   "metadata": {
    "jp-MarkdownHeadingCollapsed": true
   },
   "source": [
    "## Intuition \\#2: *Bots close fewer issues documenting TD than not documenting TD.*"
   ]
  },
  {
   "cell_type": "markdown",
   "id": "f0291b99-903b-41e8-b411-5879c95da254",
   "metadata": {},
   "source": [
    "#### Selecting bots that close issues"
   ]
  },
  {
   "cell_type": "code",
   "execution_count": 135,
   "id": "0ff34d94-1d5f-4259-966d-caecee3fd93a",
   "metadata": {},
   "outputs": [
    {
     "data": {
      "text/plain": [
       "79"
      ]
     },
     "execution_count": 135,
     "metadata": {},
     "output_type": "execute_result"
    }
   ],
   "source": [
    "bots_close_issues = df.loc[(df['closed-satd'] >= 1) | (df['closed-non-satd'] >= 1)]\n",
    "len(bots_close_issues)"
   ]
  },
  {
   "cell_type": "markdown",
   "id": "8d332025-6e7f-41e0-a716-1555ab4150fc",
   "metadata": {},
   "source": [
    "#### 2.1. No normalization"
   ]
  },
  {
   "cell_type": "code",
   "execution_count": 164,
   "id": "d0d4e099-45c1-428d-b0b6-585c275cc02b",
   "metadata": {},
   "outputs": [
    {
     "data": {
      "text/html": [
       "<div>\n",
       "<style scoped>\n",
       "    .dataframe tbody tr th:only-of-type {\n",
       "        vertical-align: middle;\n",
       "    }\n",
       "\n",
       "    .dataframe tbody tr th {\n",
       "        vertical-align: top;\n",
       "    }\n",
       "\n",
       "    .dataframe thead th {\n",
       "        text-align: right;\n",
       "    }\n",
       "</style>\n",
       "<table border=\"1\" class=\"dataframe\">\n",
       "  <thead>\n",
       "    <tr style=\"text-align: right;\">\n",
       "      <th></th>\n",
       "      <th>U-val</th>\n",
       "      <th>alternative</th>\n",
       "      <th>p-val</th>\n",
       "      <th>RBC</th>\n",
       "      <th>CLES</th>\n",
       "    </tr>\n",
       "  </thead>\n",
       "  <tbody>\n",
       "    <tr>\n",
       "      <th>MWU</th>\n",
       "      <td>2509.0</td>\n",
       "      <td>less</td>\n",
       "      <td>0.016715</td>\n",
       "      <td>0.195962</td>\n",
       "      <td>0.597981</td>\n",
       "    </tr>\n",
       "  </tbody>\n",
       "</table>\n",
       "</div>"
      ],
      "text/plain": [
       "      U-val alternative     p-val       RBC      CLES\n",
       "MWU  2509.0        less  0.016715  0.195962  0.597981"
      ]
     },
     "execution_count": 164,
     "metadata": {},
     "output_type": "execute_result"
    }
   ],
   "source": [
    "results = pg.mwu(x=bots_close_issues['closed-satd'], \n",
    "                 y=bots_close_issues['closed-non-satd'], \n",
    "                 alternative='less',\n",
    "                 method='auto', \n",
    "                 nan_policy='raise')\n",
    "\n",
    "results"
   ]
  },
  {
   "cell_type": "markdown",
   "id": "c7bfb1ef-58e4-4d05-9851-3975984410d9",
   "metadata": {},
   "source": [
    "#### 2.2.  Normalization by proportion"
   ]
  },
  {
   "cell_type": "code",
   "execution_count": 205,
   "id": "93a77939-24d9-41e6-be2a-89104a245ef6",
   "metadata": {},
   "outputs": [
    {
     "data": {
      "text/html": [
       "<div>\n",
       "<style scoped>\n",
       "    .dataframe tbody tr th:only-of-type {\n",
       "        vertical-align: middle;\n",
       "    }\n",
       "\n",
       "    .dataframe tbody tr th {\n",
       "        vertical-align: top;\n",
       "    }\n",
       "\n",
       "    .dataframe thead th {\n",
       "        text-align: right;\n",
       "    }\n",
       "</style>\n",
       "<table border=\"1\" class=\"dataframe\">\n",
       "  <thead>\n",
       "    <tr style=\"text-align: right;\">\n",
       "      <th></th>\n",
       "      <th>U-val</th>\n",
       "      <th>alternative</th>\n",
       "      <th>p-val</th>\n",
       "      <th>RBC</th>\n",
       "      <th>CLES</th>\n",
       "    </tr>\n",
       "  </thead>\n",
       "  <tbody>\n",
       "    <tr>\n",
       "      <th>MWU</th>\n",
       "      <td>1818.5</td>\n",
       "      <td>less</td>\n",
       "      <td>0.000003</td>\n",
       "      <td>0.417241</td>\n",
       "      <td>0.70862</td>\n",
       "    </tr>\n",
       "  </tbody>\n",
       "</table>\n",
       "</div>"
      ],
      "text/plain": [
       "      U-val alternative     p-val       RBC     CLES\n",
       "MWU  1818.5        less  0.000003  0.417241  0.70862"
      ]
     },
     "execution_count": 205,
     "metadata": {},
     "output_type": "execute_result"
    }
   ],
   "source": [
    "results = pg.mwu(x=bots_close_issues['closed-satd-norm-bot'], \n",
    "                 y=bots_close_issues['closed-non-satd-norm-bot'], \n",
    "                 alternative='less',\n",
    "                 method='auto', \n",
    "                 nan_policy='raise')\n",
    "results"
   ]
  },
  {
   "cell_type": "markdown",
   "id": "163fe288-3ac3-4718-93ee-6480f59860ff",
   "metadata": {},
   "source": [
    "#### 2.3. Normalization by population"
   ]
  },
  {
   "cell_type": "code",
   "execution_count": 200,
   "id": "cd76fd8b-72de-4985-9219-8d133e09c8a0",
   "metadata": {},
   "outputs": [
    {
     "data": {
      "text/html": [
       "<div>\n",
       "<style scoped>\n",
       "    .dataframe tbody tr th:only-of-type {\n",
       "        vertical-align: middle;\n",
       "    }\n",
       "\n",
       "    .dataframe tbody tr th {\n",
       "        vertical-align: top;\n",
       "    }\n",
       "\n",
       "    .dataframe thead th {\n",
       "        text-align: right;\n",
       "    }\n",
       "</style>\n",
       "<table border=\"1\" class=\"dataframe\">\n",
       "  <thead>\n",
       "    <tr style=\"text-align: right;\">\n",
       "      <th></th>\n",
       "      <th>U-val</th>\n",
       "      <th>alternative</th>\n",
       "      <th>p-val</th>\n",
       "      <th>RBC</th>\n",
       "      <th>CLES</th>\n",
       "    </tr>\n",
       "  </thead>\n",
       "  <tbody>\n",
       "    <tr>\n",
       "      <th>MWU</th>\n",
       "      <td>3478.0</td>\n",
       "      <td>less</td>\n",
       "      <td>0.893681</td>\n",
       "      <td>-0.114565</td>\n",
       "      <td>0.442718</td>\n",
       "    </tr>\n",
       "  </tbody>\n",
       "</table>\n",
       "</div>"
      ],
      "text/plain": [
       "      U-val alternative     p-val       RBC      CLES\n",
       "MWU  3478.0        less  0.893681 -0.114565  0.442718"
      ]
     },
     "execution_count": 200,
     "metadata": {},
     "output_type": "execute_result"
    }
   ],
   "source": [
    "results = pg.mwu(x=bots_close_issues['closed-satd-norm-pop'], \n",
    "                 y=bots_close_issues['closed-non-satd-norm-pop'], \n",
    "                 alternative='less',\n",
    "                 method='auto', \n",
    "                 nan_policy='raise')\n",
    "results"
   ]
  },
  {
   "cell_type": "code",
   "execution_count": 201,
   "id": "553d1556-9b59-4dd1-8743-8ef83bf5f591",
   "metadata": {},
   "outputs": [
    {
     "data": {
      "text/html": [
       "<div>\n",
       "<style scoped>\n",
       "    .dataframe tbody tr th:only-of-type {\n",
       "        vertical-align: middle;\n",
       "    }\n",
       "\n",
       "    .dataframe tbody tr th {\n",
       "        vertical-align: top;\n",
       "    }\n",
       "\n",
       "    .dataframe thead th {\n",
       "        text-align: right;\n",
       "    }\n",
       "</style>\n",
       "<table border=\"1\" class=\"dataframe\">\n",
       "  <thead>\n",
       "    <tr style=\"text-align: right;\">\n",
       "      <th></th>\n",
       "      <th>U-val</th>\n",
       "      <th>alternative</th>\n",
       "      <th>p-val</th>\n",
       "      <th>RBC</th>\n",
       "      <th>CLES</th>\n",
       "    </tr>\n",
       "  </thead>\n",
       "  <tbody>\n",
       "    <tr>\n",
       "      <th>MWU</th>\n",
       "      <td>3478.0</td>\n",
       "      <td>greater</td>\n",
       "      <td>0.106959</td>\n",
       "      <td>-0.114565</td>\n",
       "      <td>0.557282</td>\n",
       "    </tr>\n",
       "  </tbody>\n",
       "</table>\n",
       "</div>"
      ],
      "text/plain": [
       "      U-val alternative     p-val       RBC      CLES\n",
       "MWU  3478.0     greater  0.106959 -0.114565  0.557282"
      ]
     },
     "execution_count": 201,
     "metadata": {},
     "output_type": "execute_result"
    }
   ],
   "source": [
    "results = pg.mwu(x=bots_close_issues['closed-satd-norm-pop'], \n",
    "                 y= bots_close_issues['closed-non-satd-norm-pop'],\n",
    "                 alternative='greater',\n",
    "                 method='auto', \n",
    "                 nan_policy='raise')\n",
    "results"
   ]
  },
  {
   "cell_type": "code",
   "execution_count": 188,
   "id": "611e4e41-e05a-41fa-915e-af5cb07c21f1",
   "metadata": {},
   "outputs": [
    {
     "data": {
      "text/html": [
       "<div>\n",
       "<style scoped>\n",
       "    .dataframe tbody tr th:only-of-type {\n",
       "        vertical-align: middle;\n",
       "    }\n",
       "\n",
       "    .dataframe tbody tr th {\n",
       "        vertical-align: top;\n",
       "    }\n",
       "\n",
       "    .dataframe thead th {\n",
       "        text-align: right;\n",
       "    }\n",
       "</style>\n",
       "<table border=\"1\" class=\"dataframe\">\n",
       "  <thead>\n",
       "    <tr style=\"text-align: right;\">\n",
       "      <th></th>\n",
       "      <th>U-val</th>\n",
       "      <th>alternative</th>\n",
       "      <th>p-val</th>\n",
       "      <th>RBC</th>\n",
       "      <th>CLES</th>\n",
       "    </tr>\n",
       "  </thead>\n",
       "  <tbody>\n",
       "    <tr>\n",
       "      <th>MWU</th>\n",
       "      <td>3478.0</td>\n",
       "      <td>two-sided</td>\n",
       "      <td>0.213918</td>\n",
       "      <td>-0.114565</td>\n",
       "      <td>0.557282</td>\n",
       "    </tr>\n",
       "  </tbody>\n",
       "</table>\n",
       "</div>"
      ],
      "text/plain": [
       "      U-val alternative     p-val       RBC      CLES\n",
       "MWU  3478.0   two-sided  0.213918 -0.114565  0.557282"
      ]
     },
     "execution_count": 188,
     "metadata": {},
     "output_type": "execute_result"
    }
   ],
   "source": [
    "results = pg.mwu(x=bots_close_issues['closed-satd-norm-pop'], \n",
    "                 y=bots_close_issues['closed-non-satd-norm-pop'], \n",
    "                 alternative='two-sided',\n",
    "                 method='auto', \n",
    "                 nan_policy='raise')\n",
    "results"
   ]
  },
  {
   "cell_type": "markdown",
   "id": "f18654ac-9374-42fd-b4d5-fb3ae0189b62",
   "metadata": {
    "jp-MarkdownHeadingCollapsed": true
   },
   "source": [
    "## Intuition \\#3: *Bots comments in fewer issues documenting TD than in not documenting TD.*"
   ]
  },
  {
   "cell_type": "markdown",
   "id": "c0680b24-12b5-49b7-9979-2c0e2406ddd3",
   "metadata": {},
   "source": [
    "#### 3.1. Selecting bots that comment in issues"
   ]
  },
  {
   "cell_type": "code",
   "execution_count": 149,
   "id": "2c36a434-e79e-4577-a988-2844cd1b7f74",
   "metadata": {},
   "outputs": [
    {
     "data": {
      "text/plain": [
       "79"
      ]
     },
     "execution_count": 149,
     "metadata": {},
     "output_type": "execute_result"
    }
   ],
   "source": [
    "bots_comments_issues = df.loc[(df['comments-satd'] >= 1) | (df['comments-non-satd'] >= 1)]\n",
    "len(bots_close_issues)"
   ]
  },
  {
   "cell_type": "markdown",
   "id": "6e1ca659-d4aa-4614-997c-54e9a6adf8d6",
   "metadata": {},
   "source": [
    "#### 3.2. No normalization"
   ]
  },
  {
   "cell_type": "code",
   "execution_count": 153,
   "id": "36c6884f-2c07-450a-b84e-2b435a489097",
   "metadata": {},
   "outputs": [
    {
     "data": {
      "text/html": [
       "<div>\n",
       "<style scoped>\n",
       "    .dataframe tbody tr th:only-of-type {\n",
       "        vertical-align: middle;\n",
       "    }\n",
       "\n",
       "    .dataframe tbody tr th {\n",
       "        vertical-align: top;\n",
       "    }\n",
       "\n",
       "    .dataframe thead th {\n",
       "        text-align: right;\n",
       "    }\n",
       "</style>\n",
       "<table border=\"1\" class=\"dataframe\">\n",
       "  <thead>\n",
       "    <tr style=\"text-align: right;\">\n",
       "      <th></th>\n",
       "      <th>U-val</th>\n",
       "      <th>alternative</th>\n",
       "      <th>p-val</th>\n",
       "      <th>RBC</th>\n",
       "      <th>CLES</th>\n",
       "    </tr>\n",
       "  </thead>\n",
       "  <tbody>\n",
       "    <tr>\n",
       "      <th>MWU</th>\n",
       "      <td>3326.5</td>\n",
       "      <td>two-sided</td>\n",
       "      <td>0.000044</td>\n",
       "      <td>0.3347</td>\n",
       "      <td>0.33265</td>\n",
       "    </tr>\n",
       "  </tbody>\n",
       "</table>\n",
       "</div>"
      ],
      "text/plain": [
       "      U-val alternative     p-val     RBC     CLES\n",
       "MWU  3326.5   two-sided  0.000044  0.3347  0.33265"
      ]
     },
     "execution_count": 153,
     "metadata": {},
     "output_type": "execute_result"
    }
   ],
   "source": [
    "results = pg.mwu(x=bots_comments_issues['comments-satd'], \n",
    "                 y=bots_comments_issues['comments-non-satd'], \n",
    "                 alternative='two-sided',\n",
    "                 method='auto', \n",
    "                 nan_policy='raise')\n",
    "\n",
    "results"
   ]
  },
  {
   "cell_type": "markdown",
   "id": "27451982-8e16-4564-a617-f7c6fbd37b15",
   "metadata": {},
   "source": [
    "#### 3.3. Normalization per bot (proportion)"
   ]
  },
  {
   "cell_type": "code",
   "execution_count": 154,
   "id": "e82e74ac-32bb-4f15-8e1c-ace796196801",
   "metadata": {},
   "outputs": [
    {
     "data": {
      "text/html": [
       "<div>\n",
       "<style scoped>\n",
       "    .dataframe tbody tr th:only-of-type {\n",
       "        vertical-align: middle;\n",
       "    }\n",
       "\n",
       "    .dataframe tbody tr th {\n",
       "        vertical-align: top;\n",
       "    }\n",
       "\n",
       "    .dataframe thead th {\n",
       "        text-align: right;\n",
       "    }\n",
       "</style>\n",
       "<table border=\"1\" class=\"dataframe\">\n",
       "  <thead>\n",
       "    <tr style=\"text-align: right;\">\n",
       "      <th></th>\n",
       "      <th>U-val</th>\n",
       "      <th>alternative</th>\n",
       "      <th>p-val</th>\n",
       "      <th>RBC</th>\n",
       "      <th>CLES</th>\n",
       "    </tr>\n",
       "  </thead>\n",
       "  <tbody>\n",
       "    <tr>\n",
       "      <th>MWU</th>\n",
       "      <td>508.0</td>\n",
       "      <td>two-sided</td>\n",
       "      <td>5.053469e-28</td>\n",
       "      <td>0.8984</td>\n",
       "      <td>0.0508</td>\n",
       "    </tr>\n",
       "  </tbody>\n",
       "</table>\n",
       "</div>"
      ],
      "text/plain": [
       "     U-val alternative         p-val     RBC    CLES\n",
       "MWU  508.0   two-sided  5.053469e-28  0.8984  0.0508"
      ]
     },
     "execution_count": 154,
     "metadata": {},
     "output_type": "execute_result"
    }
   ],
   "source": [
    "results = pg.mwu(x=bots_comments_issues['comments-satd-norm-bot'], \n",
    "                 y=bots_comments_issues['comments-non-satd-norm-bot'], \n",
    "                 alternative='two-sided',\n",
    "                 method='auto', \n",
    "                 nan_policy='raise')\n",
    "results"
   ]
  },
  {
   "cell_type": "markdown",
   "id": "2700f1cf-17d1-4010-8934-41169e6dcaf9",
   "metadata": {},
   "source": [
    "#### 3.4. Normalization per population"
   ]
  },
  {
   "cell_type": "code",
   "execution_count": 206,
   "id": "1432da88-ce46-4af9-bcfd-bc623574a497",
   "metadata": {},
   "outputs": [
    {
     "data": {
      "text/html": [
       "<div>\n",
       "<style scoped>\n",
       "    .dataframe tbody tr th:only-of-type {\n",
       "        vertical-align: middle;\n",
       "    }\n",
       "\n",
       "    .dataframe tbody tr th {\n",
       "        vertical-align: top;\n",
       "    }\n",
       "\n",
       "    .dataframe thead th {\n",
       "        text-align: right;\n",
       "    }\n",
       "</style>\n",
       "<table border=\"1\" class=\"dataframe\">\n",
       "  <thead>\n",
       "    <tr style=\"text-align: right;\">\n",
       "      <th></th>\n",
       "      <th>U-val</th>\n",
       "      <th>alternative</th>\n",
       "      <th>p-val</th>\n",
       "      <th>RBC</th>\n",
       "      <th>CLES</th>\n",
       "    </tr>\n",
       "  </thead>\n",
       "  <tbody>\n",
       "    <tr>\n",
       "      <th>MWU</th>\n",
       "      <td>4629.5</td>\n",
       "      <td>two-sided</td>\n",
       "      <td>0.365957</td>\n",
       "      <td>0.0741</td>\n",
       "      <td>0.46295</td>\n",
       "    </tr>\n",
       "  </tbody>\n",
       "</table>\n",
       "</div>"
      ],
      "text/plain": [
       "      U-val alternative     p-val     RBC     CLES\n",
       "MWU  4629.5   two-sided  0.365957  0.0741  0.46295"
      ]
     },
     "execution_count": 206,
     "metadata": {},
     "output_type": "execute_result"
    }
   ],
   "source": [
    "results = pg.mwu(x=bots_comments_issues['comments-satd-norm-pop'], \n",
    "                 y=bots_comments_issues['comments-non-satd-norm-pop'],\n",
    "                 alternative='two-sided',\n",
    "                 method='auto', \n",
    "                 nan_policy='raise')\n",
    "results"
   ]
  },
  {
   "cell_type": "code",
   "execution_count": 207,
   "id": "70b39990-6624-4e7e-aa4f-e15b8a35e29b",
   "metadata": {},
   "outputs": [
    {
     "data": {
      "text/html": [
       "<div>\n",
       "<style scoped>\n",
       "    .dataframe tbody tr th:only-of-type {\n",
       "        vertical-align: middle;\n",
       "    }\n",
       "\n",
       "    .dataframe tbody tr th {\n",
       "        vertical-align: top;\n",
       "    }\n",
       "\n",
       "    .dataframe thead th {\n",
       "        text-align: right;\n",
       "    }\n",
       "</style>\n",
       "<table border=\"1\" class=\"dataframe\">\n",
       "  <thead>\n",
       "    <tr style=\"text-align: right;\">\n",
       "      <th></th>\n",
       "      <th>U-val</th>\n",
       "      <th>alternative</th>\n",
       "      <th>p-val</th>\n",
       "      <th>RBC</th>\n",
       "      <th>CLES</th>\n",
       "    </tr>\n",
       "  </thead>\n",
       "  <tbody>\n",
       "    <tr>\n",
       "      <th>MWU</th>\n",
       "      <td>4629.5</td>\n",
       "      <td>less</td>\n",
       "      <td>0.182978</td>\n",
       "      <td>0.0741</td>\n",
       "      <td>0.53705</td>\n",
       "    </tr>\n",
       "  </tbody>\n",
       "</table>\n",
       "</div>"
      ],
      "text/plain": [
       "      U-val alternative     p-val     RBC     CLES\n",
       "MWU  4629.5        less  0.182978  0.0741  0.53705"
      ]
     },
     "execution_count": 207,
     "metadata": {},
     "output_type": "execute_result"
    }
   ],
   "source": [
    "results = pg.mwu(x=bots_comments_issues['comments-satd-norm-pop'], \n",
    "                 y=bots_comments_issues['comments-non-satd-norm-pop'],\n",
    "                 alternative='less',\n",
    "                 method='auto', \n",
    "                 nan_policy='raise')\n",
    "results"
   ]
  },
  {
   "cell_type": "code",
   "execution_count": 197,
   "id": "7be25135-7209-4dba-b98e-9fe886eff447",
   "metadata": {},
   "outputs": [
    {
     "data": {
      "text/html": [
       "<div>\n",
       "<style scoped>\n",
       "    .dataframe tbody tr th:only-of-type {\n",
       "        vertical-align: middle;\n",
       "    }\n",
       "\n",
       "    .dataframe tbody tr th {\n",
       "        vertical-align: top;\n",
       "    }\n",
       "\n",
       "    .dataframe thead th {\n",
       "        text-align: right;\n",
       "    }\n",
       "</style>\n",
       "<table border=\"1\" class=\"dataframe\">\n",
       "  <thead>\n",
       "    <tr style=\"text-align: right;\">\n",
       "      <th></th>\n",
       "      <th>U-val</th>\n",
       "      <th>alternative</th>\n",
       "      <th>p-val</th>\n",
       "      <th>RBC</th>\n",
       "      <th>CLES</th>\n",
       "    </tr>\n",
       "  </thead>\n",
       "  <tbody>\n",
       "    <tr>\n",
       "      <th>MWU</th>\n",
       "      <td>4629.5</td>\n",
       "      <td>greater</td>\n",
       "      <td>0.817669</td>\n",
       "      <td>0.0741</td>\n",
       "      <td>0.46295</td>\n",
       "    </tr>\n",
       "  </tbody>\n",
       "</table>\n",
       "</div>"
      ],
      "text/plain": [
       "      U-val alternative     p-val     RBC     CLES\n",
       "MWU  4629.5     greater  0.817669  0.0741  0.46295"
      ]
     },
     "execution_count": 197,
     "metadata": {},
     "output_type": "execute_result"
    }
   ],
   "source": [
    "results = pg.mwu(x=bots_comments_issues['comments-satd-norm-pop'], \n",
    "                 y=bots_comments_issues['comments-non-satd-norm-pop'],\n",
    "                 alternative='greater',\n",
    "                 method='auto', \n",
    "                 nan_policy='raise')\n",
    "results"
   ]
  },
  {
   "cell_type": "markdown",
   "id": "dcf71a6d-daad-44e9-837b-2eff31dd68ef",
   "metadata": {},
   "source": [
    "## 4. Check bots' functionality"
   ]
  },
  {
   "cell_type": "code",
   "execution_count": 5,
   "id": "0b12f8cc-0e61-4852-843a-df3108642e3f",
   "metadata": {},
   "outputs": [],
   "source": [
    "merged_bots_df = tasks_df.merge(functionality_df, left_on='bot', right_on='account')"
   ]
  },
  {
   "cell_type": "code",
   "execution_count": 6,
   "id": "780766f8-3516-4419-a18d-180672f49697",
   "metadata": {},
   "outputs": [
    {
     "data": {
      "text/plain": [
       "Index(['bot', 'opened-satd', 'opened-non-satd', 'closed-satd',\n",
       "       'closed-non-satd', 'comments-satd', 'comments-non-satd',\n",
       "       'total-issues-td', 'total-issues-non-td', 'opened-satd-norm-bot',\n",
       "       'opened-non-satd-norm-bot', 'closed-satd-norm-bot',\n",
       "       'closed-non-satd-norm-bot', 'comments-satd-norm-bot',\n",
       "       'comments-non-satd-norm-bot', 'opened-satd-norm-pop',\n",
       "       'opened-non-satd-norm-pop', 'closed-satd-norm-pop',\n",
       "       'closed-non-satd-norm-pop', 'comments-satd-norm-pop',\n",
       "       'comments-non-satd-norm-pop', 'account', 'issue_count', 'n-projects',\n",
       "       'issues-opening', 'issues-closing', 'n-comments', 'issues-commenting',\n",
       "       'functionality-descriptive', 'issues-analyzed', 'create', 'comment',\n",
       "       'label', 'close', 'trigger-automated', 'trigger-manual', 'trigger-both',\n",
       "       'other-remarks', 'assign', 'completed', 'is-bot', 'merge-pr',\n",
       "       'create-milestone', 'reopen', 'lock', 'functionality-group'],\n",
       "      dtype='object')"
      ]
     },
     "execution_count": 6,
     "metadata": {},
     "output_type": "execute_result"
    }
   ],
   "source": [
    "merged_bots_df.keys()"
   ]
  },
  {
   "cell_type": "code",
   "execution_count": 7,
   "id": "174a308c-450e-4d50-96a2-a0f1066c5237",
   "metadata": {},
   "outputs": [],
   "source": [
    "df = merged_bots_df.loc[:,['bot', 'account', 'opened-satd', 'closed-satd', 'comments-satd', 'opened-non-satd', 'closed-non-satd', 'comments-non-satd', 'functionality-descriptive']]"
   ]
  },
  {
   "cell_type": "code",
   "execution_count": 19,
   "id": "c12cc09e-c354-44f4-9b8f-118245950902",
   "metadata": {},
   "outputs": [],
   "source": [
    "opened_issues = df.loc[:,['bot', 'functionality-descriptive', 'opened-satd', 'opened-non-satd','closed-satd', 'closed-non-satd', 'comments-satd', 'comments-non-satd']]\n",
    "opened_issues['functionality-open'] = '-'\n",
    "opened_issues['functionality-close'] = '-'\n",
    "opened_issues['functionality-comments'] = '-'\n",
    "\n",
    "opened_issues.to_csv(data_dir.joinpath(\"coding-functionality\").joinpath(\"functionality.csv\"))"
   ]
  },
  {
   "cell_type": "code",
   "execution_count": 14,
   "id": "6cba059a-b26d-4723-bc4a-77d45c18dd75",
   "metadata": {},
   "outputs": [],
   "source": [
    "close_issues = df.loc[(df['closed-satd'] >= 1) | (df['closed-non-satd'] >= 1), ['bot', 'functionality-descriptive']]\n",
    "close_issues['functionality-close'] = '-'\n",
    "\n",
    "close_issues.to_csv(data_dir.joinpath(\"coding-functionality\").joinpath(\"close-issues-functionality.csv\"))"
   ]
  },
  {
   "cell_type": "code",
   "execution_count": 15,
   "id": "278af381-0440-4a3e-b8dc-01d035573661",
   "metadata": {},
   "outputs": [],
   "source": [
    "comments_issues = df.loc[(df['comments-satd'] >= 1) | (df['comments-non-satd'] >= 1), ['bot', 'functionality-descriptive']]\n",
    "comments_issues['functionality-close'] = '-'\n",
    "\n",
    "comments_issues.to_csv(data_dir.joinpath(\"coding-functionality\").joinpath(\"comments-issues-functionality.csv\"))"
   ]
  },
  {
   "cell_type": "code",
   "execution_count": null,
   "id": "957bdb39-cfa0-4290-adf9-083cf911d1ff",
   "metadata": {},
   "outputs": [],
   "source": []
  }
 ],
 "metadata": {
  "kernelspec": {
   "display_name": "Python 3 (ipykernel)",
   "language": "python",
   "name": "python3"
  },
  "language_info": {
   "codemirror_mode": {
    "name": "ipython",
    "version": 3
   },
   "file_extension": ".py",
   "mimetype": "text/x-python",
   "name": "python",
   "nbconvert_exporter": "python",
   "pygments_lexer": "ipython3",
   "version": "3.10.0"
  }
 },
 "nbformat": 4,
 "nbformat_minor": 5
}
