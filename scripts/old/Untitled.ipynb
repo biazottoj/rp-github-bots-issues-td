{
 "cells": [
  {
   "cell_type": "code",
   "execution_count": 6,
   "id": "bf96c144-5ce5-4179-9b79-1fffe1087f7c",
   "metadata": {},
   "outputs": [],
   "source": [
    "from pathlib import Path\n",
    "\n",
    "data_dir = Path('../data')\n",
    "bots_dataset_path = data_dir.joinpath('bots-dataset.csv')\n",
    "bots_issues_dir = data_dir.joinpath('bots-issues')\n",
    "projects_dataset_path = data_dir.joinpath('projects-dataset.csv')\n",
    "issues_bots_datasets_dir = data_dir.joinpath('datasets-per-bot')"
   ]
  },
  {
   "cell_type": "code",
   "execution_count": 7,
   "id": "d037d9d5-24a5-43b0-ac7c-0d62edfae8a6",
   "metadata": {},
   "outputs": [],
   "source": [
    "import pandas as pd\n",
    "\n",
    "bots_df = pd.read_csv(bots_dataset_path)"
   ]
  },
  {
   "cell_type": "code",
   "execution_count": 45,
   "id": "f9ca0959-bd1f-4445-b372-000840c0cefa",
   "metadata": {},
   "outputs": [
    {
     "data": {
      "text/html": [
       "<div>\n",
       "<style scoped>\n",
       "    .dataframe tbody tr th:only-of-type {\n",
       "        vertical-align: middle;\n",
       "    }\n",
       "\n",
       "    .dataframe tbody tr th {\n",
       "        vertical-align: top;\n",
       "    }\n",
       "\n",
       "    .dataframe thead th {\n",
       "        text-align: right;\n",
       "    }\n",
       "</style>\n",
       "<table border=\"1\" class=\"dataframe\">\n",
       "  <thead>\n",
       "    <tr style=\"text-align: right;\">\n",
       "      <th></th>\n",
       "      <th>account</th>\n",
       "      <th>issue_count</th>\n",
       "      <th>n-projects</th>\n",
       "    </tr>\n",
       "  </thead>\n",
       "  <tbody>\n",
       "    <tr>\n",
       "      <th>0</th>\n",
       "      <td>glassfishrobot</td>\n",
       "      <td>56400</td>\n",
       "      <td>125.0</td>\n",
       "    </tr>\n",
       "    <tr>\n",
       "      <th>1</th>\n",
       "      <td>k8s-ci-robot</td>\n",
       "      <td>52160</td>\n",
       "      <td>76.0</td>\n",
       "    </tr>\n",
       "    <tr>\n",
       "      <th>2</th>\n",
       "      <td>brotherlogic</td>\n",
       "      <td>37635</td>\n",
       "      <td>139.0</td>\n",
       "    </tr>\n",
       "    <tr>\n",
       "      <th>3</th>\n",
       "      <td>fejta-bot</td>\n",
       "      <td>34736</td>\n",
       "      <td>224.0</td>\n",
       "    </tr>\n",
       "    <tr>\n",
       "      <th>4</th>\n",
       "      <td>gopherbot</td>\n",
       "      <td>27453</td>\n",
       "      <td>11.0</td>\n",
       "    </tr>\n",
       "    <tr>\n",
       "      <th>...</th>\n",
       "      <td>...</td>\n",
       "      <td>...</td>\n",
       "      <td>...</td>\n",
       "    </tr>\n",
       "    <tr>\n",
       "      <th>108</th>\n",
       "      <td>caicloud-bot</td>\n",
       "      <td>120</td>\n",
       "      <td>14.0</td>\n",
       "    </tr>\n",
       "    <tr>\n",
       "      <th>109</th>\n",
       "      <td>antv-bot</td>\n",
       "      <td>119</td>\n",
       "      <td>3.0</td>\n",
       "    </tr>\n",
       "    <tr>\n",
       "      <th>110</th>\n",
       "      <td>QacoBot</td>\n",
       "      <td>117</td>\n",
       "      <td>1.0</td>\n",
       "    </tr>\n",
       "    <tr>\n",
       "      <th>111</th>\n",
       "      <td>ApiaryBot</td>\n",
       "      <td>106</td>\n",
       "      <td>5.0</td>\n",
       "    </tr>\n",
       "    <tr>\n",
       "      <th>112</th>\n",
       "      <td>bors</td>\n",
       "      <td>101</td>\n",
       "      <td>40.0</td>\n",
       "    </tr>\n",
       "  </tbody>\n",
       "</table>\n",
       "<p>113 rows × 3 columns</p>\n",
       "</div>"
      ],
      "text/plain": [
       "            account  issue_count  n-projects\n",
       "0    glassfishrobot        56400       125.0\n",
       "1      k8s-ci-robot        52160        76.0\n",
       "2      brotherlogic        37635       139.0\n",
       "3         fejta-bot        34736       224.0\n",
       "4         gopherbot        27453        11.0\n",
       "..              ...          ...         ...\n",
       "108    caicloud-bot          120        14.0\n",
       "109        antv-bot          119         3.0\n",
       "110         QacoBot          117         1.0\n",
       "111       ApiaryBot          106         5.0\n",
       "112            bors          101        40.0\n",
       "\n",
       "[113 rows x 3 columns]"
      ]
     },
     "execution_count": 45,
     "metadata": {},
     "output_type": "execute_result"
    }
   ],
   "source": [
    "bots_100_issues_plus = bots_df.loc[bots_df['issue_count'] > 100]\n",
    "bots_100_issues_plus"
   ]
  },
  {
   "cell_type": "code",
   "execution_count": 42,
   "id": "585fccb7-0809-438b-9cc6-f723e0ceed45",
   "metadata": {},
   "outputs": [
    {
     "data": {
      "text/plain": [
       "441314"
      ]
     },
     "execution_count": 42,
     "metadata": {},
     "output_type": "execute_result"
    }
   ],
   "source": [
    "bots_100_issues_plus['issue_count'].sum()"
   ]
  },
  {
   "cell_type": "code",
   "execution_count": 43,
   "id": "9150c423-9b94-4da8-8a0c-abfae3c106ad",
   "metadata": {},
   "outputs": [
    {
     "data": {
      "text/plain": [
       "443900"
      ]
     },
     "execution_count": 43,
     "metadata": {},
     "output_type": "execute_result"
    }
   ],
   "source": [
    "bots_df['issue_count'].sum()"
   ]
  },
  {
   "cell_type": "code",
   "execution_count": 48,
   "id": "b227a0a2-9de3-4580-89be-9969464a1898",
   "metadata": {},
   "outputs": [
    {
     "name": "stdout",
     "output_type": "stream",
     "text": [
      "glassfishrobot - 56182 (remaining 218)\n",
      "k8s-ci-robot - 14529 (remaining 37631)\n",
      "fejta-bot - 34731 (remaining 5)\n",
      "cf-gitbot - 15106 (remaining 17)\n",
      "vaadin-bot - 2905 (remaining 9202)\n",
      "element-bot - 9990 (remaining 1067)\n",
      "swift-ci - 9989 (remaining 375)\n",
      "0crat - 9421 (remaining 109)\n",
      "gitcoinbot - 6885 (remaining 8)\n",
      "rultor - 5677 (remaining 519)\n",
      "babel-bot - 5514 (remaining 127)\n",
      "pyup-bot - 4170 (remaining 161)\n",
      "vue-bot - 3535 (remaining 8)\n",
      "webpack-bot - 3004 (remaining 4)\n",
      "spinnakerbot - 3005 (remaining 1)\n",
      "facebook-github-bot - 2803 (remaining 1)\n",
      "knative-prow-robot - 2212 (remaining 2)\n",
      "ks-ci-bot - 1425 (remaining 8)\n",
      "gitmate-bot - 1119 (remaining 1)\n",
      "hft-team-city - 940 (remaining 112)\n",
      "matticbot - 1046 (remaining 1)\n",
      "pirate-bot - 858 (remaining 8)\n",
      "kyma-bot - 847 (remaining 1)\n",
      "renovate-bot - 742 (remaining 13)\n",
      "balena-ci - 683 (remaining 1)\n",
      "knative-housekeeping-robot - 597 (remaining 1)\n",
      "atomist-bot - 571 (remaining 2)\n",
      "macaca-bot - 551 (remaining 1)\n",
      "codecov - 509 (remaining 1)\n",
      "sourcegraph-bot - 464 (remaining 1)\n",
      "nativescript-vue-bot - 462 (remaining 1)\n",
      "RealmBot - 415 (remaining 46)\n",
      "google-oss-robot - 379 (remaining 1)\n",
      "metal3-io-bot - 357 (remaining 13)\n",
      "stencila-ci - 330 (remaining 3)\n",
      "octokitbot - 286 (remaining 2)\n",
      "vscodebot - 243 (remaining 1)\n",
      "pull-bot - 206 (remaining 1)\n",
      "seabird-bot - 177 (remaining 9)\n",
      "greenkeeper - 168 (remaining 1)\n",
      "soloio-bot - 127 (remaining 5)\n",
      "stoplight-bot - 123 (remaining 1)\n",
      "\n",
      "==========\n",
      "354131\n"
     ]
    }
   ],
   "source": [
    "n_issues_total = 0\n",
    "for i in bots_100_issues_plus.index:\n",
    "    try:\n",
    "        bot_issue_df = pd.read_csv(issues_bots_datasets_dir.joinpath(f'{bots_100_issues_plus[\"account\"][i]}.csv'))\n",
    "    except:\n",
    "        continue\n",
    "\n",
    "    n_issues= bot_issue_df.loc[bot_issue_df[\"type\"].isin([\"title\"]),[\"issue\", \"td-label-li2022-emse\"]].groupby([\"td-label-li2022-emse\"]).count().sum()['issue']\n",
    "    n_issues_total += n_issues\n",
    "    if bots_100_issues_plus[\"issue_count\"][i] - n_issues > 0:\n",
    "        print(f'{bots_100_issues_plus[\"account\"][i]} - {n_issues} (remaining {bots_100_issues_plus[\"issue_count\"][i] - n_issues})')\n",
    "\n",
    "print('\\n==========')\n",
    "print(n_issues_total)"
   ]
  },
  {
   "cell_type": "code",
   "execution_count": 39,
   "id": "fec1eb66-3248-4e8f-bb7a-011cc658077b",
   "metadata": {},
   "outputs": [
    {
     "data": {
      "text/plain": [
       "101"
      ]
     },
     "execution_count": 39,
     "metadata": {},
     "output_type": "execute_result"
    }
   ],
   "source": [
    "bot_issue_df.loc[bot_issue_df[\"type\"].isin([\"title\", \"description\"]),[\"issue\", \"td-label-li2022-emse\"]].groupby([\"td-label-li2022-emse\"]).count().sum()['issue']"
   ]
  }
 ],
 "metadata": {
  "kernelspec": {
   "display_name": "Python 3 (ipykernel)",
   "language": "python",
   "name": "python3"
  },
  "language_info": {
   "codemirror_mode": {
    "name": "ipython",
    "version": 3
   },
   "file_extension": ".py",
   "mimetype": "text/x-python",
   "name": "python",
   "nbconvert_exporter": "python",
   "pygments_lexer": "ipython3",
   "version": "3.10.0"
  }
 },
 "nbformat": 4,
 "nbformat_minor": 5
}
