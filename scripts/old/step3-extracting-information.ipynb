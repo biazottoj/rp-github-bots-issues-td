{
 "cells": [
  {
   "cell_type": "markdown",
   "id": "c37ffa3e-c49e-493f-977a-e8261d46275b",
   "metadata": {},
   "source": [
    "## Setup logging"
   ]
  },
  {
   "cell_type": "code",
   "execution_count": 1,
   "id": "93fe97e1-6249-484d-aed9-6692803c6cba",
   "metadata": {},
   "outputs": [],
   "source": [
    "from IPython.display import clear_output\n",
    "import logging\n",
    "from ipylogging import DisplayHandler, HTMLFormatter\n",
    "\n",
    "handler = DisplayHandler()\n",
    "handler.setFormatter(HTMLFormatter())\n",
    "\n",
    "log = logging.getLogger()\n",
    "log.addHandler(handler)\n",
    "log.setLevel(logging.INFO)"
   ]
  },
  {
   "cell_type": "markdown",
   "id": "71955a1a-47a9-46b3-a755-ad228a7280c0",
   "metadata": {},
   "source": [
    "## Importing dataset and modules"
   ]
  },
  {
   "cell_type": "code",
   "execution_count": 2,
   "id": "6f49477f-a3e3-4f29-9067-ac9a40e3642f",
   "metadata": {},
   "outputs": [],
   "source": [
    "import pandas as pd\n",
    "import matplotlib.pyplot as plt\n",
    "import seaborn as sns\n",
    "from pathlib import Path\n",
    "from minirig import load_csv_dataset, save_csv_dataset\n",
    "import os\n",
    "import json\n",
    "\n",
    "data_dir = Path('../data')\n",
    "bots_dataset_path = data_dir.joinpath('bots-dataset.csv')\n",
    "bots_issues_dir = data_dir.joinpath('bots-issues')\n",
    "bot_dataset = load_csv_dataset(bots_dataset_path)\n",
    "projects_dataset_path = data_dir.joinpath('projects-dataset.csv')\n",
    "issues_bots_datasets_dir = data_dir.joinpath('datasets-per-bot')\n",
    "\n",
    "def plot_hist(data, x_label=\"\", y_label=\"\", title=\"\", bins=5):\n",
    "    # matplotlib histogram\n",
    "    plt.hist(data, color = 'blue', edgecolor = 'black', bins=bins)\n",
    "\n",
    "    # Add labels\n",
    "    plt.title(title)\n",
    "    plt.xlabel(x_label)\n",
    "    plt.ylabel(y_label)\n",
    "    plt.show()\n",
    "\n",
    "def get_issues_per_bot(issues_dir = None, bot = None):\n",
    "    for owner in os.listdir(issues_dir.joinpath(bot)):\n",
    "        for project in os.listdir(issues_dir.joinpath(bot).joinpath(owner)):\n",
    "            for issue in os.listdir(issues_dir.joinpath(bot).joinpath(owner).joinpath(project).joinpath('issues')):\n",
    "                issue_path = issues_dir.joinpath(bot).joinpath(owner).joinpath(project).joinpath('issues').joinpath(issue)\n",
    "                with open(issue_path.joinpath('json')) as f:\n",
    "                    yield [issue_path.joinpath('json'), json.load(f)]\n",
    "                \n",
    "    "
   ]
  },
  {
   "cell_type": "markdown",
   "id": "3e9455d7-a883-4edc-85f1-cc0c3cbe9029",
   "metadata": {},
   "source": [
    "## Filtering bots with few than 100 issues"
   ]
  },
  {
   "cell_type": "code",
   "execution_count": 3,
   "id": "19d3b488-0b12-4ab3-a9ad-4832a02b3072",
   "metadata": {},
   "outputs": [],
   "source": [
    "filtered_bots_dataset = [x for x in bot_dataset if x['issue_count'] != 'na' and int(x['issue_count']) >= 100]"
   ]
  },
  {
   "cell_type": "markdown",
   "id": "61e84cd8-f280-486f-b2fd-8c6b23d161de",
   "metadata": {},
   "source": [
    "## Creating CSV"
   ]
  },
  {
   "cell_type": "code",
   "execution_count": 12,
   "id": "22e4d6e7-8049-43c0-9055-134e8817fdae",
   "metadata": {},
   "outputs": [
    {
     "name": "stdout",
     "output_type": "stream",
     "text": [
      "../data/bots-issues/fire-bot/doughogan/testrepo/issues/1/comments/json\n"
     ]
    },
    {
     "data": {
      "text/html": [
       "<span style=\"font-weight: bold; color: green\">2023-05-31 16:43:20,799</span> [<span style=\"font-weight: bold; color: dodgerblue\">INFO</span>] Processing sectiong for fire-bot (11773)..."
      ],
      "text/plain": [
       "<IPython.core.display.HTML object>"
      ]
     },
     "metadata": {},
     "output_type": "display_data"
    },
    {
     "ename": "KeyError",
     "evalue": "'comments'",
     "output_type": "error",
     "traceback": [
      "\u001b[0;31m---------------------------------------------------------------------------\u001b[0m",
      "\u001b[0;31mKeyError\u001b[0m                                  Traceback (most recent call last)",
      "Cell \u001b[0;32mIn[12], line 40\u001b[0m\n\u001b[1;32m     37\u001b[0m     cnt \u001b[38;5;241m+\u001b[39m\u001b[38;5;241m=\u001b[39m \u001b[38;5;241m1\u001b[39m\n\u001b[1;32m     38\u001b[0m     \u001b[38;5;28;01mcontinue\u001b[39;00m\n\u001b[0;32m---> 40\u001b[0m row_1 \u001b[38;5;241m=\u001b[39m \u001b[43mcreate_dataset_row\u001b[49m\u001b[43m(\u001b[49m\u001b[43mbot\u001b[49m\u001b[43m[\u001b[49m\u001b[38;5;124;43m'\u001b[39;49m\u001b[38;5;124;43maccount\u001b[39;49m\u001b[38;5;124;43m'\u001b[39;49m\u001b[43m]\u001b[49m\u001b[43m,\u001b[49m\u001b[43m \u001b[49m\u001b[43missue_file\u001b[49m\u001b[43m,\u001b[49m\u001b[43m \u001b[49m\u001b[43mtext_section\u001b[49m\u001b[38;5;241;43m=\u001b[39;49m\u001b[38;5;124;43m'\u001b[39;49m\u001b[38;5;124;43mtitle\u001b[39;49m\u001b[38;5;124;43m'\u001b[39;49m\u001b[43m,\u001b[49m\u001b[43m \u001b[49m\u001b[43mis_comment\u001b[49m\u001b[38;5;241;43m=\u001b[39;49m\u001b[38;5;28;43;01mFalse\u001b[39;49;00m\u001b[43m,\u001b[49m\u001b[43m \u001b[49m\u001b[43mowner_project\u001b[49m\u001b[38;5;241;43m=\u001b[39;49m\u001b[43mowner_project\u001b[49m\u001b[43m)\u001b[49m\n\u001b[1;32m     41\u001b[0m dataset\u001b[38;5;241m.\u001b[39mappend(row_1)\n\u001b[1;32m     43\u001b[0m row_2 \u001b[38;5;241m=\u001b[39m create_dataset_row(bot[\u001b[38;5;124m'\u001b[39m\u001b[38;5;124maccount\u001b[39m\u001b[38;5;124m'\u001b[39m], issue_file, text_section\u001b[38;5;241m=\u001b[39m\u001b[38;5;124m'\u001b[39m\u001b[38;5;124mbody\u001b[39m\u001b[38;5;124m'\u001b[39m, is_comment\u001b[38;5;241m=\u001b[39m\u001b[38;5;28;01mFalse\u001b[39;00m, owner_project\u001b[38;5;241m=\u001b[39mowner_project)\n",
      "File \u001b[0;32m/workspace/scripts/helpers.py:14\u001b[0m, in \u001b[0;36mcreate_dataset_row\u001b[0;34m(bot, issue, text_section, is_comment, comment_number, owner_project)\u001b[0m\n\u001b[1;32m      6\u001b[0m \u001b[38;5;28;01mdef\u001b[39;00m \u001b[38;5;21mcreate_dataset_row\u001b[39m(bot, issue, text_section\u001b[38;5;241m=\u001b[39m\u001b[38;5;124m'\u001b[39m\u001b[38;5;124mtitle\u001b[39m\u001b[38;5;124m'\u001b[39m, is_comment\u001b[38;5;241m=\u001b[39m\u001b[38;5;28;01mFalse\u001b[39;00m, comment_number\u001b[38;5;241m=\u001b[39m\u001b[38;5;28;01mNone\u001b[39;00m, owner_project\u001b[38;5;241m=\u001b[39m\u001b[38;5;28;01mNone\u001b[39;00m): \n\u001b[1;32m      7\u001b[0m     \u001b[38;5;28;01mif\u001b[39;00m \u001b[38;5;129;01mnot\u001b[39;00m is_comment:\n\u001b[1;32m      8\u001b[0m         \u001b[38;5;28;01mreturn\u001b[39;00m {\n\u001b[1;32m      9\u001b[0m             \u001b[38;5;124m\"\u001b[39m\u001b[38;5;124mbot\u001b[39m\u001b[38;5;124m\"\u001b[39m:bot,\n\u001b[1;32m     10\u001b[0m             \u001b[38;5;124m'\u001b[39m\u001b[38;5;124mowner_project\u001b[39m\u001b[38;5;124m'\u001b[39m: owner_project,\n\u001b[1;32m     11\u001b[0m             \u001b[38;5;124m'\u001b[39m\u001b[38;5;124missue\u001b[39m\u001b[38;5;124m'\u001b[39m : \u001b[38;5;124m'\u001b[39m\u001b[38;5;124m-\u001b[39m\u001b[38;5;124m'\u001b[39m \u001b[38;5;28;01mif\u001b[39;00m \u001b[38;5;124m'\u001b[39m\u001b[38;5;124missue\u001b[39m\u001b[38;5;124m'\u001b[39m \u001b[38;5;129;01mnot\u001b[39;00m \u001b[38;5;129;01min\u001b[39;00m issue\u001b[38;5;241m.\u001b[39mkeys() \u001b[38;5;28;01melse\u001b[39;00m issue[\u001b[38;5;124m'\u001b[39m\u001b[38;5;124mnumber\u001b[39m\u001b[38;5;124m'\u001b[39m],\n\u001b[1;32m     12\u001b[0m             \u001b[38;5;124m'\u001b[39m\u001b[38;5;124mtext\u001b[39m\u001b[38;5;124m'\u001b[39m : \u001b[38;5;124m'\u001b[39m\u001b[38;5;124m-\u001b[39m\u001b[38;5;124m'\u001b[39m \u001b[38;5;28;01mif\u001b[39;00m \u001b[38;5;124m'\u001b[39m\u001b[38;5;124missue\u001b[39m\u001b[38;5;124m'\u001b[39m \u001b[38;5;129;01mnot\u001b[39;00m \u001b[38;5;129;01min\u001b[39;00m issue\u001b[38;5;241m.\u001b[39mkeys() \u001b[38;5;28;01melse\u001b[39;00m issue[text_section],\n\u001b[1;32m     13\u001b[0m             \u001b[38;5;124m'\u001b[39m\u001b[38;5;124mtype\u001b[39m\u001b[38;5;124m'\u001b[39m : text_section,\n\u001b[0;32m---> 14\u001b[0m             \u001b[38;5;124m'\u001b[39m\u001b[38;5;124mn-comments\u001b[39m\u001b[38;5;124m'\u001b[39m: \u001b[43missue\u001b[49m\u001b[43m[\u001b[49m\u001b[38;5;124;43m'\u001b[39;49m\u001b[38;5;124;43mcomments\u001b[39;49m\u001b[38;5;124;43m'\u001b[39;49m\u001b[43m]\u001b[49m,\n\u001b[1;32m     15\u001b[0m             \u001b[38;5;124m'\u001b[39m\u001b[38;5;124mauthor-login\u001b[39m\u001b[38;5;124m'\u001b[39m: issue[\u001b[38;5;124m'\u001b[39m\u001b[38;5;124muser\u001b[39m\u001b[38;5;124m'\u001b[39m][\u001b[38;5;124m'\u001b[39m\u001b[38;5;124mlogin\u001b[39m\u001b[38;5;124m'\u001b[39m],\n\u001b[1;32m     16\u001b[0m             \u001b[38;5;124m'\u001b[39m\u001b[38;5;124mopen-date\u001b[39m\u001b[38;5;124m'\u001b[39m:  issue[\u001b[38;5;124m'\u001b[39m\u001b[38;5;124mcreated_at\u001b[39m\u001b[38;5;124m'\u001b[39m],\n\u001b[1;32m     17\u001b[0m             \u001b[38;5;124m'\u001b[39m\u001b[38;5;124mstate\u001b[39m\u001b[38;5;124m'\u001b[39m : issue[\u001b[38;5;124m'\u001b[39m\u001b[38;5;124mstate\u001b[39m\u001b[38;5;124m'\u001b[39m],\n\u001b[1;32m     18\u001b[0m             \u001b[38;5;124m'\u001b[39m\u001b[38;5;124mclose-date\u001b[39m\u001b[38;5;124m'\u001b[39m: issue[\u001b[38;5;124m'\u001b[39m\u001b[38;5;124mclosed_at\u001b[39m\u001b[38;5;124m'\u001b[39m],\n\u001b[1;32m     19\u001b[0m             \u001b[38;5;124m'\u001b[39m\u001b[38;5;124mclosed-by\u001b[39m\u001b[38;5;124m'\u001b[39m: issue[\u001b[38;5;124m'\u001b[39m\u001b[38;5;124mclosed_by\u001b[39m\u001b[38;5;124m'\u001b[39m][\u001b[38;5;124m'\u001b[39m\u001b[38;5;124mlogin\u001b[39m\u001b[38;5;124m'\u001b[39m] \u001b[38;5;28;01mif\u001b[39;00m issue[\u001b[38;5;124m'\u001b[39m\u001b[38;5;124mclosed_by\u001b[39m\u001b[38;5;124m'\u001b[39m] \u001b[38;5;241m!=\u001b[39m \u001b[38;5;28;01mNone\u001b[39;00m \u001b[38;5;28;01melse\u001b[39;00m \u001b[38;5;124m'\u001b[39m\u001b[38;5;124m-\u001b[39m\u001b[38;5;124m'\u001b[39m,\n\u001b[1;32m     20\u001b[0m             \u001b[38;5;124m'\u001b[39m\u001b[38;5;124mtd-label-li2022-emse\u001b[39m\u001b[38;5;124m'\u001b[39m: \u001b[38;5;124m'\u001b[39m\u001b[38;5;124m-\u001b[39m\u001b[38;5;124m'\u001b[39m \u001b[38;5;28;01mif\u001b[39;00m \u001b[38;5;124m'\u001b[39m\u001b[38;5;124mtd-label-li2022-emse\u001b[39m\u001b[38;5;124m'\u001b[39m \u001b[38;5;129;01mnot\u001b[39;00m \u001b[38;5;129;01min\u001b[39;00m issue\u001b[38;5;241m.\u001b[39mkeys() \u001b[38;5;28;01melse\u001b[39;00m issue[\u001b[38;5;124m'\u001b[39m\u001b[38;5;124mtd-label-li2022-emse\u001b[39m\u001b[38;5;124m'\u001b[39m]\n\u001b[1;32m     21\u001b[0m         }\n\u001b[1;32m     23\u001b[0m     \u001b[38;5;28;01mreturn\u001b[39;00m {\n\u001b[1;32m     24\u001b[0m             \u001b[38;5;124m\"\u001b[39m\u001b[38;5;124mbot\u001b[39m\u001b[38;5;124m\"\u001b[39m:bot,\n\u001b[1;32m     25\u001b[0m             \u001b[38;5;124m'\u001b[39m\u001b[38;5;124mowner_project\u001b[39m\u001b[38;5;124m'\u001b[39m: owner_project,\n\u001b[0;32m   (...)\u001b[0m\n\u001b[1;32m     34\u001b[0m             \u001b[38;5;124m'\u001b[39m\u001b[38;5;124mtd-label-li2022-emse\u001b[39m\u001b[38;5;124m'\u001b[39m: \u001b[38;5;124m'\u001b[39m\u001b[38;5;124m-\u001b[39m\u001b[38;5;124m'\u001b[39m \u001b[38;5;28;01mif\u001b[39;00m \u001b[38;5;124m'\u001b[39m\u001b[38;5;124mtd-label-li2022-emse\u001b[39m\u001b[38;5;124m'\u001b[39m \u001b[38;5;129;01mnot\u001b[39;00m \u001b[38;5;129;01min\u001b[39;00m issue\u001b[38;5;241m.\u001b[39mkeys() \u001b[38;5;28;01melse\u001b[39;00m issue[\u001b[38;5;124m'\u001b[39m\u001b[38;5;124mtd-label-li2022-emse\u001b[39m\u001b[38;5;124m'\u001b[39m]\n\u001b[1;32m     35\u001b[0m         }\n",
      "\u001b[0;31mKeyError\u001b[0m: 'comments'"
     ]
    }
   ],
   "source": [
    "from helpers import *\n",
    "import csv\n",
    "import os\n",
    "\n",
    "def get_owner_project(path):\n",
    "    return f\"{split_path[4]}_{split_path[5]}\"\n",
    "    \n",
    "def get_issue_json(path):\n",
    "    try:\n",
    "        with open(path, 'r') as file:\n",
    "            return json.load(file)\n",
    "    except Exception as e:\n",
    "        return None\n",
    "\n",
    "project_data = {}\n",
    "for bot in filtered_bots_dataset:\n",
    "    cnt = 1\n",
    "    #if f\"{bot['account']}.csv\" in os.listdir(data_dir.joinpath('datasets-per-bot')) or bot['account'] == \"brotherlogic\":\n",
    "    if bot['account'] in ['gopherbot', 'glassfishrobot', 'k8s-ci-robot', 'fejta-bot', 'brotherlogic']: \n",
    "        continue\n",
    "    dataset = []\n",
    "    for path in bots_issues_dir.joinpath(bot['account']).rglob( '*json' ):\n",
    "        split_path = str(path).split('/')\n",
    "        issue_file = get_issue_json(path)        \n",
    "        if issue_file:\n",
    "            owner_project = get_owner_project(split_path)\n",
    "            if 'comments' in split_path:\n",
    "                for i, c in enumerate(issue_file):\n",
    "                    print(path)\n",
    "                    try:\n",
    "                        row = create_dataset_row(bot['account'], c, text_section='body', is_comment=True, comment_number=i, owner_project=owner_project)\n",
    "                    except:\n",
    "                        pass\n",
    "                    dataset.append(row)\n",
    "            else:\n",
    "                \n",
    "                row_1 = create_dataset_row(bot['account'], issue_file, text_section='title', is_comment=False, owner_project=owner_project)\n",
    "                dataset.append(row_1)\n",
    "    \n",
    "                row_2 = create_dataset_row(bot['account'], issue_file, text_section='body', is_comment=False, owner_project=owner_project)\n",
    "                dataset.append(row_2)\n",
    "            cnt += 1\n",
    "            clear_output()\n",
    "            print(path)\n",
    "            logging.info(f'Processing sectiong for {bot[\"account\"]} ({cnt})...')\n",
    "                \n",
    "    with open(data_dir.joinpath('datasets-per-bot').joinpath(f\"{bot['account']}.csv\"), 'w') as file:\n",
    "        clear_output()\n",
    "        logging.info(f'Writing csv file for {bot[\"account\"]}...')\n",
    "        fields = dataset[0].keys()\n",
    "        writer = csv.DictWriter(file, fieldnames = fields, escapechar='\\\\') \n",
    "        writer.writeheader() \n",
    "        writer.writerows(dataset)\n",
    "    logging.info('Finished...')"
   ]
  },
  {
   "cell_type": "markdown",
   "id": "71000467-493e-479b-9521-d9180e896aa0",
   "metadata": {},
   "source": [
    "## Extracting the the number of projects per bot"
   ]
  },
  {
   "cell_type": "code",
   "execution_count": null,
   "id": "9d608b2d-d358-4a1e-beba-1cdee0d2dc5e",
   "metadata": {},
   "outputs": [],
   "source": [
    "import pandas as pd\n",
    "bots_dataset = pd.read_csv(bots_dataset_path)\n",
    "bots_dataset.fillna(0, inplace=True)\n",
    "bots_dataset['issue_count'].replace('na', 0, inplace=True)\n",
    "bots_dataset.issue_count = pd.to_numeric(bots_dataset.issue_count, errors='coerce')\n",
    "filtered_bots = bots_dataset.loc[bots_dataset['issue_count'] >= 100]\n",
    "\n",
    "for i in filtered_bots.index:\n",
    "    bot = filtered_bots['account'][i]\n",
    "    print(bot)\n",
    "    if bot == \"brotherlogic\":\n",
    "        continue\n",
    "    bot_df = pd.read_csv(issues_bots_datasets_dir.joinpath(f'{bot}.csv'))\n",
    "    n_projects = len(bot_df.loc[:, ['td-label-li2022-emse', 'owner_project']].groupby('owner_project').count())\n",
    "    bots_dataset['n-projects'][i] = n_projects\n",
    "    bots_dataset.to_csv(bots_dataset_path, index=False)"
   ]
  },
  {
   "cell_type": "markdown",
   "id": "7d55b9ba-fbe4-4a07-8340-2b7f80319cd5",
   "metadata": {},
   "source": [
    "## Extracting the proportion of SATD per bot"
   ]
  },
  {
   "cell_type": "code",
   "execution_count": 86,
   "id": "06e20404-b23c-46b2-81e3-17960c8cbfd7",
   "metadata": {},
   "outputs": [
    {
     "data": {
      "text/plain": [
       "owner_project                                 issue  td-label-li2022-emse\n",
       "alwin-joseph_target-test-jsf-issue-migration  329    non-SATD                31\n",
       "                                              322    non-SATD                29\n",
       "                                              316    non-SATD                29\n",
       "                                              323    non-SATD                27\n",
       "                                              6      non-SATD                26\n",
       "                                                                             ..\n",
       "javaee_wadl                                   75     SATD                     2\n",
       "                                                     non-SATD                 2\n",
       "                                              34     SATD                     2\n",
       "                                              56     SATD                     2\n",
       "                                              53     SATD                     2\n",
       "Name: count, Length: 76887, dtype: int64"
      ]
     },
     "execution_count": 86,
     "metadata": {},
     "output_type": "execute_result"
    }
   ],
   "source": [
    "bot_df.loc[:,['owner_project', 'issue', 'td-label-li2022-emse']].groupby(['owner_project']).value_counts()"
   ]
  },
  {
   "cell_type": "code",
   "execution_count": 8,
   "id": "d6ac6fd9-c0fa-4f8b-aefa-f010cac3296e",
   "metadata": {},
   "outputs": [
    {
     "ename": "TypeError",
     "evalue": "'builtin_function_or_method' object is not iterable",
     "output_type": "error",
     "traceback": [
      "\u001b[0;31m---------------------------------------------------------------------------\u001b[0m",
      "\u001b[0;31mTypeError\u001b[0m                                 Traceback (most recent call last)",
      "Cell \u001b[0;32mIn[8], line 1\u001b[0m\n\u001b[0;32m----> 1\u001b[0m \u001b[38;5;28;01mfor\u001b[39;00m i \u001b[38;5;129;01min\u001b[39;00m filtered_bots_dataset\u001b[38;5;241m.\u001b[39mindex:\n\u001b[1;32m      2\u001b[0m     bot \u001b[38;5;241m=\u001b[39m filtered_bots[\u001b[38;5;124m'\u001b[39m\u001b[38;5;124maccount\u001b[39m\u001b[38;5;124m'\u001b[39m][i]\n\u001b[1;32m      3\u001b[0m     \u001b[38;5;28;01mif\u001b[39;00m bot \u001b[38;5;241m==\u001b[39m \u001b[38;5;124m\"\u001b[39m\u001b[38;5;124mbrotherlogic\u001b[39m\u001b[38;5;124m\"\u001b[39m:\n",
      "\u001b[0;31mTypeError\u001b[0m: 'builtin_function_or_method' object is not iterable"
     ]
    }
   ],
   "source": [
    "for i in filtered_bots_dataset.index:\n",
    "    bot = filtered_bots['account'][i]\n",
    "    if bot == \"brotherlogic\":\n",
    "        continue\n",
    "    bot_df = pd.read_csv(issues_bots_datasets_dir.joinpath(f'{bot}.csv'))\n",
    "    print(f\"{bot}: {len(bot_df.loc[bot_df['type'].str.contains('comment')])}\")"
   ]
  },
  {
   "cell_type": "code",
   "execution_count": 10,
   "id": "4056b972-2c92-4b1e-9f6d-965b180e2245",
   "metadata": {},
   "outputs": [
    {
     "data": {
      "text/plain": [
       "244245"
      ]
     },
     "execution_count": 10,
     "metadata": {},
     "output_type": "execute_result"
    }
   ],
   "source": [
    "len(dataset)"
   ]
  }
 ],
 "metadata": {
  "kernelspec": {
   "display_name": "Python 3 (ipykernel)",
   "language": "python",
   "name": "python3"
  },
  "language_info": {
   "codemirror_mode": {
    "name": "ipython",
    "version": 3
   },
   "file_extension": ".py",
   "mimetype": "text/x-python",
   "name": "python",
   "nbconvert_exporter": "python",
   "pygments_lexer": "ipython3",
   "version": "3.10.0"
  }
 },
 "nbformat": 4,
 "nbformat_minor": 5
}
