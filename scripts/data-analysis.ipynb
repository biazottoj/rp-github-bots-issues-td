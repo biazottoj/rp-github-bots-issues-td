{
 "cells": [
  {
   "cell_type": "markdown",
   "id": "2fb19ce6",
   "metadata": {},
   "source": [
    "## Importing dataset and modules"
   ]
  },
  {
   "cell_type": "code",
   "execution_count": 2,
   "id": "425149c9",
   "metadata": {
    "tags": []
   },
   "outputs": [],
   "source": [
    "import pandas as pd\n",
    "import matplotlib.pyplot as plt\n",
    "import seaborn as sns\n",
    "\n",
    "def plot_hist(data, x_label=\"\", y_label=\"\", title=\"\", bins=5):\n",
    "    # matplotlib histogram\n",
    "    plt.hist(data, color = 'blue', edgecolor = 'black', bins=bins)\n",
    "\n",
    "    # Add labels\n",
    "    plt.title(title)\n",
    "    plt.xlabel(x_label)\n",
    "    plt.ylabel(y_label)\n",
    "    plt.show()"
   ]
  },
  {
   "cell_type": "markdown",
   "id": "68999cf7-b351-47e7-8db2-0f72a8f61d00",
   "metadata": {
    "tags": []
   },
   "source": [
    "## Global variables"
   ]
  },
  {
   "cell_type": "code",
   "execution_count": 3,
   "id": "fce9d277-2406-4464-8f84-1578257dbf94",
   "metadata": {
    "tags": []
   },
   "outputs": [],
   "source": [
    "from pathlib import Path\n",
    "\n",
    "data_dir = Path('../data')\n",
    "cache_dir_github = data_dir.joinpath('github')\n",
    "bots_dataset_path = data_dir.joinpath('bots-dataset.csv')\n",
    "bots_issues_dir = data_dir.joinpath('bots-issues')\n",
    "labeled_csv = data_dir.joinpath('dataset-labeled.csv')"
   ]
  },
  {
   "cell_type": "code",
   "execution_count": null,
   "id": "6beb55dc-8aae-47f3-b869-590ddf7fa01e",
   "metadata": {},
   "outputs": [],
   "source": [
    "issues_dataset = pd.read_csv(labeled_csv)\n",
    "issues_dataset = issues_dataset.loc[issues_dataset['td-label'] != '-'].drop(['Unnamed: 0'], axis=1)"
   ]
  },
  {
   "cell_type": "markdown",
   "id": "d9e91ef9",
   "metadata": {},
   "source": [
    "## RQ0 - Demographics"
   ]
  },
  {
   "cell_type": "code",
   "execution_count": 3,
   "id": "5a2ead2c",
   "metadata": {
    "tags": []
   },
   "outputs": [
    {
     "name": "stdout",
     "output_type": "stream",
     "text": [
      "glassfishrobot: 5\n",
      "k8s-ci-robot: 43\n",
      "brotherlogic: 39\n",
      "fejta-bot: 30\n",
      "gopherbot: 2\n",
      "fire-bot: 133\n",
      "DartBot: 4\n",
      "cf-gitbot: 35\n"
     ]
    }
   ],
   "source": [
    "for b in issues_dataset['bot'].unique().tolist():\n",
    "    sections_per_bot = issues_dataset.loc[issues_dataset['bot'] == b]\n",
    "    projects = [f'{sections_per_bot[\"owner\"][i]}_{sections_per_bot[\"project\"][i]}' for i in sections_per_bot.index]\n",
    "    print(f'{b}: {len(set(projects))}')"
   ]
  },
  {
   "cell_type": "code",
   "execution_count": 5,
   "id": "ccebe976-9d3c-4200-bb7a-a8afb9a4d45d",
   "metadata": {
    "tags": []
   },
   "outputs": [],
   "source": [
    "from minirig import load_csv_dataset\n",
    "\n",
    "bots_dataset = load_csv_dataset(bots_dataset_path)"
   ]
  },
  {
   "cell_type": "code",
   "execution_count": 15,
   "id": "ea86515d-ad5f-40b6-a4d8-b094e4031704",
   "metadata": {
    "tags": []
   },
   "outputs": [
    {
     "data": {
      "text/plain": [
       "113"
      ]
     },
     "execution_count": 15,
     "metadata": {},
     "output_type": "execute_result"
    }
   ],
   "source": [
    "len([b for b in bots_dataset if b['issue_count'] != \"na\" and int(b['issue_count']) >= 100])"
   ]
  },
  {
   "cell_type": "code",
   "execution_count": 18,
   "id": "81b830d7-8c6f-4331-b9d6-c3264c27208d",
   "metadata": {
    "tags": []
   },
   "outputs": [
    {
     "data": {
      "text/plain": [
       "99.41743635954043"
      ]
     },
     "execution_count": 18,
     "metadata": {},
     "output_type": "execute_result"
    }
   ],
   "source": [
    "s = sum([int(b['issue_count']) for b in bots_dataset if b['issue_count'] != \"na\" and int(b['issue_count']) >= 100])\n",
    "\n",
    "st = sum([int(b['issue_count']) for b in bots_dataset if b['issue_count'] != \"na\"])\n",
    "\n",
    "s/st*100"
   ]
  },
  {
   "cell_type": "markdown",
   "id": "56b311a2",
   "metadata": {},
   "source": [
    "## RQ1 - What is the proportion of sections with TD in issues that involves bots?"
   ]
  },
  {
   "cell_type": "code",
   "execution_count": 4,
   "id": "f63465b2",
   "metadata": {
    "tags": []
   },
   "outputs": [
    {
     "data": {
      "text/plain": [
       "0.07675897681280779"
      ]
     },
     "execution_count": 4,
     "metadata": {},
     "output_type": "execute_result"
    }
   ],
   "source": [
    "#Propoprtion in the whole dataset\n",
    "sections_with_td = issues_dataset.loc[issues_dataset['td-label'] != 'non-SATD']\n",
    "len(sections_with_td)/len(issues_dataset)"
   ]
  },
  {
   "cell_type": "code",
   "execution_count": 5,
   "id": "4df281c1",
   "metadata": {
    "tags": []
   },
   "outputs": [
    {
     "data": {
      "image/png": "[encoded data removed]",
      "text/plain": [
       "<Figure size 640x480 with 1 Axes>"
      ]
     },
     "metadata": {},
     "output_type": "display_data"
    },
    {
     "data": {
      "text/html": [
       "<div>\n",
       "<style scoped>\n",
       "    .dataframe tbody tr th:only-of-type {\n",
       "        vertical-align: middle;\n",
       "    }\n",
       "\n",
       "    .dataframe tbody tr th {\n",
       "        vertical-align: top;\n",
       "    }\n",
       "\n",
       "    .dataframe thead th {\n",
       "        text-align: right;\n",
       "    }\n",
       "</style>\n",
       "<table border=\"1\" class=\"dataframe\">\n",
       "  <thead>\n",
       "    <tr style=\"text-align: right;\">\n",
       "      <th></th>\n",
       "      <th>issue</th>\n",
       "    </tr>\n",
       "    <tr>\n",
       "      <th>bot</th>\n",
       "      <th></th>\n",
       "    </tr>\n",
       "  </thead>\n",
       "  <tbody>\n",
       "    <tr>\n",
       "      <th>DartBot</th>\n",
       "      <td>0.066687</td>\n",
       "    </tr>\n",
       "    <tr>\n",
       "      <th>brotherlogic</th>\n",
       "      <td>0.000779</td>\n",
       "    </tr>\n",
       "    <tr>\n",
       "      <th>cf-gitbot</th>\n",
       "      <td>0.098955</td>\n",
       "    </tr>\n",
       "    <tr>\n",
       "      <th>fejta-bot</th>\n",
       "      <td>0.115165</td>\n",
       "    </tr>\n",
       "    <tr>\n",
       "      <th>fire-bot</th>\n",
       "      <td>0.099942</td>\n",
       "    </tr>\n",
       "    <tr>\n",
       "      <th>glassfishrobot</th>\n",
       "      <td>0.062729</td>\n",
       "    </tr>\n",
       "    <tr>\n",
       "      <th>gopherbot</th>\n",
       "      <td>0.053412</td>\n",
       "    </tr>\n",
       "    <tr>\n",
       "      <th>k8s-ci-robot</th>\n",
       "      <td>0.084082</td>\n",
       "    </tr>\n",
       "  </tbody>\n",
       "</table>\n",
       "</div>"
      ],
      "text/plain": [
       "                   issue\n",
       "bot                     \n",
       "DartBot         0.066687\n",
       "brotherlogic    0.000779\n",
       "cf-gitbot       0.098955\n",
       "fejta-bot       0.115165\n",
       "fire-bot        0.099942\n",
       "glassfishrobot  0.062729\n",
       "gopherbot       0.053412\n",
       "k8s-ci-robot    0.084082"
      ]
     },
     "execution_count": 5,
     "metadata": {},
     "output_type": "execute_result"
    }
   ],
   "source": [
    "#Proportion per bot\n",
    "proportions_per_bot = sections_with_td.loc[:,['issue','bot']].groupby('bot').count()/issues_dataset.loc[:,['issue','bot']].groupby('bot').count()\n",
    "plot_hist(proportions_per_bot, bins=50)\n",
    "proportions_per_bot"
   ]
  },
  {
   "cell_type": "code",
   "execution_count": 4,
   "id": "b2c28870",
   "metadata": {
    "tags": []
   },
   "outputs": [
    {
     "data": {
      "image/png": "[encoded data removed]",
      "text/plain": [
       "<Figure size 640x480 with 1 Axes>"
      ]
     },
     "metadata": {},
     "output_type": "display_data"
    },
    {
     "name": "stdout",
     "output_type": "stream",
     "text": [
      "                   issue\n",
      "bot                     \n",
      "DartBot         0.095089\n",
      "brotherlogic    0.000782\n",
      "cf-gitbot            NaN\n",
      "fejta-bot       0.018155\n",
      "fire-bot        0.152363\n",
      "glassfishrobot  0.066928\n",
      "gopherbot       0.110008\n",
      "k8s-ci-robot    0.021277\n",
      "                issue\n",
      "bot                  \n",
      "DartBot           273\n",
      "brotherlogic        1\n",
      "fejta-bot          25\n",
      "fire-bot          158\n",
      "glassfishrobot    752\n",
      "gopherbot         277\n",
      "k8s-ci-robot       27\n",
      "                issue\n",
      "bot                  \n",
      "DartBot          2871\n",
      "brotherlogic     1279\n",
      "cf-gitbot         234\n",
      "fejta-bot        1377\n",
      "fire-bot         1037\n",
      "glassfishrobot  11236\n",
      "gopherbot        2518\n",
      "k8s-ci-robot     1269\n"
     ]
    }
   ],
   "source": [
    "#Proportions in sections created by bots\n",
    "\n",
    "sections_gernerate_by_bots = issues_dataset.loc[issues_dataset['bot'] == issues_dataset['author-login']]\n",
    "\n",
    "sections_td = sections_gernerate_by_bots.loc[sections_gernerate_by_bots['td-label'] == 'SATD',['issue','bot']]\n",
    "section_non_td = sections_gernerate_by_bots.loc[sections_gernerate_by_bots['td-label'] == 'non-SATD', ['issue','bot']]\n",
    "\n",
    "proportions = sections_td.groupby('bot').count()/section_non_td.groupby('bot').count()\n",
    "plot_hist(proportions, bins=50)\n",
    "print(proportions)\n",
    "print(sections_td.groupby('bot').count())\n",
    "print(section_non_td.groupby('bot').count())"
   ]
  }
 ],
 "metadata": {
  "kernelspec": {
   "display_name": "Python 3 (ipykernel)",
   "language": "python",
   "name": "python3"
  },
  "language_info": {
   "codemirror_mode": {
    "name": "ipython",
    "version": 3
   },
   "file_extension": ".py",
   "mimetype": "text/x-python",
   "name": "python",
   "nbconvert_exporter": "python",
   "pygments_lexer": "ipython3",
   "version": "3.10.0"
  }
 },
 "nbformat": 4,
 "nbformat_minor": 5
}
