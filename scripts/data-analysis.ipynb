{
 "cells": [
  {
   "cell_type": "markdown",
   "id": "8d56b5d6",
   "metadata": {},
   "source": [
    "## Setup logging"
   ]
  },
  {
   "cell_type": "code",
   "execution_count": 2,
   "id": "1ca1c3a6",
   "metadata": {},
   "outputs": [],
   "source": [
    "from IPython.display import clear_output\n",
    "import logging\n",
    "from ipylogging import DisplayHandler, HTMLFormatter\n",
    "\n",
    "handler = DisplayHandler()\n",
    "handler.setFormatter(HTMLFormatter())\n",
    "\n",
    "log = logging.getLogger()\n",
    "log.addHandler(handler)\n",
    "log.setLevel(logging.INFO)"
   ]
  },
  {
   "cell_type": "markdown",
   "id": "2fb19ce6",
   "metadata": {},
   "source": [
    "## Importing dataset and modules"
   ]
  },
  {
   "cell_type": "code",
   "execution_count": 3,
   "id": "425149c9",
   "metadata": {},
   "outputs": [
    {
     "data": {
      "text/html": [
       "<span style=\"font-weight: bold; color: green\">2023-04-25 14:38:39,439</span> [<span style=\"font-weight: bold; color: dodgerblue\">INFO</span>] NumExpr defaulting to 8 threads."
      ],
      "text/plain": [
       "<IPython.core.display.HTML object>"
      ]
     },
     "metadata": {},
     "output_type": "display_data"
    }
   ],
   "source": [
    "import pandas as pd\n",
    "import matplotlib.pyplot as plt\n",
    "import seaborn as sns\n",
    "from pathlib import Path\n",
    "from minirig import load_csv_dataset, save_csv_dataset\n",
    "import os\n",
    "import json\n",
    "\n",
    "data_dir = Path('../data')\n",
    "bots_dataset_path = data_dir.joinpath('bots-dataset.csv')\n",
    "bots_issues_dir = data_dir.joinpath('bots-issues')\n",
    "bot_dataset = load_csv_dataset(bots_dataset_path)\n",
    "\n",
    "def plot_hist(data, x_label=\"\", y_label=\"\", title=\"\", bins=5):\n",
    "    # matplotlib histogram\n",
    "    plt.hist(data, color = 'blue', edgecolor = 'black', bins=bins)\n",
    "\n",
    "    # Add labels\n",
    "    plt.title(title)\n",
    "    plt.xlabel(x_label)\n",
    "    plt.ylabel(y_label)\n",
    "    plt.show()\n",
    "\n",
    "def get_issues_per_bot(issues_dir = None, bot = None):\n",
    "    for owner in os.listdir(issues_dir.joinpath(bot)):\n",
    "        for project in os.listdir(issues_dir.joinpath(bot).joinpath(owner)):\n",
    "            for issue in os.listdir(issues_dir.joinpath(bot).joinpath(owner).joinpath(project).joinpath('issues')):\n",
    "                issue_path = issues_dir.joinpath(bot).joinpath(owner).joinpath(project).joinpath('issues').joinpath(issue)\n",
    "                with open(issue_path.joinpath('json')) as f:\n",
    "                    yield [issue_path.joinpath('json'), json.load(f)]\n",
    "                \n",
    "    "
   ]
  },
  {
   "cell_type": "markdown",
   "id": "a3f9b821",
   "metadata": {},
   "source": [
    "## Filtering bots with few than 100 issues"
   ]
  },
  {
   "cell_type": "code",
   "execution_count": 8,
   "id": "a1d4970c",
   "metadata": {},
   "outputs": [],
   "source": [
    "filtered_bots_dataset = [x for x in bot_dataset if x['issue_count'] != 'na' and int(x['issue_count']) >= 100 and x['account'] != 'glassfishrobot']"
   ]
  },
  {
   "cell_type": "markdown",
   "id": "d9e91ef9",
   "metadata": {},
   "source": [
    "## RQ0 - Demographics"
   ]
  },
  {
   "cell_type": "code",
   "execution_count": 132,
   "id": "0a465f24",
   "metadata": {},
   "outputs": [
    {
     "data": {
      "image/png": "[encoded data removed]",
      "text/plain": [
       "<Figure size 640x480 with 1 Axes>"
      ]
     },
     "metadata": {},
     "output_type": "display_data"
    }
   ],
   "source": [
    "#Number of projects per bot\n",
    "issues_per_bot = pd.DataFrame(data={'bot':[x['account'] for x in filtered_bots_dataset],'issue_count':[int(x['issue_count']) for x in filtered_bots_dataset]})\n",
    "sns.histplot(issues_per_bot, x='issue_count', bins=50)\n",
    "plt.savefig('../figures/rq0-issues-per-bot.pdf', bbox_inches='tight')"
   ]
  },
  {
   "cell_type": "code",
   "execution_count": 133,
   "id": "38642870",
   "metadata": {},
   "outputs": [
    {
     "data": {
      "text/plain": [
       "bot            102\n",
       "issue_count    102\n",
       "dtype: int64"
      ]
     },
     "execution_count": 133,
     "metadata": {},
     "output_type": "execute_result"
    }
   ],
   "source": [
    "issues_per_bot.loc[issues_per_bot['issue_count'] <= 10000].count()"
   ]
  },
  {
   "cell_type": "code",
   "execution_count": 134,
   "id": "743a29cb",
   "metadata": {},
   "outputs": [
    {
     "data": {
      "text/plain": [
       "bot            2\n",
       "issue_count    2\n",
       "dtype: int64"
      ]
     },
     "execution_count": 134,
     "metadata": {},
     "output_type": "execute_result"
    }
   ],
   "source": [
    "issues_per_bot.loc[issues_per_bot['issue_count'] >= 50000].count()"
   ]
  },
  {
   "cell_type": "code",
   "execution_count": 166,
   "id": "edaed182",
   "metadata": {},
   "outputs": [
    {
     "data": {
      "text/plain": [
       "count      113.000000\n",
       "mean      3905.433628\n",
       "std       9138.498102\n",
       "min        101.000000\n",
       "25%        244.000000\n",
       "50%        664.000000\n",
       "75%       2588.000000\n",
       "max      56400.000000\n",
       "Name: issue_count, dtype: float64"
      ]
     },
     "execution_count": 166,
     "metadata": {},
     "output_type": "execute_result"
    }
   ],
   "source": [
    "issues_per_bot['issue_count'].describe()"
   ]
  },
  {
   "cell_type": "code",
   "execution_count": 137,
   "id": "5a2ead2c",
   "metadata": {
    "scrolled": true
   },
   "outputs": [
    {
     "data": {
      "image/png": "[encoded data removed]",
      "text/plain": [
       "<Figure size 640x480 with 1 Axes>"
      ]
     },
     "metadata": {},
     "output_type": "display_data"
    }
   ],
   "source": [
    "#Number of projects per bot\n",
    "projects_per_bot = {'bot':[],'n-projects':[]}\n",
    "for bot in filtered_bots_dataset:\n",
    "    if bot['issue_count'] != 'na' and int(bot['issue_count']) > 0:\n",
    "        n_projects = 0\n",
    "        for owner in os.listdir(bots_issues_dir.joinpath(bot['account'])):\n",
    "            n_projects += len(os.listdir(bots_issues_dir.joinpath(bot['account']).joinpath(owner)))\n",
    "        projects_per_bot['bot'].append(bot['account'])\n",
    "        projects_per_bot['n-projects'].append(n_projects)\n",
    "\n",
    "\n",
    "sns.histplot(data=pd.DataFrame(data=projects_per_bot), x = 'n-projects', bins=30)\n",
    "plt.savefig('../figures/rq0-projects-per-bot.pdf', bbox_inches='tight')"
   ]
  },
  {
   "cell_type": "code",
   "execution_count": 159,
   "id": "ba905c38",
   "metadata": {},
   "outputs": [
    {
     "data": {
      "text/plain": [
       "4"
      ]
     },
     "execution_count": 159,
     "metadata": {},
     "output_type": "execute_result"
    }
   ],
   "source": [
    "projects = pd.DataFrame(data=projects_per_bot)\n",
    "len(projects.loc[projects['n-projects'] >= 500])"
   ]
  },
  {
   "cell_type": "code",
   "execution_count": 167,
   "id": "23bd18ca",
   "metadata": {},
   "outputs": [
    {
     "data": {
      "text/plain": [
       "count     113.000000\n",
       "mean      102.778761\n",
       "std       401.579309\n",
       "min         1.000000\n",
       "25%         6.000000\n",
       "50%        16.000000\n",
       "75%        52.000000\n",
       "max      3771.000000\n",
       "Name: n-projects, dtype: float64"
      ]
     },
     "execution_count": 167,
     "metadata": {},
     "output_type": "execute_result"
    }
   ],
   "source": [
    "projects['n-projects'].describe()"
   ]
  },
  {
   "cell_type": "markdown",
   "id": "56b311a2",
   "metadata": {},
   "source": [
    "## RQ1 - What is the proportion of sections with TD in issues which involves bots?"
   ]
  },
  {
   "cell_type": "code",
   "execution_count": 5,
   "id": "f63465b2",
   "metadata": {},
   "outputs": [
    {
     "name": "stdout",
     "output_type": "stream",
     "text": [
      "Loading model ../model/mode1-issue-tracker-li2022-emse/model1-issue-tracker-li2022-esem-weight_file.hdf5...\n"
     ]
    },
    {
     "name": "stderr",
     "output_type": "stream",
     "text": [
      "Warning : `load_model` does not return WordVectorModel or SupervisedModel any more, but a `FastText` object which is very similar.\n"
     ]
    }
   ],
   "source": [
    "from model_li2022_emse import *\n",
    "\n",
    "model1_li2022_emse = Model1_IssueTracker_Li2022_ESEM('../model/mode1-issue-tracker-li2022-emse/model1-issue-tracker-li2022-esem-weight_file.hdf5', \n",
    "                 '../model/mode1-issue-tracker-li2022-emse/model1-issue-tracker-li2022-esem-word_embedding_file.bin')"
   ]
  },
  {
   "cell_type": "code",
   "execution_count": null,
   "id": "cffc0f91",
   "metadata": {},
   "outputs": [
    {
     "data": {
      "text/html": [
       "<span style=\"font-weight: bold; color: green\">2023-04-26 08:41:04,761</span> [<span style=\"font-weight: bold; color: dodgerblue\">INFO</span>] brotherlogic - Handling 18072 out 37635 issues"
      ],
      "text/plain": [
       "<IPython.core.display.HTML object>"
      ]
     },
     "metadata": {},
     "output_type": "display_data"
    }
   ],
   "source": [
    "for bot in filtered_bots_dataset:\n",
    "    cnt = 1\n",
    "    for issue in get_issues_per_bot(bot=bot['account'], issues_dir = bots_issues_dir):\n",
    "        try:\n",
    "            issue[1]['td-label-li2022-emse'] = model1_li2022_emse.predict(issue[1]['body'])\n",
    "        except:\n",
    "            pass\n",
    "        with open(issue[0], 'w') as f:\n",
    "            json.dump(issue[1], f)\n",
    "        clear_output()\n",
    "        log.info(f'{bot[\"account\"]} - Handling {cnt} out {bot[\"issue_count\"]} issues')\n",
    "        cnt += 1"
   ]
  },
  {
   "cell_type": "code",
   "execution_count": null,
   "id": "c5e3caa7",
   "metadata": {},
   "outputs": [],
   "source": []
  }
 ],
 "metadata": {
  "kernelspec": {
   "display_name": "Python 3 (ipykernel)",
   "language": "python",
   "name": "python3"
  },
  "language_info": {
   "codemirror_mode": {
    "name": "ipython",
    "version": 3
   },
   "file_extension": ".py",
   "mimetype": "text/x-python",
   "name": "python",
   "nbconvert_exporter": "python",
   "pygments_lexer": "ipython3",
   "version": "3.9.13"
  }
 },
 "nbformat": 4,
 "nbformat_minor": 5
}
