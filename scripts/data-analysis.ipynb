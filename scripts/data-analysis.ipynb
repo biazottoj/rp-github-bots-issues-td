{
 "cells": [
  {
   "cell_type": "markdown",
   "id": "2fb19ce6",
   "metadata": {},
   "source": [
    "## Importing dataset and modules"
   ]
  },
  {
   "cell_type": "code",
   "execution_count": 25,
   "id": "425149c9",
   "metadata": {},
   "outputs": [],
   "source": [
    "import pandas as pd\n",
    "import matplotlib.pyplot as plt\n",
    "import seaborn as sns\n",
    "\n",
    "issues_dataset = pd.read_csv('../data/dataset-backup2.csv')\n",
    "issues_dataset = issues_dataset.loc[issues_dataset['td-label'] != '-'].drop(['Unnamed: 0'], axis=1)\n",
    "\n",
    "def plot_hist(data, x_label=\"\", y_label=\"\", title=\"\", bins=5):\n",
    "    # matplotlib histogram\n",
    "    plt.hist(data, color = 'blue', edgecolor = 'black', bins=bins)\n",
    "\n",
    "    # Add labels\n",
    "    plt.title(title)\n",
    "    plt.xlabel(x_label)\n",
    "    plt.ylabel(y_label)\n",
    "    plt.show()"
   ]
  },
  {
   "cell_type": "markdown",
   "id": "d9e91ef9",
   "metadata": {},
   "source": [
    "## RQ0 - Demographics"
   ]
  },
  {
   "cell_type": "code",
   "execution_count": null,
   "id": "5a2ead2c",
   "metadata": {},
   "outputs": [],
   "source": []
  },
  {
   "cell_type": "markdown",
   "id": "56b311a2",
   "metadata": {},
   "source": [
    "## RQ1 - What is the proportion of sections with TD in issues which involves bots?"
   ]
  },
  {
   "cell_type": "code",
   "execution_count": 2,
   "id": "f63465b2",
   "metadata": {},
   "outputs": [
    {
     "data": {
      "text/plain": [
       "0.07058083785270769"
      ]
     },
     "execution_count": 2,
     "metadata": {},
     "output_type": "execute_result"
    }
   ],
   "source": [
    "#Propoprtion in the whole dataset\n",
    "sections_with_td = issues_dataset.loc[issues_dataset['td-label'] != 'non-SATD']\n",
    "len(sections_with_td)/len(issues_dataset)"
   ]
  },
  {
   "cell_type": "code",
   "execution_count": 29,
   "id": "4df281c1",
   "metadata": {},
   "outputs": [
    {
     "data": {
      "image/png": "[encoded data removed]",
      "text/plain": [
       "<Figure size 640x480 with 1 Axes>"
      ]
     },
     "metadata": {},
     "output_type": "display_data"
    },
    {
     "data": {
      "text/html": [
       "<div>\n",
       "<style scoped>\n",
       "    .dataframe tbody tr th:only-of-type {\n",
       "        vertical-align: middle;\n",
       "    }\n",
       "\n",
       "    .dataframe tbody tr th {\n",
       "        vertical-align: top;\n",
       "    }\n",
       "\n",
       "    .dataframe thead th {\n",
       "        text-align: right;\n",
       "    }\n",
       "</style>\n",
       "<table border=\"1\" class=\"dataframe\">\n",
       "  <thead>\n",
       "    <tr style=\"text-align: right;\">\n",
       "      <th></th>\n",
       "      <th>issue</th>\n",
       "    </tr>\n",
       "    <tr>\n",
       "      <th>bot</th>\n",
       "      <th></th>\n",
       "    </tr>\n",
       "  </thead>\n",
       "  <tbody>\n",
       "    <tr>\n",
       "      <th>0crat</th>\n",
       "      <td>0.045807</td>\n",
       "    </tr>\n",
       "    <tr>\n",
       "      <th>DartBot</th>\n",
       "      <td>0.069423</td>\n",
       "    </tr>\n",
       "    <tr>\n",
       "      <th>ant-design-bot</th>\n",
       "      <td>0.008040</td>\n",
       "    </tr>\n",
       "    <tr>\n",
       "      <th>babel-bot</th>\n",
       "      <td>0.131718</td>\n",
       "    </tr>\n",
       "    <tr>\n",
       "      <th>brotherlogic</th>\n",
       "      <td>0.013699</td>\n",
       "    </tr>\n",
       "    <tr>\n",
       "      <th>cf-gitbot</th>\n",
       "      <td>0.094510</td>\n",
       "    </tr>\n",
       "    <tr>\n",
       "      <th>element-bot</th>\n",
       "      <td>0.004399</td>\n",
       "    </tr>\n",
       "    <tr>\n",
       "      <th>fejta-bot</th>\n",
       "      <td>0.141318</td>\n",
       "    </tr>\n",
       "    <tr>\n",
       "      <th>fire-bot</th>\n",
       "      <td>0.014553</td>\n",
       "    </tr>\n",
       "    <tr>\n",
       "      <th>gitcoinbot</th>\n",
       "      <td>0.063830</td>\n",
       "    </tr>\n",
       "    <tr>\n",
       "      <th>glassfishrobot</th>\n",
       "      <td>0.059981</td>\n",
       "    </tr>\n",
       "    <tr>\n",
       "      <th>google-oss-bot</th>\n",
       "      <td>0.072398</td>\n",
       "    </tr>\n",
       "    <tr>\n",
       "      <th>gopherbot</th>\n",
       "      <td>0.073381</td>\n",
       "    </tr>\n",
       "    <tr>\n",
       "      <th>k8s-ci-robot</th>\n",
       "      <td>0.086149</td>\n",
       "    </tr>\n",
       "    <tr>\n",
       "      <th>msft-github-bot</th>\n",
       "      <td>0.064651</td>\n",
       "    </tr>\n",
       "    <tr>\n",
       "      <th>openshift-bot</th>\n",
       "      <td>0.095355</td>\n",
       "    </tr>\n",
       "    <tr>\n",
       "      <th>rultor</th>\n",
       "      <td>0.008109</td>\n",
       "    </tr>\n",
       "    <tr>\n",
       "      <th>swift-ci</th>\n",
       "      <td>0.120161</td>\n",
       "    </tr>\n",
       "  </tbody>\n",
       "</table>\n",
       "</div>"
      ],
      "text/plain": [
       "                    issue\n",
       "bot                      \n",
       "0crat            0.045807\n",
       "DartBot          0.069423\n",
       "ant-design-bot   0.008040\n",
       "babel-bot        0.131718\n",
       "brotherlogic     0.013699\n",
       "cf-gitbot        0.094510\n",
       "element-bot      0.004399\n",
       "fejta-bot        0.141318\n",
       "fire-bot         0.014553\n",
       "gitcoinbot       0.063830\n",
       "glassfishrobot   0.059981\n",
       "google-oss-bot   0.072398\n",
       "gopherbot        0.073381\n",
       "k8s-ci-robot     0.086149\n",
       "msft-github-bot  0.064651\n",
       "openshift-bot    0.095355\n",
       "rultor           0.008109\n",
       "swift-ci         0.120161"
      ]
     },
     "execution_count": 29,
     "metadata": {},
     "output_type": "execute_result"
    }
   ],
   "source": [
    "#Proportion per bot\n",
    "proportions_per_bot = sections_with_td.loc[:,['issue','bot']].groupby('bot').count()/issues_dataset.loc[:,['issue','bot']].groupby('bot').count()\n",
    "plot_hist(proportions_per_bot, bins=50)\n",
    "proportions_per_bot"
   ]
  },
  {
   "cell_type": "code",
   "execution_count": 47,
   "id": "b2c28870",
   "metadata": {},
   "outputs": [
    {
     "data": {
      "image/png": "[encoded data removed]",
      "text/plain": [
       "<Figure size 640x480 with 1 Axes>"
      ]
     },
     "metadata": {},
     "output_type": "display_data"
    },
    {
     "name": "stdout",
     "output_type": "stream",
     "text": [
      "                    issue\n",
      "bot                      \n",
      "0crat                 NaN\n",
      "DartBot          0.078337\n",
      "ant-design-bot        NaN\n",
      "babel-bot        0.063745\n",
      "brotherlogic     0.013986\n",
      "cf-gitbot             NaN\n",
      "element-bot           NaN\n",
      "fejta-bot        0.053140\n",
      "fire-bot         0.007673\n",
      "gitcoinbot            NaN\n",
      "glassfishrobot   0.063808\n",
      "google-oss-bot        NaN\n",
      "gopherbot        0.123333\n",
      "k8s-ci-robot     0.014851\n",
      "msft-github-bot       NaN\n",
      "openshift-bot         NaN\n",
      "rultor           0.004505\n",
      "swift-ci         0.155143\n",
      "                issue\n",
      "bot                  \n",
      "DartBot            81\n",
      "babel-bot          16\n",
      "brotherlogic        6\n",
      "fejta-bot          11\n",
      "fire-bot            3\n",
      "glassfishrobot    125\n",
      "gopherbot          74\n",
      "k8s-ci-robot        3\n",
      "rultor              4\n",
      "swift-ci           92\n",
      "                 issue\n",
      "bot                   \n",
      "0crat              364\n",
      "DartBot           1034\n",
      "ant-design-bot     270\n",
      "babel-bot          251\n",
      "brotherlogic       429\n",
      "cf-gitbot          201\n",
      "element-bot        200\n",
      "fejta-bot          207\n",
      "fire-bot           391\n",
      "gitcoinbot         504\n",
      "glassfishrobot    1959\n",
      "google-oss-bot     302\n",
      "gopherbot          600\n",
      "k8s-ci-robot       202\n",
      "msft-github-bot    153\n",
      "openshift-bot      196\n",
      "rultor             888\n",
      "swift-ci           593\n"
     ]
    }
   ],
   "source": [
    "#Proportions in sections created by bots\n",
    "\n",
    "sections_gernerate_by_bots = issues_dataset.loc[issues_dataset['bot'] == issues_dataset['author-login']]\n",
    "\n",
    "sections_td = sections_gernerate_by_bots.loc[sections_gernerate_by_bots['td-label'] == 'SATD',['issue','bot']]\n",
    "section_non_td = sections_gernerate_by_bots.loc[sections_gernerate_by_bots['td-label'] == 'non-SATD', ['issue','bot']]\n",
    "\n",
    "proportions = sections_td.groupby('bot').count()/section_non_td.groupby('bot').count()\n",
    "plot_hist(proportions, bins=50)\n",
    "print(proportions)\n",
    "print(sections_td.groupby('bot').count())\n",
    "print(section_non_td.groupby('bot').count())"
   ]
  }
 ],
 "metadata": {
  "kernelspec": {
   "display_name": "Python 3 (ipykernel)",
   "language": "python",
   "name": "python3"
  },
  "language_info": {
   "codemirror_mode": {
    "name": "ipython",
    "version": 3
   },
   "file_extension": ".py",
   "mimetype": "text/x-python",
   "name": "python",
   "nbconvert_exporter": "python",
   "pygments_lexer": "ipython3",
   "version": "3.9.13"
  }
 },
 "nbformat": 4,
 "nbformat_minor": 5
}
