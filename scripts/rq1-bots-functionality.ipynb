{
 "cells": [
  {
   "cell_type": "markdown",
   "id": "dfea9502-8f66-4fb6-9cc5-3af90a1b3a35",
   "metadata": {},
   "source": [
    "# RQ1 - Bots Functionality"
   ]
  },
  {
   "cell_type": "markdown",
   "id": "d75b778f-a817-4fc9-804a-2e07ab7d8fee",
   "metadata": {},
   "source": [
    "### Setup Logging"
   ]
  },
  {
   "cell_type": "code",
   "execution_count": 1,
   "id": "39c33e61-ddd9-4473-9548-a6cad3e3fb82",
   "metadata": {
    "tags": []
   },
   "outputs": [
    {
     "name": "stdout",
     "output_type": "stream",
     "text": [
      "Requirement already satisfied: emoji in /opt/conda/lib/python3.10/site-packages (2.2.0)\n"
     ]
    }
   ],
   "source": [
    "!pip install emoji\n",
    "\n",
    "from IPython.display import clear_output\n",
    "import logging\n",
    "from ipylogging import DisplayHandler, HTMLFormatter\n",
    "import emoji\n",
    "\n",
    "handler = DisplayHandler()\n",
    "handler.setFormatter(HTMLFormatter())\n",
    "\n",
    "log = logging.getLogger()\n",
    "log.addHandler(handler)\n",
    "log.setLevel(logging.INFO)"
   ]
  },
  {
   "cell_type": "markdown",
   "id": "c50a15a6-6801-4df2-b30e-3861a5b70788",
   "metadata": {
    "tags": []
   },
   "source": [
    "### Setp 0 - Modules Import, Functions, and Global Variables"
   ]
  },
  {
   "cell_type": "code",
   "execution_count": 2,
   "id": "6ae6d4fa-4fa9-4e70-b3d5-c9e5fe2e4275",
   "metadata": {
    "tags": []
   },
   "outputs": [],
   "source": [
    "import pandas as pd\n",
    "import matplotlib.pyplot as plt\n",
    "import seaborn as sns\n",
    "from pathlib import Path\n",
    "#from minirig import load_csv_dataset, save_csv_dataset\n",
    "import os\n",
    "import json\n",
    "\n",
    "data_dir = Path('../data')\n",
    "bots_dataset_path = data_dir.joinpath('bots-dataset-bkp.csv')\n",
    "bots_issues_dir = data_dir.joinpath('bots-issues')\n",
    "#bot_dataset = load_csv_dataset(bots_dataset_path)\n",
    "\n",
    "def plot_hist(data, x_label=\"\", y_label=\"\", title=\"\", bins=5):\n",
    "    # matplotlib histogram\n",
    "    plt.hist(data, color = 'blue', edgecolor = 'black', bins=bins)\n",
    "\n",
    "    # Add labels\n",
    "    plt.title(title)\n",
    "    plt.xlabel(x_label)\n",
    "    plt.ylabel(y_label)\n",
    "    plt.show()\n",
    "\n",
    "def get_issues_per_bot(bot = None, n_issues = None):\n",
    "    n_issues = n_issues if n_issues else 10\n",
    "    issues = []\n",
    "    issues_dir = Path('../data/bots-issues')\n",
    "    cnt = 1\n",
    "    for owner in os.listdir(issues_dir.joinpath(bot)):\n",
    "        for project in os.listdir(issues_dir.joinpath(bot).joinpath(owner)):\n",
    "            for issue in os.listdir(issues_dir.joinpath(bot).joinpath(owner).joinpath(project).joinpath('issues')):\n",
    "                issue_path = issues_dir.joinpath(bot).joinpath(owner).joinpath(project).joinpath('issues').joinpath(issue)\n",
    "                with open(issue_path.joinpath('json')) as f:\n",
    "                    issue = json.load(f)\n",
    "                    issues.append(issue['html_url'])\n",
    "                    cnt += 1\n",
    "                if cnt >= n_issues:\n",
    "                    return issues\n",
    "                    \n",
    "                \n",
    "    "
   ]
  },
  {
   "cell_type": "markdown",
   "id": "21bdc08f-7abb-41ff-9879-d0cc59a604c9",
   "metadata": {},
   "source": [
    "### Step 1 - Manual Analysis of Bots Functionality"
   ]
  },
  {
   "cell_type": "code",
   "execution_count": 11,
   "id": "d0eac8b3-5946-41a2-b56d-f4c3e2f30cc1",
   "metadata": {
    "tags": []
   },
   "outputs": [
    {
     "data": {
      "application/vnd.jupyter.widget-view+json": {
       "model_id": "8a286d8b0a8a43df9298f1ace8f99109",
       "version_major": 2,
       "version_minor": 0
      },
      "text/plain": [
       "HBox(children=(VBox(children=(HBox(children=(VBox(children=(HTML(value='Bot: '), HTML(value='<p>Remaining Bots…"
      ]
     },
     "metadata": {},
     "output_type": "display_data"
    }
   ],
   "source": [
    "from ipywidgets import *\n",
    "\n",
    "bots_dataset = pd.read_csv(bots_dataset_path)\n",
    "bots_dataset.fillna(0, inplace=True)\n",
    "bots_dataset['issue_count'].replace('na', 0, inplace=True)\n",
    "bots_dataset.issue_count = pd.to_numeric(bots_dataset.issue_count, errors='coerce')\n",
    "filtered_bots = bots_dataset.loc[bots_dataset['issue_count'] >= 100]\n",
    "emojis = {1:':check_mark_button:', 0:':hollow_red_circle:'}\n",
    "\n",
    "def handle_change (*args):\n",
    "    bot_to_save = args[0]['old']\n",
    "    save_dateset(bot_to_save)\n",
    "    \n",
    "    filter_bots_widget({'new':showAllT.value})\n",
    "    filtered_bots = bots_dataset.loc[bots_dataset['issue_count'] >= 100]\n",
    "    remainingW.value = f'<p>Remaining Bots: {len([i for i in filtered_bots.index if filtered_bots[\"completed\"][i] == 0])}</p>'\n",
    "\n",
    "    bot_to_render = args[0]['new']\n",
    "    render_bot(bot_to_render)\n",
    "    \n",
    "    query_issues()\n",
    "    \n",
    "def save_dateset(bot):\n",
    "    index = bot\n",
    "    \n",
    "    bots_dataset['functionality-descriptive'][index] = str(funcW.value)\n",
    "    bots_dataset['create'][index] = 1 if createT.value else 0\n",
    "    bots_dataset['comment'][index] = 1 if commentT.value else 0\n",
    "    bots_dataset['label'][index] = 1 if labelT.value else 0 \n",
    "    bots_dataset['assign'][index] = 1 if assignT.value else 0 \n",
    "    bots_dataset['close'][index] = 1 if closeT.value else 0\n",
    "    bots_dataset['completed'][index] = 1 if completedT.value else 0\n",
    "    \n",
    "    bots_dataset['trigger-automated'][index] = 1 if trigger_auto.value else 0\n",
    "    bots_dataset['trigger-manual'][index] = 1 if trigger_manual.value else 0\n",
    "    bots_dataset['trigger-both'][index] = 1 if trigger_both.value else 0\n",
    "    \n",
    "    bots_dataset['issues-analyzed'][index] = str(issuesAnalyzedF.value)\n",
    "    \n",
    "    bots_dataset['other-remarks'][index] = str(otherRemarksF.value)\n",
    "    \n",
    "    bots_dataset.to_csv(bots_dataset_path, index=False)\n",
    "\n",
    "def render_bot(bot):\n",
    "    index = bot\n",
    "    \n",
    "    funcW.value = str(bots_dataset['functionality-descriptive'][index])\n",
    "\n",
    "    createT.value = True if bots_dataset['create'][index] == 1 else False\n",
    "    commentT.value = True if bots_dataset['comment'][index]  == 1 else False\n",
    "    labelT.value = True if bots_dataset['label'][index] == 1 else False\n",
    "    assignT.value = True if bots_dataset['assign'][index] == 1 else False\n",
    "    closeT.value = True if bots_dataset['close'][index] == 1 else False\n",
    "    completedT.value = True if bots_dataset['completed'][index] == 1 else False\n",
    "\n",
    "    trigger_auto.value = True if bots_dataset['trigger-automated'][index] == 1 else False\n",
    "    trigger_manual.value = True if bots_dataset['trigger-manual'][index] == 1 else False\n",
    "    trigger_both.value = True if  bots_dataset['trigger-both'][index] == 1 else False\n",
    "\n",
    "    otherRemarksF.value = str(bots_dataset['other-remarks'][index])\n",
    "    issuesAnalyzedF.value = str(bots_dataset['issues-analyzed'][index])\n",
    "    \n",
    "    query_issues()\n",
    "\n",
    "def query_issues(*args):\n",
    "    bot = filtered_bots['account'][botsW.value]\n",
    "    n = 10\n",
    "    try:\n",
    "        n = int(nIssuesW.value)\n",
    "    except:\n",
    "        pass\n",
    "    sections = get_issues_per_bot(bot, n)\n",
    "\n",
    "    html = f\"<p><span>Issues</span></p>\"\n",
    "    if sections:\n",
    "        for c in sections:\n",
    "            html += f\"<li><a href='{c}' target='_blank'>{c}</a></li>\"\n",
    "        html += \"</ul></p>\"\n",
    "    \n",
    "    issuesW.value = html\n",
    "\n",
    "def filter_bots_widget(*args):\n",
    "    filtered_bots = bots_dataset.loc[bots_dataset['issue_count'] >= 100]\n",
    "    if args[0]['new'] == True:\n",
    "        botsW.options = [(emoji.emojize(f\"{filtered_bots['account'][i]} | {filtered_bots['issue_count'][i]} | {emojis[filtered_bots['completed'][i]]}\"), i) for i in filtered_bots.index]\n",
    "    else:\n",
    "        botsW.options = [(emoji.emojize(f\"{filtered_bots['account'][i]} | {filtered_bots['issue_count'][i]} | {emojis[filtered_bots['completed'][i]]}\"), i) for i in filtered_bots.index if filtered_bots['completed'][i] == 0]\n",
    "        \n",
    "completedT = Checkbox(description='Complete')\n",
    "showAllT = Checkbox(description='Show All', value=True)\n",
    "\n",
    "botsW = Dropdown(options=[(emoji.emojize(f\"{filtered_bots['account'][i]} | {filtered_bots['issue_count'][i]} | {emojis[filtered_bots['completed'][i]]}\"), i) for i in filtered_bots.index]) \n",
    "\n",
    "nIssuesW = Text(value=\"10\")\n",
    "issuesW = HTML('')\n",
    "remainingW = HTML(f'<p>Remaining Bots: {len([i for i in filtered_bots.index if filtered_bots[\"completed\"][i] == 0])}</p>')\n",
    "\n",
    "funcW = Textarea(layout=Layout(width=\"540px\", height=\"150px\"))\n",
    "\n",
    "createT = Checkbox(description='Create')\n",
    "commentT = Checkbox(description='Comment')\n",
    "assignT = Checkbox(description='Assign')\n",
    "labelT = Checkbox(description='Label')\n",
    "closeT = Checkbox(description='Close')\n",
    "\n",
    "trigger_auto = Checkbox(description='Automated')\n",
    "trigger_manual = Checkbox(description='Manual')\n",
    "trigger_both = Checkbox(description='Both')\n",
    "\n",
    "otherRemarksF = Textarea(layout=Layout(width=\"540px\", height=\"150px\"))\n",
    "issuesAnalyzedF = Textarea(layout=Layout(width=\"550px\", height=\"150px\"))\n",
    "\n",
    "selectorW = HBox([VBox([HTML('Bot: '), remainingW]), botsW, showAllT])\n",
    "selectorIW = HBox([HTML('Isssues to analyze: '), nIssuesW])\n",
    "functionalityW = HBox([HTML('Functionality: '), funcW])\n",
    "tasksW = HBox([HTML('Tasks: '), VBox([createT, commentT, labelT,assignT, closeT])])\n",
    "triggerW = HBox([HTML('Trigger: '), VBox([trigger_auto, trigger_manual, trigger_both])])\n",
    "otherRemarksW = HBox([HTML('Other Remarks: '), otherRemarksF])\n",
    "issuesAnalyzedW = HBox([HTML('Issues Analyzed: '), issuesAnalyzedF])\n",
    "\n",
    "showAllT.observe(filter_bots_widget, names='value')\n",
    "nIssuesW.observe(query_issues)\n",
    "botsW.observe(handle_change, names='value')\n",
    "mainW = HBox([VBox([selectorW, tasksW, triggerW, functionalityW, issuesAnalyzedW, otherRemarksW, completedT]), VBox([HBox([HTML('Number of Issues to Analyze'),nIssuesW]),issuesW])])\n",
    "render_bot(botsW.value)\n",
    "display(mainW)"
   ]
  }
 ],
 "metadata": {
  "kernelspec": {
   "display_name": "Python 3 (ipykernel)",
   "language": "python",
   "name": "python3"
  },
  "language_info": {
   "codemirror_mode": {
    "name": "ipython",
    "version": 3
   },
   "file_extension": ".py",
   "mimetype": "text/x-python",
   "name": "python",
   "nbconvert_exporter": "python",
   "pygments_lexer": "ipython3",
   "version": "3.10.0"
  }
 },
 "nbformat": 4,
 "nbformat_minor": 5
}
