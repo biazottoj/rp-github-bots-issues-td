{
 "cells": [
  {
   "cell_type": "markdown",
   "id": "dfea9502-8f66-4fb6-9cc5-3af90a1b3a35",
   "metadata": {},
   "source": [
    "# RQ1 - Bots Functionality"
   ]
  },
  {
   "cell_type": "markdown",
   "id": "d75b778f-a817-4fc9-804a-2e07ab7d8fee",
   "metadata": {},
   "source": [
    "### Setup Logging"
   ]
  },
  {
   "cell_type": "code",
   "execution_count": 1,
   "id": "39c33e61-ddd9-4473-9548-a6cad3e3fb82",
   "metadata": {
    "tags": []
   },
   "outputs": [],
   "source": [
    "from IPython.display import clear_output\n",
    "import logging\n",
    "from ipylogging import DisplayHandler, HTMLFormatter\n",
    "\n",
    "handler = DisplayHandler()\n",
    "handler.setFormatter(HTMLFormatter())\n",
    "\n",
    "log = logging.getLogger()\n",
    "log.addHandler(handler)\n",
    "log.setLevel(logging.INFO)"
   ]
  },
  {
   "cell_type": "markdown",
   "id": "c50a15a6-6801-4df2-b30e-3861a5b70788",
   "metadata": {
    "tags": []
   },
   "source": [
    "### Setp 0 - Modules Import, Functions, and Global Variables"
   ]
  },
  {
   "cell_type": "code",
   "execution_count": 2,
   "id": "6ae6d4fa-4fa9-4e70-b3d5-c9e5fe2e4275",
   "metadata": {
    "tags": []
   },
   "outputs": [],
   "source": [
    "import pandas as pd\n",
    "import matplotlib.pyplot as plt\n",
    "import seaborn as sns\n",
    "from pathlib import Path\n",
    "#from minirig import load_csv_dataset, save_csv_dataset\n",
    "import os\n",
    "import json\n",
    "\n",
    "data_dir = Path('../data')\n",
    "bots_dataset_path = data_dir.joinpath('bots-dataset-bkp.csv')\n",
    "bots_issues_dir = data_dir.joinpath('bots-issues')\n",
    "#bot_dataset = load_csv_dataset(bots_dataset_path)\n",
    "\n",
    "def plot_hist(data, x_label=\"\", y_label=\"\", title=\"\", bins=5):\n",
    "    # matplotlib histogram\n",
    "    plt.hist(data, color = 'blue', edgecolor = 'black', bins=bins)\n",
    "\n",
    "    # Add labels\n",
    "    plt.title(title)\n",
    "    plt.xlabel(x_label)\n",
    "    plt.ylabel(y_label)\n",
    "    plt.show()\n",
    "\n",
    "def get_issues_per_bot(bot = None, n_issues = None):\n",
    "    n_issues = n_issues if n_issues else 10\n",
    "    issues = []\n",
    "    issues_dir = Path('../data/bots-issues')\n",
    "    cnt = 1\n",
    "    for owner in os.listdir(issues_dir.joinpath(bot)):\n",
    "        for project in os.listdir(issues_dir.joinpath(bot).joinpath(owner)):\n",
    "            for issue in os.listdir(issues_dir.joinpath(bot).joinpath(owner).joinpath(project).joinpath('issues')):\n",
    "                issue_path = issues_dir.joinpath(bot).joinpath(owner).joinpath(project).joinpath('issues').joinpath(issue)\n",
    "                with open(issue_path.joinpath('json')) as f:\n",
    "                    issue = json.load(f)\n",
    "                    issues.append(issue['html_url'])\n",
    "                    cnt += 1\n",
    "                if cnt >= n_issues:\n",
    "                    return issues\n",
    "                    \n",
    "                \n",
    "    "
   ]
  },
  {
   "cell_type": "markdown",
   "id": "21bdc08f-7abb-41ff-9879-d0cc59a604c9",
   "metadata": {},
   "source": [
    "### Step 1 - Manual Analysis of Bots Functionality"
   ]
  },
  {
   "cell_type": "code",
   "execution_count": 3,
   "id": "d0eac8b3-5946-41a2-b56d-f4c3e2f30cc1",
   "metadata": {
    "tags": []
   },
   "outputs": [
    {
     "ename": "FileNotFoundError",
     "evalue": "[Errno 2] No such file or directory: '../data/bots-dataset-bkp.csv'",
     "output_type": "error",
     "traceback": [
      "\u001b[0;31m---------------------------------------------------------------------------\u001b[0m",
      "\u001b[0;31mFileNotFoundError\u001b[0m                         Traceback (most recent call last)",
      "Cell \u001b[0;32mIn[3], line 3\u001b[0m\n\u001b[1;32m      1\u001b[0m \u001b[38;5;28;01mfrom\u001b[39;00m \u001b[38;5;21;01mipywidgets\u001b[39;00m \u001b[38;5;28;01mimport\u001b[39;00m interact, Layout, VBox, HBox, GridspecLayout, Dropdown, Text, Label, HTML, Textarea, Checkbox\n\u001b[0;32m----> 3\u001b[0m bots_dataset \u001b[38;5;241m=\u001b[39m \u001b[43mpd\u001b[49m\u001b[38;5;241;43m.\u001b[39;49m\u001b[43mread_csv\u001b[49m\u001b[43m(\u001b[49m\u001b[43mbots_dataset_path\u001b[49m\u001b[43m)\u001b[49m\n\u001b[1;32m      4\u001b[0m bots_dataset\u001b[38;5;241m.\u001b[39mfillna(\u001b[38;5;241m0\u001b[39m, inplace\u001b[38;5;241m=\u001b[39m\u001b[38;5;28;01mTrue\u001b[39;00m)\n\u001b[1;32m      5\u001b[0m bots_dataset[\u001b[38;5;124m'\u001b[39m\u001b[38;5;124missue_count\u001b[39m\u001b[38;5;124m'\u001b[39m]\u001b[38;5;241m.\u001b[39mreplace(\u001b[38;5;124m'\u001b[39m\u001b[38;5;124mna\u001b[39m\u001b[38;5;124m'\u001b[39m, \u001b[38;5;241m0\u001b[39m, inplace\u001b[38;5;241m=\u001b[39m\u001b[38;5;28;01mTrue\u001b[39;00m)\n",
      "File \u001b[0;32m/opt/conda/lib/python3.10/site-packages/pandas/io/parsers/readers.py:912\u001b[0m, in \u001b[0;36mread_csv\u001b[0;34m(filepath_or_buffer, sep, delimiter, header, names, index_col, usecols, dtype, engine, converters, true_values, false_values, skipinitialspace, skiprows, skipfooter, nrows, na_values, keep_default_na, na_filter, verbose, skip_blank_lines, parse_dates, infer_datetime_format, keep_date_col, date_parser, date_format, dayfirst, cache_dates, iterator, chunksize, compression, thousands, decimal, lineterminator, quotechar, quoting, doublequote, escapechar, comment, encoding, encoding_errors, dialect, on_bad_lines, delim_whitespace, low_memory, memory_map, float_precision, storage_options, dtype_backend)\u001b[0m\n\u001b[1;32m    899\u001b[0m kwds_defaults \u001b[38;5;241m=\u001b[39m _refine_defaults_read(\n\u001b[1;32m    900\u001b[0m     dialect,\n\u001b[1;32m    901\u001b[0m     delimiter,\n\u001b[0;32m   (...)\u001b[0m\n\u001b[1;32m    908\u001b[0m     dtype_backend\u001b[38;5;241m=\u001b[39mdtype_backend,\n\u001b[1;32m    909\u001b[0m )\n\u001b[1;32m    910\u001b[0m kwds\u001b[38;5;241m.\u001b[39mupdate(kwds_defaults)\n\u001b[0;32m--> 912\u001b[0m \u001b[38;5;28;01mreturn\u001b[39;00m \u001b[43m_read\u001b[49m\u001b[43m(\u001b[49m\u001b[43mfilepath_or_buffer\u001b[49m\u001b[43m,\u001b[49m\u001b[43m \u001b[49m\u001b[43mkwds\u001b[49m\u001b[43m)\u001b[49m\n",
      "File \u001b[0;32m/opt/conda/lib/python3.10/site-packages/pandas/io/parsers/readers.py:577\u001b[0m, in \u001b[0;36m_read\u001b[0;34m(filepath_or_buffer, kwds)\u001b[0m\n\u001b[1;32m    574\u001b[0m _validate_names(kwds\u001b[38;5;241m.\u001b[39mget(\u001b[38;5;124m\"\u001b[39m\u001b[38;5;124mnames\u001b[39m\u001b[38;5;124m\"\u001b[39m, \u001b[38;5;28;01mNone\u001b[39;00m))\n\u001b[1;32m    576\u001b[0m \u001b[38;5;66;03m# Create the parser.\u001b[39;00m\n\u001b[0;32m--> 577\u001b[0m parser \u001b[38;5;241m=\u001b[39m \u001b[43mTextFileReader\u001b[49m\u001b[43m(\u001b[49m\u001b[43mfilepath_or_buffer\u001b[49m\u001b[43m,\u001b[49m\u001b[43m \u001b[49m\u001b[38;5;241;43m*\u001b[39;49m\u001b[38;5;241;43m*\u001b[39;49m\u001b[43mkwds\u001b[49m\u001b[43m)\u001b[49m\n\u001b[1;32m    579\u001b[0m \u001b[38;5;28;01mif\u001b[39;00m chunksize \u001b[38;5;129;01mor\u001b[39;00m iterator:\n\u001b[1;32m    580\u001b[0m     \u001b[38;5;28;01mreturn\u001b[39;00m parser\n",
      "File \u001b[0;32m/opt/conda/lib/python3.10/site-packages/pandas/io/parsers/readers.py:1407\u001b[0m, in \u001b[0;36mTextFileReader.__init__\u001b[0;34m(self, f, engine, **kwds)\u001b[0m\n\u001b[1;32m   1404\u001b[0m     \u001b[38;5;28mself\u001b[39m\u001b[38;5;241m.\u001b[39moptions[\u001b[38;5;124m\"\u001b[39m\u001b[38;5;124mhas_index_names\u001b[39m\u001b[38;5;124m\"\u001b[39m] \u001b[38;5;241m=\u001b[39m kwds[\u001b[38;5;124m\"\u001b[39m\u001b[38;5;124mhas_index_names\u001b[39m\u001b[38;5;124m\"\u001b[39m]\n\u001b[1;32m   1406\u001b[0m \u001b[38;5;28mself\u001b[39m\u001b[38;5;241m.\u001b[39mhandles: IOHandles \u001b[38;5;241m|\u001b[39m \u001b[38;5;28;01mNone\u001b[39;00m \u001b[38;5;241m=\u001b[39m \u001b[38;5;28;01mNone\u001b[39;00m\n\u001b[0;32m-> 1407\u001b[0m \u001b[38;5;28mself\u001b[39m\u001b[38;5;241m.\u001b[39m_engine \u001b[38;5;241m=\u001b[39m \u001b[38;5;28;43mself\u001b[39;49m\u001b[38;5;241;43m.\u001b[39;49m\u001b[43m_make_engine\u001b[49m\u001b[43m(\u001b[49m\u001b[43mf\u001b[49m\u001b[43m,\u001b[49m\u001b[43m \u001b[49m\u001b[38;5;28;43mself\u001b[39;49m\u001b[38;5;241;43m.\u001b[39;49m\u001b[43mengine\u001b[49m\u001b[43m)\u001b[49m\n",
      "File \u001b[0;32m/opt/conda/lib/python3.10/site-packages/pandas/io/parsers/readers.py:1661\u001b[0m, in \u001b[0;36mTextFileReader._make_engine\u001b[0;34m(self, f, engine)\u001b[0m\n\u001b[1;32m   1659\u001b[0m     \u001b[38;5;28;01mif\u001b[39;00m \u001b[38;5;124m\"\u001b[39m\u001b[38;5;124mb\u001b[39m\u001b[38;5;124m\"\u001b[39m \u001b[38;5;129;01mnot\u001b[39;00m \u001b[38;5;129;01min\u001b[39;00m mode:\n\u001b[1;32m   1660\u001b[0m         mode \u001b[38;5;241m+\u001b[39m\u001b[38;5;241m=\u001b[39m \u001b[38;5;124m\"\u001b[39m\u001b[38;5;124mb\u001b[39m\u001b[38;5;124m\"\u001b[39m\n\u001b[0;32m-> 1661\u001b[0m \u001b[38;5;28mself\u001b[39m\u001b[38;5;241m.\u001b[39mhandles \u001b[38;5;241m=\u001b[39m \u001b[43mget_handle\u001b[49m\u001b[43m(\u001b[49m\n\u001b[1;32m   1662\u001b[0m \u001b[43m    \u001b[49m\u001b[43mf\u001b[49m\u001b[43m,\u001b[49m\n\u001b[1;32m   1663\u001b[0m \u001b[43m    \u001b[49m\u001b[43mmode\u001b[49m\u001b[43m,\u001b[49m\n\u001b[1;32m   1664\u001b[0m \u001b[43m    \u001b[49m\u001b[43mencoding\u001b[49m\u001b[38;5;241;43m=\u001b[39;49m\u001b[38;5;28;43mself\u001b[39;49m\u001b[38;5;241;43m.\u001b[39;49m\u001b[43moptions\u001b[49m\u001b[38;5;241;43m.\u001b[39;49m\u001b[43mget\u001b[49m\u001b[43m(\u001b[49m\u001b[38;5;124;43m\"\u001b[39;49m\u001b[38;5;124;43mencoding\u001b[39;49m\u001b[38;5;124;43m\"\u001b[39;49m\u001b[43m,\u001b[49m\u001b[43m \u001b[49m\u001b[38;5;28;43;01mNone\u001b[39;49;00m\u001b[43m)\u001b[49m\u001b[43m,\u001b[49m\n\u001b[1;32m   1665\u001b[0m \u001b[43m    \u001b[49m\u001b[43mcompression\u001b[49m\u001b[38;5;241;43m=\u001b[39;49m\u001b[38;5;28;43mself\u001b[39;49m\u001b[38;5;241;43m.\u001b[39;49m\u001b[43moptions\u001b[49m\u001b[38;5;241;43m.\u001b[39;49m\u001b[43mget\u001b[49m\u001b[43m(\u001b[49m\u001b[38;5;124;43m\"\u001b[39;49m\u001b[38;5;124;43mcompression\u001b[39;49m\u001b[38;5;124;43m\"\u001b[39;49m\u001b[43m,\u001b[49m\u001b[43m \u001b[49m\u001b[38;5;28;43;01mNone\u001b[39;49;00m\u001b[43m)\u001b[49m\u001b[43m,\u001b[49m\n\u001b[1;32m   1666\u001b[0m \u001b[43m    \u001b[49m\u001b[43mmemory_map\u001b[49m\u001b[38;5;241;43m=\u001b[39;49m\u001b[38;5;28;43mself\u001b[39;49m\u001b[38;5;241;43m.\u001b[39;49m\u001b[43moptions\u001b[49m\u001b[38;5;241;43m.\u001b[39;49m\u001b[43mget\u001b[49m\u001b[43m(\u001b[49m\u001b[38;5;124;43m\"\u001b[39;49m\u001b[38;5;124;43mmemory_map\u001b[39;49m\u001b[38;5;124;43m\"\u001b[39;49m\u001b[43m,\u001b[49m\u001b[43m \u001b[49m\u001b[38;5;28;43;01mFalse\u001b[39;49;00m\u001b[43m)\u001b[49m\u001b[43m,\u001b[49m\n\u001b[1;32m   1667\u001b[0m \u001b[43m    \u001b[49m\u001b[43mis_text\u001b[49m\u001b[38;5;241;43m=\u001b[39;49m\u001b[43mis_text\u001b[49m\u001b[43m,\u001b[49m\n\u001b[1;32m   1668\u001b[0m \u001b[43m    \u001b[49m\u001b[43merrors\u001b[49m\u001b[38;5;241;43m=\u001b[39;49m\u001b[38;5;28;43mself\u001b[39;49m\u001b[38;5;241;43m.\u001b[39;49m\u001b[43moptions\u001b[49m\u001b[38;5;241;43m.\u001b[39;49m\u001b[43mget\u001b[49m\u001b[43m(\u001b[49m\u001b[38;5;124;43m\"\u001b[39;49m\u001b[38;5;124;43mencoding_errors\u001b[39;49m\u001b[38;5;124;43m\"\u001b[39;49m\u001b[43m,\u001b[49m\u001b[43m \u001b[49m\u001b[38;5;124;43m\"\u001b[39;49m\u001b[38;5;124;43mstrict\u001b[39;49m\u001b[38;5;124;43m\"\u001b[39;49m\u001b[43m)\u001b[49m\u001b[43m,\u001b[49m\n\u001b[1;32m   1669\u001b[0m \u001b[43m    \u001b[49m\u001b[43mstorage_options\u001b[49m\u001b[38;5;241;43m=\u001b[39;49m\u001b[38;5;28;43mself\u001b[39;49m\u001b[38;5;241;43m.\u001b[39;49m\u001b[43moptions\u001b[49m\u001b[38;5;241;43m.\u001b[39;49m\u001b[43mget\u001b[49m\u001b[43m(\u001b[49m\u001b[38;5;124;43m\"\u001b[39;49m\u001b[38;5;124;43mstorage_options\u001b[39;49m\u001b[38;5;124;43m\"\u001b[39;49m\u001b[43m,\u001b[49m\u001b[43m \u001b[49m\u001b[38;5;28;43;01mNone\u001b[39;49;00m\u001b[43m)\u001b[49m\u001b[43m,\u001b[49m\n\u001b[1;32m   1670\u001b[0m \u001b[43m\u001b[49m\u001b[43m)\u001b[49m\n\u001b[1;32m   1671\u001b[0m \u001b[38;5;28;01massert\u001b[39;00m \u001b[38;5;28mself\u001b[39m\u001b[38;5;241m.\u001b[39mhandles \u001b[38;5;129;01mis\u001b[39;00m \u001b[38;5;129;01mnot\u001b[39;00m \u001b[38;5;28;01mNone\u001b[39;00m\n\u001b[1;32m   1672\u001b[0m f \u001b[38;5;241m=\u001b[39m \u001b[38;5;28mself\u001b[39m\u001b[38;5;241m.\u001b[39mhandles\u001b[38;5;241m.\u001b[39mhandle\n",
      "File \u001b[0;32m/opt/conda/lib/python3.10/site-packages/pandas/io/common.py:859\u001b[0m, in \u001b[0;36mget_handle\u001b[0;34m(path_or_buf, mode, encoding, compression, memory_map, is_text, errors, storage_options)\u001b[0m\n\u001b[1;32m    854\u001b[0m \u001b[38;5;28;01melif\u001b[39;00m \u001b[38;5;28misinstance\u001b[39m(handle, \u001b[38;5;28mstr\u001b[39m):\n\u001b[1;32m    855\u001b[0m     \u001b[38;5;66;03m# Check whether the filename is to be opened in binary mode.\u001b[39;00m\n\u001b[1;32m    856\u001b[0m     \u001b[38;5;66;03m# Binary mode does not support 'encoding' and 'newline'.\u001b[39;00m\n\u001b[1;32m    857\u001b[0m     \u001b[38;5;28;01mif\u001b[39;00m ioargs\u001b[38;5;241m.\u001b[39mencoding \u001b[38;5;129;01mand\u001b[39;00m \u001b[38;5;124m\"\u001b[39m\u001b[38;5;124mb\u001b[39m\u001b[38;5;124m\"\u001b[39m \u001b[38;5;129;01mnot\u001b[39;00m \u001b[38;5;129;01min\u001b[39;00m ioargs\u001b[38;5;241m.\u001b[39mmode:\n\u001b[1;32m    858\u001b[0m         \u001b[38;5;66;03m# Encoding\u001b[39;00m\n\u001b[0;32m--> 859\u001b[0m         handle \u001b[38;5;241m=\u001b[39m \u001b[38;5;28;43mopen\u001b[39;49m\u001b[43m(\u001b[49m\n\u001b[1;32m    860\u001b[0m \u001b[43m            \u001b[49m\u001b[43mhandle\u001b[49m\u001b[43m,\u001b[49m\n\u001b[1;32m    861\u001b[0m \u001b[43m            \u001b[49m\u001b[43mioargs\u001b[49m\u001b[38;5;241;43m.\u001b[39;49m\u001b[43mmode\u001b[49m\u001b[43m,\u001b[49m\n\u001b[1;32m    862\u001b[0m \u001b[43m            \u001b[49m\u001b[43mencoding\u001b[49m\u001b[38;5;241;43m=\u001b[39;49m\u001b[43mioargs\u001b[49m\u001b[38;5;241;43m.\u001b[39;49m\u001b[43mencoding\u001b[49m\u001b[43m,\u001b[49m\n\u001b[1;32m    863\u001b[0m \u001b[43m            \u001b[49m\u001b[43merrors\u001b[49m\u001b[38;5;241;43m=\u001b[39;49m\u001b[43merrors\u001b[49m\u001b[43m,\u001b[49m\n\u001b[1;32m    864\u001b[0m \u001b[43m            \u001b[49m\u001b[43mnewline\u001b[49m\u001b[38;5;241;43m=\u001b[39;49m\u001b[38;5;124;43m\"\u001b[39;49m\u001b[38;5;124;43m\"\u001b[39;49m\u001b[43m,\u001b[49m\n\u001b[1;32m    865\u001b[0m \u001b[43m        \u001b[49m\u001b[43m)\u001b[49m\n\u001b[1;32m    866\u001b[0m     \u001b[38;5;28;01melse\u001b[39;00m:\n\u001b[1;32m    867\u001b[0m         \u001b[38;5;66;03m# Binary mode\u001b[39;00m\n\u001b[1;32m    868\u001b[0m         handle \u001b[38;5;241m=\u001b[39m \u001b[38;5;28mopen\u001b[39m(handle, ioargs\u001b[38;5;241m.\u001b[39mmode)\n",
      "\u001b[0;31mFileNotFoundError\u001b[0m: [Errno 2] No such file or directory: '../data/bots-dataset-bkp.csv'"
     ]
    }
   ],
   "source": [
    "from ipywidgets import interact, Layout, VBox, HBox, GridspecLayout, Dropdown, Text, Label, HTML, Textarea, Checkbox\n",
    "\n",
    "bots_dataset = pd.read_csv(bots_dataset_path)\n",
    "bots_dataset.fillna(0, inplace=True)\n",
    "bots_dataset['issue_count'].replace('na', 0, inplace=True)\n",
    "bots_dataset.issue_count = pd.to_numeric(bots_dataset.issue_count, errors='coerce')\n",
    "filtered_bots = bots_dataset.loc[bots_dataset['issue_count'] >= 100]\n",
    "\n",
    "def handle_change (*args):\n",
    "    bot_to_save = args[0]['old']\n",
    "    save_dateset(bot_to_save)\n",
    "    \n",
    "    bot_to_render = args[0]['new']\n",
    "    render_bot(bot_to_render)\n",
    "    query_issues()\n",
    "    \n",
    "def save_dateset(bot):\n",
    "    index = [x for x in bots_dataset.index if bots_dataset['account'][x] == bot][0]\n",
    "    \n",
    "    bots_dataset['functionality-descriptive'][index] = str(funcW.value)\n",
    "    bots_dataset['create'][index] = 1 if createT.value else 0\n",
    "    bots_dataset['comment'][index] = 1 if commentT.value else 0\n",
    "    bots_dataset['label'][index] = 1 if labelT.value else 0 \n",
    "    bots_dataset['close'][index] = 1 if closeT.value else 0\n",
    "    \n",
    "    bots_dataset['trigger-automated'][index] = 1 if trigger_auto.value else 0\n",
    "    bots_dataset['trigger-manual'][index] = 1 if trigger_manual.value else 0\n",
    "    bots_dataset['trigger-both'][index] = 1 if trigger_both.value else 0\n",
    "    \n",
    "    bots_dataset['issues-analyzed'][index] = str(issuesAnalyzedF.value)\n",
    "    \n",
    "    bots_dataset['other-remarks'][index] = str(otherRemarksF.value)\n",
    "    \n",
    "    bots_dataset.to_csv(bots_dataset_path, index=False)\n",
    "\n",
    "def render_bot(bot):\n",
    "    index = [x for x in bots_dataset.index if bots_dataset['account'][x] == bot][0]\n",
    "    \n",
    "    funcW.value = str(bots_dataset['functionality-descriptive'][index])\n",
    "\n",
    "    createT.value = True if bots_dataset['create'][index] == 1 else False\n",
    "    commentT.value = True if bots_dataset['comment'][index]  == 1 else False\n",
    "    labelT.value = True if bots_dataset['label'][index] == 1 else False\n",
    "    closeT.value = True if bots_dataset['close'][index] == 1 else False\n",
    "\n",
    "    trigger_auto.value = True if bots_dataset['trigger-automated'][index] == 1 else False\n",
    "    trigger_manual.value = True if bots_dataset['trigger-manual'][index] == 1 else False\n",
    "    trigger_both.value = True if  bots_dataset['trigger-both'][index] == 1 else False\n",
    "\n",
    "    otherRemarksF.value = str(bots_dataset['other-remarks'][index])\n",
    "    issuesAnalyzedF.value = str(bots_dataset['issues-analyzed'][index])\n",
    "    \n",
    "    query_issues()\n",
    "\n",
    "def query_issues(*args):\n",
    "    bot = botsW.value\n",
    "    sections = get_issues_per_bot(bot, int(nIssuesW.value) if nIssuesW.value else None)\n",
    "\n",
    "    html = f\"<p><span>Issues</span></p>\"\n",
    "    if sections:\n",
    "        for c in sections:\n",
    "            html += f\"<li><a href='{c}' target='_blank'>{c}</a></li>\"\n",
    "        html += \"</ul></p>\"\n",
    "    \n",
    "    issuesW.value = html\n",
    "    \n",
    "botsW = Dropdown(options=filtered_bots['account'].to_list())\n",
    "nIssuesW = Text()\n",
    "issuesW = HTML('')\n",
    "\n",
    "funcW = Textarea(layout=Layout(width=\"540px\", height=\"150px\"))\n",
    "\n",
    "createT = Checkbox(description='Create')\n",
    "commentT = Checkbox(description='Comment')\n",
    "labelT = Checkbox(description='Label')\n",
    "closeT = Checkbox(description='Close')\n",
    "\n",
    "trigger_auto = Checkbox(description='Automated')\n",
    "trigger_manual = Checkbox(description='Manual')\n",
    "trigger_both = Checkbox(description='Both')\n",
    "\n",
    "otherRemarksF = Textarea(layout=Layout(width=\"540px\", height=\"150px\"))\n",
    "issuesAnalyzedF = Textarea(layout=Layout(width=\"550px\", height=\"150px\"))\n",
    "\n",
    "\n",
    "selectorW = HBox([HTML('Bot: '), botsW])\n",
    "selectorIW = HBox([HTML('Isssues to analyze: '), nIssuesW])\n",
    "functionalityW = HBox([HTML('Functionality: '), funcW])\n",
    "tasksW = HBox([HTML('Tasks: '), VBox([createT, commentT, labelT, closeT])])\n",
    "triggerW = HBox([HTML('Trigger: '), VBox([trigger_auto, trigger_manual, trigger_both])])\n",
    "otherRemarksW = HBox([HTML('Other Remarks: '), otherRemarksF])\n",
    "issuesAnalyzedW = HBox([HTML('Issues Analyzed: '), issuesAnalyzedF])\n",
    "\n",
    "nIssuesW.observe(query_issues)\n",
    "botsW.observe(handle_change, names='value')\n",
    "mainW = HBox([VBox([selectorW, tasksW, triggerW, functionalityW, issuesAnalyzedW, otherRemarksW]), VBox([HBox([HTML('Number of Issues to Analyze'),nIssuesW]),issuesW])])\n",
    "render_bot(botsW.value)\n",
    "display(mainW)"
   ]
  }
 ],
 "metadata": {
  "kernelspec": {
   "display_name": "Python 3 (ipykernel)",
   "language": "python",
   "name": "python3"
  },
  "language_info": {
   "codemirror_mode": {
    "name": "ipython",
    "version": 3
   },
   "file_extension": ".py",
   "mimetype": "text/x-python",
   "name": "python",
   "nbconvert_exporter": "python",
   "pygments_lexer": "ipython3",
   "version": "3.10.0"
  }
 },
 "nbformat": 4,
 "nbformat_minor": 5
}
