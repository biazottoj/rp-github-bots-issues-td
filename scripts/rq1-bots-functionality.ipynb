{
 "cells": [
  {
   "cell_type": "markdown",
   "id": "dfea9502-8f66-4fb6-9cc5-3af90a1b3a35",
   "metadata": {},
   "source": [
    "# RQ1 - Bots Functionality"
   ]
  },
  {
   "cell_type": "markdown",
   "id": "d75b778f-a817-4fc9-804a-2e07ab7d8fee",
   "metadata": {},
   "source": [
    "### Setup Logging"
   ]
  },
  {
   "cell_type": "code",
   "execution_count": 1,
   "id": "39c33e61-ddd9-4473-9548-a6cad3e3fb82",
   "metadata": {
    "tags": []
   },
   "outputs": [
    {
     "name": "stdout",
     "output_type": "stream",
     "text": [
      "Defaulting to user installation because normal site-packages is not writeable\n",
      "Collecting emoji\n",
      "  Downloading emoji-2.4.0.tar.gz (353 kB)\n",
      "                                              0.0/353.7 kB ? eta -:--:--\n",
      "     ------------------------------------  348.2/353.7 kB 10.6 MB/s eta 0:00:01\n",
      "     -------------------------------------- 353.7/353.7 kB 4.3 MB/s eta 0:00:00\n",
      "  Preparing metadata (setup.py): started\n",
      "  Preparing metadata (setup.py): finished with status 'done'\n",
      "Building wheels for collected packages: emoji\n",
      "  Building wheel for emoji (setup.py): started\n",
      "  Building wheel for emoji (setup.py): finished with status 'done'\n",
      "  Created wheel for emoji: filename=emoji-2.4.0-py2.py3-none-any.whl size=350833 sha256=ef42e310e0c148975611f0793bbc7631ad809b1866242fa13f2811a8b72c902f\n",
      "  Stored in directory: c:\\users\\p308291\\appdata\\local\\pip\\cache\\wheels\\79\\29\\1c\\234cae4632803c2ba4a76a71a679eb1383cf590775714e2a21\n",
      "Successfully built emoji\n",
      "Installing collected packages: emoji\n",
      "Successfully installed emoji-2.4.0\n"
     ]
    },
    {
     "name": "stderr",
     "output_type": "stream",
     "text": [
      "\n",
      "[notice] A new release of pip is available: 23.1.1 -> 23.1.2\n",
      "[notice] To update, run: python.exe -m pip install --upgrade pip\n"
     ]
    }
   ],
   "source": [
    "!pip install emoji\n",
    "\n",
    "from IPython.display import clear_output\n",
    "import logging\n",
    "from ipylogging import DisplayHandler, HTMLFormatter\n",
    "import emoji\n",
    "\n",
    "handler = DisplayHandler()\n",
    "handler.setFormatter(HTMLFormatter())\n",
    "\n",
    "log = logging.getLogger()\n",
    "log.addHandler(handler)\n",
    "log.setLevel(logging.INFO)"
   ]
  },
  {
   "cell_type": "markdown",
   "id": "c50a15a6-6801-4df2-b30e-3861a5b70788",
   "metadata": {
    "tags": []
   },
   "source": [
    "### Setp 0 - Modules Import, Functions, and Global Variables"
   ]
  },
  {
   "cell_type": "code",
   "execution_count": 2,
   "id": "6ae6d4fa-4fa9-4e70-b3d5-c9e5fe2e4275",
   "metadata": {
    "tags": []
   },
   "outputs": [
    {
     "data": {
      "text/html": [
       "<span style=\"font-weight: bold; color: green\">2023-05-30 07:25:35,204</span> [<span style=\"font-weight: bold; color: dodgerblue\">INFO</span>] Note: NumExpr detected 16 cores but \"NUMEXPR_MAX_THREADS\" not set, so enforcing safe limit of 8."
      ],
      "text/plain": [
       "<IPython.core.display.HTML object>"
      ]
     },
     "metadata": {},
     "output_type": "display_data"
    },
    {
     "data": {
      "text/html": [
       "<span style=\"font-weight: bold; color: green\">2023-05-30 07:25:35,208</span> [<span style=\"font-weight: bold; color: dodgerblue\">INFO</span>] NumExpr defaulting to 8 threads."
      ],
      "text/plain": [
       "<IPython.core.display.HTML object>"
      ]
     },
     "metadata": {},
     "output_type": "display_data"
    },
    {
     "data": {
      "text/html": [
       "<span style=\"font-weight: bold; color: green\">2023-05-30 07:25:37,106</span> [<span style=\"font-weight: bold; color: dodgerblue\">INFO</span>] generated new fontManager"
      ],
      "text/plain": [
       "<IPython.core.display.HTML object>"
      ]
     },
     "metadata": {},
     "output_type": "display_data"
    }
   ],
   "source": [
    "import pandas as pd\n",
    "import matplotlib.pyplot as plt\n",
    "import seaborn as sns\n",
    "from pathlib import Path\n",
    "#from minirig import load_csv_dataset, save_csv_dataset\n",
    "import os\n",
    "import json\n",
    "\n",
    "data_dir = Path('../data')\n",
    "bots_dataset_path = data_dir.joinpath('bots-dataset-bkp.csv')\n",
    "bots_issues_dir = data_dir.joinpath('bots-issues')\n",
    "#bot_dataset = load_csv_dataset(bots_dataset_path)\n",
    "\n",
    "def plot_hist(data, x_label=\"\", y_label=\"\", title=\"\", bins=5):\n",
    "    # matplotlib histogram\n",
    "    plt.hist(data, color = 'blue', edgecolor = 'black', bins=bins)\n",
    "\n",
    "    # Add labels\n",
    "    plt.title(title)\n",
    "    plt.xlabel(x_label)\n",
    "    plt.ylabel(y_label)\n",
    "    plt.show()\n",
    "\n",
    "def get_issues_per_bot(bot = None, n_issues = None):\n",
    "    n_issues = n_issues if n_issues else 10\n",
    "    issues = []\n",
    "    issues_dir = Path('../data/bots-issues')\n",
    "    cnt = 1\n",
    "    for owner in os.listdir(issues_dir.joinpath(bot)):\n",
    "        for project in os.listdir(issues_dir.joinpath(bot).joinpath(owner)):\n",
    "            for issue in os.listdir(issues_dir.joinpath(bot).joinpath(owner).joinpath(project).joinpath('issues')):\n",
    "                issue_path = issues_dir.joinpath(bot).joinpath(owner).joinpath(project).joinpath('issues').joinpath(issue)\n",
    "                with open(issue_path.joinpath('json')) as f:\n",
    "                    issue = json.load(f)\n",
    "                    issues.append(issue['html_url'])\n",
    "                    cnt += 1\n",
    "                if cnt >= n_issues:\n",
    "                    return issues\n",
    "                    \n",
    "                \n",
    "    "
   ]
  },
  {
   "cell_type": "markdown",
   "id": "21bdc08f-7abb-41ff-9879-d0cc59a604c9",
   "metadata": {},
   "source": [
    "### Step 1 - Manual Analysis of Bots Functionality"
   ]
  },
  {
   "cell_type": "code",
   "execution_count": 3,
   "id": "d0eac8b3-5946-41a2-b56d-f4c3e2f30cc1",
   "metadata": {
    "tags": []
   },
   "outputs": [
    {
     "ename": "JSONDecodeError",
     "evalue": "Expecting value: line 1 column 1 (char 0)",
     "output_type": "error",
     "traceback": [
      "\u001b[1;31m---------------------------------------------------------------------------\u001b[0m",
      "\u001b[1;31mJSONDecodeError\u001b[0m                           Traceback (most recent call last)",
      "Cell \u001b[1;32mIn[3], line 134\u001b[0m\n\u001b[0;32m    132\u001b[0m botsW\u001b[39m.\u001b[39mobserve(handle_change, names\u001b[39m=\u001b[39m\u001b[39m'\u001b[39m\u001b[39mvalue\u001b[39m\u001b[39m'\u001b[39m)\n\u001b[0;32m    133\u001b[0m mainW \u001b[39m=\u001b[39m HBox([VBox([selectorW, tasksW, triggerW, functionalityW, issuesAnalyzedW, otherRemarksW, completedT]), VBox([HBox([HTML(\u001b[39m'\u001b[39m\u001b[39mNumber of Issues to Analyze\u001b[39m\u001b[39m'\u001b[39m),nIssuesW]),issuesAnalyzedBkp,issuesW])])\n\u001b[1;32m--> 134\u001b[0m render_bot(botsW\u001b[39m.\u001b[39;49mvalue)\n\u001b[0;32m    135\u001b[0m display(mainW)\n",
      "Cell \u001b[1;32mIn[3], line 80\u001b[0m, in \u001b[0;36mrender_bot\u001b[1;34m(bot)\u001b[0m\n\u001b[0;32m     77\u001b[0m otherRemarksF\u001b[39m.\u001b[39mvalue \u001b[39m=\u001b[39m \u001b[39mstr\u001b[39m(bots_dataset[\u001b[39m'\u001b[39m\u001b[39mother-remarks\u001b[39m\u001b[39m'\u001b[39m][index])\n\u001b[0;32m     78\u001b[0m issuesAnalyzedF\u001b[39m.\u001b[39mvalue \u001b[39m=\u001b[39m \u001b[39mstr\u001b[39m(bots_dataset[\u001b[39m'\u001b[39m\u001b[39missues-analyzed\u001b[39m\u001b[39m'\u001b[39m][index])\n\u001b[1;32m---> 80\u001b[0m query_issues()\n",
      "Cell \u001b[1;32mIn[3], line 89\u001b[0m, in \u001b[0;36mquery_issues\u001b[1;34m(*args)\u001b[0m\n\u001b[0;32m     87\u001b[0m \u001b[39mexcept\u001b[39;00m:\n\u001b[0;32m     88\u001b[0m     \u001b[39mpass\u001b[39;00m\n\u001b[1;32m---> 89\u001b[0m issuesL \u001b[39m=\u001b[39m get_issues_per_bot(bot, n)\n\u001b[0;32m     91\u001b[0m issuesW\u001b[39m.\u001b[39mchildren \u001b[39m=\u001b[39m [HBox([Checkbox(description\u001b[39m=\u001b[39m\u001b[39m'\u001b[39m\u001b[39m'\u001b[39m, value\u001b[39m=\u001b[39m\u001b[39mFalse\u001b[39;00m), HTML(\u001b[39mf\u001b[39m\u001b[39m'\u001b[39m\u001b[39m<a href=\u001b[39m\u001b[39m{\u001b[39;00mi\u001b[39m}\u001b[39;00m\u001b[39m target=\u001b[39m\u001b[39m\"\u001b[39m\u001b[39m_BLANK\u001b[39m\u001b[39m\"\u001b[39m\u001b[39m>\u001b[39m\u001b[39m{\u001b[39;00mi\u001b[39m}\u001b[39;00m\u001b[39m</a>\u001b[39m\u001b[39m'\u001b[39m)]) \u001b[39mfor\u001b[39;00m i \u001b[39min\u001b[39;00m issuesL]\n\u001b[0;32m     92\u001b[0m [i\u001b[39m.\u001b[39mchildren[\u001b[39m0\u001b[39m]\u001b[39m.\u001b[39mobserve(select_issue, names\u001b[39m=\u001b[39m\u001b[39m'\u001b[39m\u001b[39mvalue\u001b[39m\u001b[39m'\u001b[39m) \u001b[39mfor\u001b[39;00m i \u001b[39min\u001b[39;00m issuesW\u001b[39m.\u001b[39mchildren]\n",
      "Cell \u001b[1;32mIn[2], line 34\u001b[0m, in \u001b[0;36mget_issues_per_bot\u001b[1;34m(bot, n_issues)\u001b[0m\n\u001b[0;32m     32\u001b[0m issue_path \u001b[39m=\u001b[39m issues_dir\u001b[39m.\u001b[39mjoinpath(bot)\u001b[39m.\u001b[39mjoinpath(owner)\u001b[39m.\u001b[39mjoinpath(project)\u001b[39m.\u001b[39mjoinpath(\u001b[39m'\u001b[39m\u001b[39missues\u001b[39m\u001b[39m'\u001b[39m)\u001b[39m.\u001b[39mjoinpath(issue)\n\u001b[0;32m     33\u001b[0m \u001b[39mwith\u001b[39;00m \u001b[39mopen\u001b[39m(issue_path\u001b[39m.\u001b[39mjoinpath(\u001b[39m'\u001b[39m\u001b[39mjson\u001b[39m\u001b[39m'\u001b[39m)) \u001b[39mas\u001b[39;00m f:\n\u001b[1;32m---> 34\u001b[0m     issue \u001b[39m=\u001b[39m json\u001b[39m.\u001b[39;49mload(f)\n\u001b[0;32m     35\u001b[0m     issues\u001b[39m.\u001b[39mappend(issue[\u001b[39m'\u001b[39m\u001b[39mhtml_url\u001b[39m\u001b[39m'\u001b[39m])\n\u001b[0;32m     36\u001b[0m     cnt \u001b[39m+\u001b[39m\u001b[39m=\u001b[39m \u001b[39m1\u001b[39m\n",
      "File \u001b[1;32mc:\\tools\\Anaconda3\\lib\\json\\__init__.py:293\u001b[0m, in \u001b[0;36mload\u001b[1;34m(fp, cls, object_hook, parse_float, parse_int, parse_constant, object_pairs_hook, **kw)\u001b[0m\n\u001b[0;32m    274\u001b[0m \u001b[39mdef\u001b[39;00m \u001b[39mload\u001b[39m(fp, \u001b[39m*\u001b[39m, \u001b[39mcls\u001b[39m\u001b[39m=\u001b[39m\u001b[39mNone\u001b[39;00m, object_hook\u001b[39m=\u001b[39m\u001b[39mNone\u001b[39;00m, parse_float\u001b[39m=\u001b[39m\u001b[39mNone\u001b[39;00m,\n\u001b[0;32m    275\u001b[0m         parse_int\u001b[39m=\u001b[39m\u001b[39mNone\u001b[39;00m, parse_constant\u001b[39m=\u001b[39m\u001b[39mNone\u001b[39;00m, object_pairs_hook\u001b[39m=\u001b[39m\u001b[39mNone\u001b[39;00m, \u001b[39m*\u001b[39m\u001b[39m*\u001b[39mkw):\n\u001b[0;32m    276\u001b[0m     \u001b[39m\"\"\"Deserialize ``fp`` (a ``.read()``-supporting file-like object containing\u001b[39;00m\n\u001b[0;32m    277\u001b[0m \u001b[39m    a JSON document) to a Python object.\u001b[39;00m\n\u001b[0;32m    278\u001b[0m \n\u001b[1;32m   (...)\u001b[0m\n\u001b[0;32m    291\u001b[0m \u001b[39m    kwarg; otherwise ``JSONDecoder`` is used.\u001b[39;00m\n\u001b[0;32m    292\u001b[0m \u001b[39m    \"\"\"\u001b[39;00m\n\u001b[1;32m--> 293\u001b[0m     \u001b[39mreturn\u001b[39;00m loads(fp\u001b[39m.\u001b[39mread(),\n\u001b[0;32m    294\u001b[0m         \u001b[39mcls\u001b[39m\u001b[39m=\u001b[39m\u001b[39mcls\u001b[39m, object_hook\u001b[39m=\u001b[39mobject_hook,\n\u001b[0;32m    295\u001b[0m         parse_float\u001b[39m=\u001b[39mparse_float, parse_int\u001b[39m=\u001b[39mparse_int,\n\u001b[0;32m    296\u001b[0m         parse_constant\u001b[39m=\u001b[39mparse_constant, object_pairs_hook\u001b[39m=\u001b[39mobject_pairs_hook, \u001b[39m*\u001b[39m\u001b[39m*\u001b[39mkw)\n",
      "File \u001b[1;32mc:\\tools\\Anaconda3\\lib\\json\\__init__.py:346\u001b[0m, in \u001b[0;36mloads\u001b[1;34m(s, cls, object_hook, parse_float, parse_int, parse_constant, object_pairs_hook, **kw)\u001b[0m\n\u001b[0;32m    341\u001b[0m     s \u001b[39m=\u001b[39m s\u001b[39m.\u001b[39mdecode(detect_encoding(s), \u001b[39m'\u001b[39m\u001b[39msurrogatepass\u001b[39m\u001b[39m'\u001b[39m)\n\u001b[0;32m    343\u001b[0m \u001b[39mif\u001b[39;00m (\u001b[39mcls\u001b[39m \u001b[39mis\u001b[39;00m \u001b[39mNone\u001b[39;00m \u001b[39mand\u001b[39;00m object_hook \u001b[39mis\u001b[39;00m \u001b[39mNone\u001b[39;00m \u001b[39mand\u001b[39;00m\n\u001b[0;32m    344\u001b[0m         parse_int \u001b[39mis\u001b[39;00m \u001b[39mNone\u001b[39;00m \u001b[39mand\u001b[39;00m parse_float \u001b[39mis\u001b[39;00m \u001b[39mNone\u001b[39;00m \u001b[39mand\u001b[39;00m\n\u001b[0;32m    345\u001b[0m         parse_constant \u001b[39mis\u001b[39;00m \u001b[39mNone\u001b[39;00m \u001b[39mand\u001b[39;00m object_pairs_hook \u001b[39mis\u001b[39;00m \u001b[39mNone\u001b[39;00m \u001b[39mand\u001b[39;00m \u001b[39mnot\u001b[39;00m kw):\n\u001b[1;32m--> 346\u001b[0m     \u001b[39mreturn\u001b[39;00m _default_decoder\u001b[39m.\u001b[39;49mdecode(s)\n\u001b[0;32m    347\u001b[0m \u001b[39mif\u001b[39;00m \u001b[39mcls\u001b[39m \u001b[39mis\u001b[39;00m \u001b[39mNone\u001b[39;00m:\n\u001b[0;32m    348\u001b[0m     \u001b[39mcls\u001b[39m \u001b[39m=\u001b[39m JSONDecoder\n",
      "File \u001b[1;32mc:\\tools\\Anaconda3\\lib\\json\\decoder.py:337\u001b[0m, in \u001b[0;36mJSONDecoder.decode\u001b[1;34m(self, s, _w)\u001b[0m\n\u001b[0;32m    332\u001b[0m \u001b[39mdef\u001b[39;00m \u001b[39mdecode\u001b[39m(\u001b[39mself\u001b[39m, s, _w\u001b[39m=\u001b[39mWHITESPACE\u001b[39m.\u001b[39mmatch):\n\u001b[0;32m    333\u001b[0m     \u001b[39m\"\"\"Return the Python representation of ``s`` (a ``str`` instance\u001b[39;00m\n\u001b[0;32m    334\u001b[0m \u001b[39m    containing a JSON document).\u001b[39;00m\n\u001b[0;32m    335\u001b[0m \n\u001b[0;32m    336\u001b[0m \u001b[39m    \"\"\"\u001b[39;00m\n\u001b[1;32m--> 337\u001b[0m     obj, end \u001b[39m=\u001b[39m \u001b[39mself\u001b[39;49m\u001b[39m.\u001b[39;49mraw_decode(s, idx\u001b[39m=\u001b[39;49m_w(s, \u001b[39m0\u001b[39;49m)\u001b[39m.\u001b[39;49mend())\n\u001b[0;32m    338\u001b[0m     end \u001b[39m=\u001b[39m _w(s, end)\u001b[39m.\u001b[39mend()\n\u001b[0;32m    339\u001b[0m     \u001b[39mif\u001b[39;00m end \u001b[39m!=\u001b[39m \u001b[39mlen\u001b[39m(s):\n",
      "File \u001b[1;32mc:\\tools\\Anaconda3\\lib\\json\\decoder.py:355\u001b[0m, in \u001b[0;36mJSONDecoder.raw_decode\u001b[1;34m(self, s, idx)\u001b[0m\n\u001b[0;32m    353\u001b[0m     obj, end \u001b[39m=\u001b[39m \u001b[39mself\u001b[39m\u001b[39m.\u001b[39mscan_once(s, idx)\n\u001b[0;32m    354\u001b[0m \u001b[39mexcept\u001b[39;00m \u001b[39mStopIteration\u001b[39;00m \u001b[39mas\u001b[39;00m err:\n\u001b[1;32m--> 355\u001b[0m     \u001b[39mraise\u001b[39;00m JSONDecodeError(\u001b[39m\"\u001b[39m\u001b[39mExpecting value\u001b[39m\u001b[39m\"\u001b[39m, s, err\u001b[39m.\u001b[39mvalue) \u001b[39mfrom\u001b[39;00m \u001b[39mNone\u001b[39m\n\u001b[0;32m    356\u001b[0m \u001b[39mreturn\u001b[39;00m obj, end\n",
      "\u001b[1;31mJSONDecodeError\u001b[0m: Expecting value: line 1 column 1 (char 0)"
     ]
    }
   ],
   "source": [
    "from ipywidgets import *\n",
    "\n",
    "bots_dataset = pd.read_csv(bots_dataset_path)\n",
    "bots_dataset.fillna(0, inplace=True)\n",
    "bots_dataset['issue_count'].replace('na', 0, inplace=True)\n",
    "bots_dataset.issue_count = pd.to_numeric(bots_dataset.issue_count, errors='coerce')\n",
    "filtered_bots = bots_dataset.loc[bots_dataset['issue_count'] >= 100]\n",
    "emojis = {1:':check_mark_button:', 0:':hollow_red_circle:'}\n",
    "\n",
    "def handle_change (*args):\n",
    "    bot_to_save = args[0]['old']\n",
    "    save_dateset(bot_to_save)\n",
    "\n",
    "    remainingW.value = f'<p>Remaining Bots: {len([i for i in filtered_bots.index if bots_dataset[\"completed\"][i] == 0 and bots_dataset[\"issue_count\"][i] >= 100 ])}</p>'\n",
    "    bot_to_render = args[0]['new']\n",
    "    \n",
    "    render_bot(bot_to_render)\n",
    "    \n",
    "def select_issue(*args):\n",
    "    text = \"\"\n",
    "    for i in issuesW.children:\n",
    "        if i.children[0].value:\n",
    "            text += i.children[1].value.replace('href=', '').split(' ')[1] + '\\n'\n",
    "    issuesAnalyzedBkp.children[1].value = text\n",
    "    print(text)\n",
    "    \n",
    "def save_dateset(bot):\n",
    "    index = bot\n",
    "    \n",
    "    bots_dataset['functionality-descriptive'][index] = str(funcW.value)\n",
    "    bots_dataset['is-bot'][index] = 1 if is_botT.value else 0\n",
    "    bots_dataset['create'][index] = 1 if createT.value else 0\n",
    "    bots_dataset['comment'][index] = 1 if commentT.value else 0\n",
    "    bots_dataset['label'][index] = 1 if labelT.value else 0 \n",
    "    bots_dataset['assign'][index] = 1 if assignT.value else 0 \n",
    "    bots_dataset['close'][index] = 1 if closeT.value else 0\n",
    "    bots_dataset['completed'][index] = 1 if completedT.value else 0\n",
    "    bots_dataset['merge-pr'][index] = 1 if merge_prT.value else 0\n",
    "    bots_dataset['create-milestone'][index] = 1 if milestoneT.value else 0\n",
    "    bots_dataset['reopen'][index] = 1 if reopenT.value else 0\n",
    "    bots_dataset['lock'][index] = 1 if lockT.value else 0\n",
    "    \n",
    "    bots_dataset['trigger-automated'][index] = 1 if trigger_auto.value else 0\n",
    "    bots_dataset['trigger-manual'][index] = 1 if trigger_manual.value else 0\n",
    "    bots_dataset['trigger-both'][index] = 1 if trigger_both.value else 0\n",
    "    \n",
    "    bots_dataset['issues-analyzed'][index] = str(issuesAnalyzedF.value)\n",
    "    \n",
    "    bots_dataset['other-remarks'][index] = str(otherRemarksF.value)\n",
    "    \n",
    "    bots_dataset.to_csv(bots_dataset_path, index=False)\n",
    "\n",
    "def render_bot(bot):\n",
    "    index = bot\n",
    "    \n",
    "    funcW.value = str(bots_dataset['functionality-descriptive'][index])\n",
    "\n",
    "    is_botT.value = True if bots_dataset['is-bot'][index] == 1 else False\n",
    "\n",
    "    createT.value = True if bots_dataset['create'][index] == 1 else False\n",
    "    commentT.value = True if bots_dataset['comment'][index]  == 1 else False\n",
    "    labelT.value = True if bots_dataset['label'][index] == 1 else False\n",
    "    assignT.value = True if bots_dataset['assign'][index] == 1 else False\n",
    "    closeT.value = True if bots_dataset['close'][index] == 1 else False\n",
    "    merge_prT.value = True if bots_dataset['merge-pr'][index] == 1 else False\n",
    "    milestoneT.value = True if bots_dataset['create-milestone'][index] == 1 else False\n",
    "    reopenT.value = True if bots_dataset['create-milestone'][index] == 1 else False\n",
    "    lockT.value = True if bots_dataset['lock'][index] == 1 else False\n",
    "\n",
    "    \n",
    "    completedT.value = True if bots_dataset['completed'][index] == 1 else False\n",
    "\n",
    "    trigger_auto.value = True if bots_dataset['trigger-automated'][index] == 1 else False\n",
    "    trigger_manual.value = True if bots_dataset['trigger-manual'][index] == 1 else False\n",
    "    trigger_both.value = True if  bots_dataset['trigger-both'][index] == 1 else False\n",
    "\n",
    "    otherRemarksF.value = str(bots_dataset['other-remarks'][index])\n",
    "    issuesAnalyzedF.value = str(bots_dataset['issues-analyzed'][index])\n",
    "    \n",
    "    query_issues()\n",
    "\n",
    "def query_issues(*args):\n",
    "    bot = filtered_bots['account'][botsW.value]\n",
    "    n = 10\n",
    "    try:\n",
    "        n = int(nIssuesW.value)\n",
    "    except:\n",
    "        pass\n",
    "    issuesL = get_issues_per_bot(bot, n)\n",
    "    \n",
    "    issuesW.children = [HBox([Checkbox(description='', value=False), HTML(f'<a href={i} target=\"_BLANK\">{i}</a>')]) for i in issuesL]\n",
    "    [i.children[0].observe(select_issue, names='value') for i in issuesW.children]\n",
    "       \n",
    "completedT = Checkbox(description='Complete')\n",
    "\n",
    "botsW = Dropdown(options=[(emoji.emojize(f\"{filtered_bots['account'][i]} | {filtered_bots['issue_count'][i]} | {emojis[filtered_bots['completed'][i]]}\"), i) for i in filtered_bots.index]) \n",
    "\n",
    "nIssuesW = Text(value=\"10\")\n",
    "issuesW = VBox()\n",
    "remainingW = HTML(f'<p>Remaining Bots: {len([i for i in filtered_bots.index if filtered_bots[\"completed\"][i] == 0])}</p>')\n",
    "\n",
    "funcW = Textarea(layout=Layout(width=\"540px\", height=\"150px\"))\n",
    "\n",
    "createT = Checkbox(description='Create')\n",
    "commentT = Checkbox(description='Comment')\n",
    "assignT = Checkbox(description='Assign')\n",
    "labelT = Checkbox(description='Label')\n",
    "closeT = Checkbox(description='Close')\n",
    "merge_prT = Checkbox(description='Merge PR')\n",
    "milestoneT = Checkbox(description='Create Milestone')\n",
    "reopenT = Checkbox(description='Reopen')\n",
    "lockT = Checkbox(description='Lock')\n",
    "is_botT = Checkbox(description='Is a bot?')\n",
    "\n",
    "trigger_auto = Checkbox(description='Automated')\n",
    "trigger_manual = Checkbox(description='Manual')\n",
    "trigger_both = Checkbox(description='Both')\n",
    "\n",
    "otherRemarksF = Textarea(layout=Layout(width=\"540px\", height=\"150px\"))\n",
    "issuesAnalyzedF = Textarea(layout=Layout(width=\"550px\", height=\"150px\"))\n",
    "\n",
    "selectorW = HBox([VBox([HTML('Bot: '), remainingW]), botsW,is_botT]) #, #showAllT])\n",
    "selectorIW = HBox([HTML('Isssues to analyze: '), nIssuesW])\n",
    "functionalityW = HBox([HTML('Functionality: '), funcW])\n",
    "tasksW = HBox([HTML('Tasks: '), VBox([createT, commentT, labelT,assignT, closeT, merge_prT,milestoneT,reopenT,lockT])])\n",
    "triggerW = HBox([HTML('Trigger: '), VBox([trigger_auto, trigger_manual, trigger_both])])\n",
    "otherRemarksW = HBox([HTML('Other Remarks: '), otherRemarksF])\n",
    "issuesAnalyzedW = HBox([HTML('Issues Analyzed: '), issuesAnalyzedF])\n",
    "issuesAnalyzedBkp = HBox([HTML('Issues Bkp: '), Textarea(layout=Layout(width=\"540px\", height=\"150px\"))])\n",
    "\n",
    "nIssuesW.observe(query_issues)\n",
    "botsW.observe(handle_change, names='value')\n",
    "mainW = HBox([VBox([selectorW, tasksW, triggerW, functionalityW, issuesAnalyzedW, otherRemarksW, completedT]), VBox([HBox([HTML('Number of Issues to Analyze'),nIssuesW]),issuesAnalyzedBkp,issuesW])])\n",
    "render_bot(botsW.value)\n",
    "display(mainW)"
   ]
  }
 ],
 "metadata": {
  "kernelspec": {
   "display_name": "Python 3 (ipykernel)",
   "language": "python",
   "name": "python3"
  },
  "language_info": {
   "codemirror_mode": {
    "name": "ipython",
    "version": 3
   },
   "file_extension": ".py",
   "mimetype": "text/x-python",
   "name": "python",
   "nbconvert_exporter": "python",
   "pygments_lexer": "ipython3",
   "version": "3.10.0"
  }
 },
 "nbformat": 4,
 "nbformat_minor": 5
}
