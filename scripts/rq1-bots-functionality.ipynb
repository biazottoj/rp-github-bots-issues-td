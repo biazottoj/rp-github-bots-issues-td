{
 "cells": [
  {
   "cell_type": "markdown",
   "id": "dfea9502-8f66-4fb6-9cc5-3af90a1b3a35",
   "metadata": {},
   "source": [
    "# RQ1 - Bots Functionality"
   ]
  },
  {
   "cell_type": "markdown",
   "id": "d75b778f-a817-4fc9-804a-2e07ab7d8fee",
   "metadata": {},
   "source": [
    "### Setup Logging"
   ]
  },
  {
   "cell_type": "code",
   "execution_count": 2,
   "id": "39c33e61-ddd9-4473-9548-a6cad3e3fb82",
   "metadata": {
    "tags": []
   },
   "outputs": [],
   "source": [
    "from IPython.display import clear_output\n",
    "import logging\n",
    "from ipylogging import DisplayHandler, HTMLFormatter\n",
    "\n",
    "handler = DisplayHandler()\n",
    "handler.setFormatter(HTMLFormatter())\n",
    "\n",
    "log = logging.getLogger()\n",
    "log.addHandler(handler)\n",
    "log.setLevel(logging.INFO)"
   ]
  },
  {
   "cell_type": "markdown",
   "id": "c50a15a6-6801-4df2-b30e-3861a5b70788",
   "metadata": {
    "tags": []
   },
   "source": [
    "### Setp 0 - Modules Import, Functions, and Global Variables"
   ]
  },
  {
   "cell_type": "code",
   "execution_count": 3,
   "id": "6ae6d4fa-4fa9-4e70-b3d5-c9e5fe2e4275",
   "metadata": {
    "tags": []
   },
   "outputs": [],
   "source": [
    "import pandas as pd\n",
    "import matplotlib.pyplot as plt\n",
    "import seaborn as sns\n",
    "from pathlib import Path\n",
    "from minirig import load_csv_dataset, save_csv_dataset\n",
    "import os\n",
    "import json\n",
    "\n",
    "data_dir = Path('../data')\n",
    "bots_dataset_path = data_dir.joinpath('bots-dataset.csv')\n",
    "bots_issues_dir = data_dir.joinpath('bots-issues')\n",
    "bot_dataset = load_csv_dataset(bots_dataset_path)\n",
    "\n",
    "def plot_hist(data, x_label=\"\", y_label=\"\", title=\"\", bins=5):\n",
    "    # matplotlib histogram\n",
    "    plt.hist(data, color = 'blue', edgecolor = 'black', bins=bins)\n",
    "\n",
    "    # Add labels\n",
    "    plt.title(title)\n",
    "    plt.xlabel(x_label)\n",
    "    plt.ylabel(y_label)\n",
    "    plt.show()\n",
    "\n",
    "def get_issues_per_bot(issues_dir = None, bot = None):\n",
    "    for owner in os.listdir(issues_dir.joinpath(bot)):\n",
    "        for project in os.listdir(issues_dir.joinpath(bot).joinpath(owner)):\n",
    "            for issue in os.listdir(issues_dir.joinpath(bot).joinpath(owner).joinpath(project).joinpath('issues')):\n",
    "                issue_path = issues_dir.joinpath(bot).joinpath(owner).joinpath(project).joinpath('issues').joinpath(issue)\n",
    "                with open(issue_path.joinpath('json')) as f:\n",
    "                    yield [issue_path.joinpath('json'), json.load(f)]\n",
    "                \n",
    "    "
   ]
  },
  {
   "cell_type": "markdown",
   "id": "21bdc08f-7abb-41ff-9879-d0cc59a604c9",
   "metadata": {},
   "source": [
    "### Step 1 - Manual Analysis of Bots Functionality"
   ]
  },
  {
   "cell_type": "code",
   "execution_count": 55,
   "id": "15e18724-d19b-4d7e-b2e0-5883039c03c1",
   "metadata": {
    "tags": []
   },
   "outputs": [
    {
     "ename": "ValueError",
     "evalue": "invalid literal for int() with base 10: ''",
     "output_type": "error",
     "traceback": [
      "\u001b[0;31m---------------------------------------------------------------------------\u001b[0m",
      "\u001b[0;31mValueError\u001b[0m                                Traceback (most recent call last)",
      "Cell \u001b[0;32mIn[55], line 93\u001b[0m\n\u001b[1;32m     82\u001b[0m     ui \u001b[38;5;241m=\u001b[39m widgets\u001b[38;5;241m.\u001b[39mVBox([widgets\u001b[38;5;241m.\u001b[39mHBox([widgets\u001b[38;5;241m.\u001b[39mHTML(\u001b[38;5;124mf\u001b[39m\u001b[38;5;124m'\u001b[39m\u001b[38;5;124m<h4>Bot</h4>\u001b[39m\u001b[38;5;124m'\u001b[39m), widgets\u001b[38;5;241m.\u001b[39mVBox([bots_list_dropdown]),  widgets\u001b[38;5;241m.\u001b[39mHTML(\u001b[38;5;124m'\u001b[39m\u001b[38;5;124m<br/><br/>\u001b[39m\u001b[38;5;124m'\u001b[39m)]),\n\u001b[1;32m     83\u001b[0m                    widgets\u001b[38;5;241m.\u001b[39mHBox([widgets\u001b[38;5;241m.\u001b[39mHTML(\u001b[38;5;124mf\u001b[39m\u001b[38;5;124m'\u001b[39m\u001b[38;5;124m<h4>Issues for Analysis</h4>\u001b[39m\u001b[38;5;124m'\u001b[39m), widgets\u001b[38;5;241m.\u001b[39mVBox([]),  widgets\u001b[38;5;241m.\u001b[39mHTML(\u001b[38;5;124m'\u001b[39m\u001b[38;5;124m<br/><br/>\u001b[39m\u001b[38;5;124m'\u001b[39m)]),\n\u001b[1;32m     84\u001b[0m                    widgets\u001b[38;5;241m.\u001b[39mHBox([widgets\u001b[38;5;241m.\u001b[39mHTML(\u001b[38;5;124mf\u001b[39m\u001b[38;5;124m'\u001b[39m\u001b[38;5;124m<h4>Functionality</h4>\u001b[39m\u001b[38;5;124m'\u001b[39m), descritive_func_text_area, widgets\u001b[38;5;241m.\u001b[39mHTML(\u001b[38;5;124m'\u001b[39m\u001b[38;5;124m<br/><br/>\u001b[39m\u001b[38;5;124m'\u001b[39m)]),\n\u001b[0;32m   (...)\u001b[0m\n\u001b[1;32m     87\u001b[0m                    widgets\u001b[38;5;241m.\u001b[39mHBox([widgets\u001b[38;5;241m.\u001b[39mHTML(\u001b[38;5;124mf\u001b[39m\u001b[38;5;124m'\u001b[39m\u001b[38;5;124m<h4>Other Remarks</h4>\u001b[39m\u001b[38;5;124m'\u001b[39m), other_remarks_text_area, widgets\u001b[38;5;241m.\u001b[39mHTML(\u001b[38;5;124m'\u001b[39m\u001b[38;5;124m<br/><br/>\u001b[39m\u001b[38;5;124m'\u001b[39m)]),\n\u001b[1;32m     88\u001b[0m                    widgets\u001b[38;5;241m.\u001b[39mHBox([pb])])\n\u001b[1;32m     90\u001b[0m     \u001b[38;5;28;01mreturn\u001b[39;00m ui\n\u001b[0;32m---> 93\u001b[0m display(\u001b[43mbuild_ui\u001b[49m\u001b[43m(\u001b[49m\u001b[43m)\u001b[49m)\n",
      "Cell \u001b[0;32mIn[55], line 48\u001b[0m, in \u001b[0;36mbuild_ui\u001b[0;34m()\u001b[0m\n\u001b[1;32m     39\u001b[0m trigger_both \u001b[38;5;241m=\u001b[39m widgets\u001b[38;5;241m.\u001b[39mCheckbox(description\u001b[38;5;241m=\u001b[39m\u001b[38;5;124m\"\u001b[39m\u001b[38;5;124mBoth\u001b[39m\u001b[38;5;124m\"\u001b[39m)\n\u001b[1;32m     41\u001b[0m pb \u001b[38;5;241m=\u001b[39m widgets\u001b[38;5;241m.\u001b[39mButton(\n\u001b[1;32m     42\u001b[0m     description\u001b[38;5;241m=\u001b[39m\u001b[38;5;124m'\u001b[39m\u001b[38;5;124mSave\u001b[39m\u001b[38;5;124m'\u001b[39m,\n\u001b[1;32m     43\u001b[0m     disabled\u001b[38;5;241m=\u001b[39m\u001b[38;5;28;01mFalse\u001b[39;00m,\n\u001b[1;32m     44\u001b[0m     button_style\u001b[38;5;241m=\u001b[39m\u001b[38;5;124m'\u001b[39m\u001b[38;5;124msuccess\u001b[39m\u001b[38;5;124m'\u001b[39m, \u001b[38;5;66;03m# 'success', 'info', 'warning', 'danger' or ''\u001b[39;00m\n\u001b[1;32m     45\u001b[0m     tooltip\u001b[38;5;241m=\u001b[39m\u001b[38;5;124m'\u001b[39m\u001b[38;5;124mSave\u001b[39m\u001b[38;5;124m'\u001b[39m,\n\u001b[1;32m     46\u001b[0m )\n\u001b[0;32m---> 48\u001b[0m bots \u001b[38;5;241m=\u001b[39m [(x[\u001b[38;5;124m'\u001b[39m\u001b[38;5;124maccount\u001b[39m\u001b[38;5;124m'\u001b[39m],i) \u001b[38;5;28;01mfor\u001b[39;00m i, x \u001b[38;5;129;01min\u001b[39;00m \u001b[38;5;28menumerate\u001b[39m(bot_dataset) \u001b[38;5;28;01mif\u001b[39;00m x[\u001b[38;5;124m'\u001b[39m\u001b[38;5;124maccount\u001b[39m\u001b[38;5;124m'\u001b[39m] \u001b[38;5;241m!=\u001b[39m \u001b[38;5;124m'\u001b[39m\u001b[38;5;124m'\u001b[39m \u001b[38;5;129;01mand\u001b[39;00m x[\u001b[38;5;124m'\u001b[39m\u001b[38;5;124missue_count\u001b[39m\u001b[38;5;124m'\u001b[39m] \u001b[38;5;241m!=\u001b[39m \u001b[38;5;124m'\u001b[39m\u001b[38;5;124mna\u001b[39m\u001b[38;5;124m'\u001b[39m \u001b[38;5;129;01mand\u001b[39;00m \u001b[38;5;28mint\u001b[39m(x[\u001b[38;5;124m'\u001b[39m\u001b[38;5;124missue_count\u001b[39m\u001b[38;5;124m'\u001b[39m]) \u001b[38;5;241m>\u001b[39m\u001b[38;5;241m=\u001b[39m \u001b[38;5;241m100\u001b[39m ]\n\u001b[1;32m     49\u001b[0m bots_list_dropdown \u001b[38;5;241m=\u001b[39m widgets\u001b[38;5;241m.\u001b[39mDropdown(\n\u001b[1;32m     50\u001b[0m options\u001b[38;5;241m=\u001b[39mbots,\n\u001b[1;32m     51\u001b[0m value\u001b[38;5;241m=\u001b[39m\u001b[38;5;241m0\u001b[39m,\n\u001b[1;32m     52\u001b[0m description\u001b[38;5;241m=\u001b[39m\u001b[38;5;124m'\u001b[39m\u001b[38;5;124m'\u001b[39m,\n\u001b[1;32m     53\u001b[0m disabled\u001b[38;5;241m=\u001b[39m\u001b[38;5;28;01mFalse\u001b[39;00m)\n\u001b[1;32m     55\u001b[0m \u001b[38;5;28;01mdef\u001b[39;00m \u001b[38;5;21mon_change\u001b[39m(change):\n",
      "Cell \u001b[0;32mIn[55], line 48\u001b[0m, in \u001b[0;36m<listcomp>\u001b[0;34m(.0)\u001b[0m\n\u001b[1;32m     39\u001b[0m trigger_both \u001b[38;5;241m=\u001b[39m widgets\u001b[38;5;241m.\u001b[39mCheckbox(description\u001b[38;5;241m=\u001b[39m\u001b[38;5;124m\"\u001b[39m\u001b[38;5;124mBoth\u001b[39m\u001b[38;5;124m\"\u001b[39m)\n\u001b[1;32m     41\u001b[0m pb \u001b[38;5;241m=\u001b[39m widgets\u001b[38;5;241m.\u001b[39mButton(\n\u001b[1;32m     42\u001b[0m     description\u001b[38;5;241m=\u001b[39m\u001b[38;5;124m'\u001b[39m\u001b[38;5;124mSave\u001b[39m\u001b[38;5;124m'\u001b[39m,\n\u001b[1;32m     43\u001b[0m     disabled\u001b[38;5;241m=\u001b[39m\u001b[38;5;28;01mFalse\u001b[39;00m,\n\u001b[1;32m     44\u001b[0m     button_style\u001b[38;5;241m=\u001b[39m\u001b[38;5;124m'\u001b[39m\u001b[38;5;124msuccess\u001b[39m\u001b[38;5;124m'\u001b[39m, \u001b[38;5;66;03m# 'success', 'info', 'warning', 'danger' or ''\u001b[39;00m\n\u001b[1;32m     45\u001b[0m     tooltip\u001b[38;5;241m=\u001b[39m\u001b[38;5;124m'\u001b[39m\u001b[38;5;124mSave\u001b[39m\u001b[38;5;124m'\u001b[39m,\n\u001b[1;32m     46\u001b[0m )\n\u001b[0;32m---> 48\u001b[0m bots \u001b[38;5;241m=\u001b[39m [(x[\u001b[38;5;124m'\u001b[39m\u001b[38;5;124maccount\u001b[39m\u001b[38;5;124m'\u001b[39m],i) \u001b[38;5;28;01mfor\u001b[39;00m i, x \u001b[38;5;129;01min\u001b[39;00m \u001b[38;5;28menumerate\u001b[39m(bot_dataset) \u001b[38;5;28;01mif\u001b[39;00m x[\u001b[38;5;124m'\u001b[39m\u001b[38;5;124maccount\u001b[39m\u001b[38;5;124m'\u001b[39m] \u001b[38;5;241m!=\u001b[39m \u001b[38;5;124m'\u001b[39m\u001b[38;5;124m'\u001b[39m \u001b[38;5;129;01mand\u001b[39;00m x[\u001b[38;5;124m'\u001b[39m\u001b[38;5;124missue_count\u001b[39m\u001b[38;5;124m'\u001b[39m] \u001b[38;5;241m!=\u001b[39m \u001b[38;5;124m'\u001b[39m\u001b[38;5;124mna\u001b[39m\u001b[38;5;124m'\u001b[39m \u001b[38;5;129;01mand\u001b[39;00m \u001b[38;5;28;43mint\u001b[39;49m\u001b[43m(\u001b[49m\u001b[43mx\u001b[49m\u001b[43m[\u001b[49m\u001b[38;5;124;43m'\u001b[39;49m\u001b[38;5;124;43missue_count\u001b[39;49m\u001b[38;5;124;43m'\u001b[39;49m\u001b[43m]\u001b[49m\u001b[43m)\u001b[49m \u001b[38;5;241m>\u001b[39m\u001b[38;5;241m=\u001b[39m \u001b[38;5;241m100\u001b[39m ]\n\u001b[1;32m     49\u001b[0m bots_list_dropdown \u001b[38;5;241m=\u001b[39m widgets\u001b[38;5;241m.\u001b[39mDropdown(\n\u001b[1;32m     50\u001b[0m options\u001b[38;5;241m=\u001b[39mbots,\n\u001b[1;32m     51\u001b[0m value\u001b[38;5;241m=\u001b[39m\u001b[38;5;241m0\u001b[39m,\n\u001b[1;32m     52\u001b[0m description\u001b[38;5;241m=\u001b[39m\u001b[38;5;124m'\u001b[39m\u001b[38;5;124m'\u001b[39m,\n\u001b[1;32m     53\u001b[0m disabled\u001b[38;5;241m=\u001b[39m\u001b[38;5;28;01mFalse\u001b[39;00m)\n\u001b[1;32m     55\u001b[0m \u001b[38;5;28;01mdef\u001b[39;00m \u001b[38;5;21mon_change\u001b[39m(change):\n",
      "\u001b[0;31mValueError\u001b[0m: invalid literal for int() with base 10: ''"
     ]
    }
   ],
   "source": [
    "import ipywidgets as widgets\n",
    "from IPython.display import display\n",
    "\n",
    "from minirig import load_csv_dataset\n",
    "\n",
    "def on_item_change():\n",
    "    return 0\n",
    "    \n",
    "def get_issues_for_analysis(issue_list):\n",
    "    html_issues = []\n",
    "    for i in issue_list:\n",
    "        html_issues.append(widgets.HTML(f'<a href=\"{i}\" target=\"_BLANK\">{i}</a>'))\n",
    "    return html_issues\n",
    "\n",
    "\n",
    "def build_ui():    \n",
    "    \n",
    "    bot_dataset = load_csv_dataset(bots_dataset_path)\n",
    "\n",
    "    descritive_func_text_area = widgets.Textarea(\n",
    "    value='',\n",
    "    placeholder='Type the functionality as descriptive as possible',\n",
    "    disabled=False)\n",
    "\n",
    "    \n",
    "    other_remarks_text_area = widgets.Textarea(\n",
    "        value='',\n",
    "        placeholder='Type other remarks',\n",
    "        disabled=False\n",
    "    )\n",
    "    \n",
    "    comment_issue = widgets.Checkbox(description=\"Comment\")\n",
    "    create_issue = widgets.Checkbox(description=\"Create\")\n",
    "    close_issue = widgets.Checkbox(description=\"Close\")\n",
    "    label_issue = widgets.Checkbox(description=\"Label\")\n",
    "    \n",
    "    trigger_automated = widgets.Checkbox(description=\"Automated\")\n",
    "    trigger_manual = widgets.Checkbox(description=\"Manual\")\n",
    "    trigger_both = widgets.Checkbox(description=\"Both\")\n",
    "\n",
    "    pb = widgets.Button(\n",
    "        description='Save',\n",
    "        disabled=False,\n",
    "        button_style='success', # 'success', 'info', 'warning', 'danger' or ''\n",
    "        tooltip='Save',\n",
    "    )\n",
    "    \n",
    "    bots = [(x['account'],i) for i, x in enumerate(bot_dataset) if x['account'] != '' and x['issue_count'] != 'na' and int(x['issue_count']) >= 100 ]\n",
    "    bots_list_dropdown = widgets.Dropdown(\n",
    "    options=bots,\n",
    "    value=0,\n",
    "    description='',\n",
    "    disabled=False)\n",
    "    \n",
    "    def on_change(change):\n",
    "        save_bot(change['old'])\n",
    "        load_bot(change['new'])\n",
    "    \n",
    "    def save_bot(bot):\n",
    "        print(bot)\n",
    "        \n",
    "        c = 1 if comment_issue.value else 0\n",
    "        cr = 1 if create_issue.value else 0\n",
    "        cl = 1 if close_issue.value else 0\n",
    "        lb = 1 if label_issue.value else 0\n",
    "        \n",
    "        man = 1 if trigger_manual else 0\n",
    "        aut = 1 if trigger_automated else 0\n",
    "        both = 1 if trigger_both else 0\n",
    "        \n",
    "        bot_dataset[bot]['account']\n",
    "    \n",
    "    def load_bot(bot):\n",
    "        return 0\n",
    "\n",
    "    \n",
    "\n",
    "        \n",
    "    \n",
    "    bots_list_dropdown.observe(on_change, 'value')\n",
    "    \n",
    "    ui = widgets.VBox([widgets.HBox([widgets.HTML(f'<h4>Bot</h4>'), widgets.VBox([bots_list_dropdown]),  widgets.HTML('<br/><br/>')]),\n",
    "                   widgets.HBox([widgets.HTML(f'<h4>Issues for Analysis</h4>'), widgets.VBox([]),  widgets.HTML('<br/><br/>')]),\n",
    "                   widgets.HBox([widgets.HTML(f'<h4>Functionality</h4>'), descritive_func_text_area, widgets.HTML('<br/><br/>')]),\n",
    "                   widgets.HBox([widgets.HTML(f'<h4>Actions</h4>'), widgets.VBox([create_issue, comment_issue, close_issue, label_issue]),  widgets.HTML('<br/><br/>')]),\n",
    "                   widgets.HBox([widgets.HTML(f'<h4>Trigger</h4>'), widgets.VBox([trigger_automated, trigger_manual, trigger_both]),  widgets.HTML('<br/><br/>')]),\n",
    "                   widgets.HBox([widgets.HTML(f'<h4>Other Remarks</h4>'), other_remarks_text_area, widgets.HTML('<br/><br/>')]),\n",
    "                   widgets.HBox([pb])])\n",
    "        \n",
    "    return ui\n",
    "    \n",
    "    \n",
    "display(build_ui())"
   ]
  },
  {
   "cell_type": "code",
   "execution_count": 53,
   "id": "8301ffbf-7118-4e5f-8537-cc34ff5f4a2c",
   "metadata": {
    "tags": []
   },
   "outputs": [
    {
     "data": {
      "text/plain": [
       "dict_keys(['account', 'issue_count', 'n-projects', 'issues-opening', 'issues-closing', 'n-comments', 'issues-commenting', 'functionality-descriptive', 'issues-evidence', 'issue-create', 'issue-close', 'issue-comment', 'issue-label', 'trigger-manual', 'trigger-automated', 'trigger-both', 'other-remarks', None])"
      ]
     },
     "execution_count": 53,
     "metadata": {},
     "output_type": "execute_result"
    }
   ],
   "source": [
    "bot_dataset = load_csv_dataset(bots_dataset_path)\n",
    "bot_dataset[0].keys()"
   ]
  }
 ],
 "metadata": {
  "kernelspec": {
   "display_name": "Python 3 (ipykernel)",
   "language": "python",
   "name": "python3"
  },
  "language_info": {
   "codemirror_mode": {
    "name": "ipython",
    "version": 3
   },
   "file_extension": ".py",
   "mimetype": "text/x-python",
   "name": "python",
   "nbconvert_exporter": "python",
   "pygments_lexer": "ipython3",
   "version": "3.10.0"
  }
 },
 "nbformat": 4,
 "nbformat_minor": 5
}
