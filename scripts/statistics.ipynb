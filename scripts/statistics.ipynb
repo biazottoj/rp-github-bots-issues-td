{
 "cells": [
  {
   "cell_type": "markdown",
   "id": "b1617754",
   "metadata": {},
   "source": [
    "## Step 0 - Importing modules and dataset"
   ]
  },
  {
   "cell_type": "code",
   "execution_count": 38,
   "id": "0e33bf15",
   "metadata": {},
   "outputs": [],
   "source": [
    "import pandas as pd\n",
    "import matplotlib.pyplot as plt\n",
    "import seaborn as sns\n",
    "\n",
    "issues_dataset = pd.read_csv('../data/dataset-backup2.csv')\n",
    "issues_dataset = issues_dataset.loc[issues_dataset['td-label'] != '-'].drop(['Unnamed: 0'], axis=1)\n",
    "\n",
    "def plot_hist(data, x_label, y_label, title):\n",
    "    # matplotlib histogram\n",
    "    plt.hist(data, color = 'blue', edgecolor = 'black', bins=5)\n",
    "\n",
    "    # Add labels\n",
    "    plt.title(title)\n",
    "    plt.xlabel(x_label)\n",
    "    plt.ylabel(y_label)"
   ]
  },
  {
   "cell_type": "code",
   "execution_count": 60,
   "id": "1b2f4fef",
   "metadata": {},
   "outputs": [
    {
     "data": {
      "text/html": [
       "<div>\n",
       "<style scoped>\n",
       "    .dataframe tbody tr th:only-of-type {\n",
       "        vertical-align: middle;\n",
       "    }\n",
       "\n",
       "    .dataframe tbody tr th {\n",
       "        vertical-align: top;\n",
       "    }\n",
       "\n",
       "    .dataframe thead th {\n",
       "        text-align: right;\n",
       "    }\n",
       "</style>\n",
       "<table border=\"1\" class=\"dataframe\">\n",
       "  <thead>\n",
       "    <tr style=\"text-align: right;\">\n",
       "      <th></th>\n",
       "      <th>bot</th>\n",
       "      <th>owner</th>\n",
       "      <th>project</th>\n",
       "      <th>issue</th>\n",
       "      <th>text</th>\n",
       "      <th>type</th>\n",
       "      <th>author-login</th>\n",
       "      <th>open-date</th>\n",
       "      <th>state</th>\n",
       "      <th>close-date</th>\n",
       "      <th>closed-by</th>\n",
       "      <th>n-comments</th>\n",
       "      <th>td-label</th>\n",
       "      <th>td-label-li-emse</th>\n",
       "    </tr>\n",
       "  </thead>\n",
       "  <tbody>\n",
       "    <tr>\n",
       "      <th>38</th>\n",
       "      <td>glassfishrobot</td>\n",
       "      <td>eclipse-ee4j</td>\n",
       "      <td>glassfish-hk2</td>\n",
       "      <td>16</td>\n",
       "      <td>Per guice documentation, `getExistingBinding()...</td>\n",
       "      <td>body</td>\n",
       "      <td>glassfishrobot</td>\n",
       "      <td>2015-07-08T02:41:26Z</td>\n",
       "      <td>closed</td>\n",
       "      <td>2015-07-08T13:01:09Z</td>\n",
       "      <td>glassfishrobot</td>\n",
       "      <td>2.0</td>\n",
       "      <td>SATD</td>\n",
       "      <td>-</td>\n",
       "    </tr>\n",
       "    <tr>\n",
       "      <th>47</th>\n",
       "      <td>glassfishrobot</td>\n",
       "      <td>eclipse-ee4j</td>\n",
       "      <td>soteria</td>\n",
       "      <td>5</td>\n",
       "      <td>@arjantijms  Can't build it locally\\r\\n\\r\\n```...</td>\n",
       "      <td>body</td>\n",
       "      <td>glassfishrobot</td>\n",
       "      <td>2016-05-10T23:32:26Z</td>\n",
       "      <td>closed</td>\n",
       "      <td>2016-05-11T11:05:57Z</td>\n",
       "      <td>glassfishrobot</td>\n",
       "      <td>2.0</td>\n",
       "      <td>SATD</td>\n",
       "      <td>-</td>\n",
       "    </tr>\n",
       "    <tr>\n",
       "      <th>49</th>\n",
       "      <td>glassfishrobot</td>\n",
       "      <td>eclipse-ee4j</td>\n",
       "      <td>soteria</td>\n",
       "      <td>5</td>\n",
       "      <td>@arjantijms Commented \\r\\nThanks again for the...</td>\n",
       "      <td>comment_1</td>\n",
       "      <td>glassfishrobot</td>\n",
       "      <td>2016-05-11T11:05:57Z</td>\n",
       "      <td>-</td>\n",
       "      <td>-</td>\n",
       "      <td>-</td>\n",
       "      <td>NaN</td>\n",
       "      <td>SATD</td>\n",
       "      <td>-</td>\n",
       "    </tr>\n",
       "    <tr>\n",
       "      <th>54</th>\n",
       "      <td>glassfishrobot</td>\n",
       "      <td>eclipse-ee4j</td>\n",
       "      <td>glassfish-hk2</td>\n",
       "      <td>40</td>\n",
       "      <td>There's a comment in the docs to note this fac...</td>\n",
       "      <td>body</td>\n",
       "      <td>glassfishrobot</td>\n",
       "      <td>2016-09-19T23:46:06Z</td>\n",
       "      <td>open</td>\n",
       "      <td>NaN</td>\n",
       "      <td>-</td>\n",
       "      <td>3.0</td>\n",
       "      <td>SATD</td>\n",
       "      <td>-</td>\n",
       "    </tr>\n",
       "    <tr>\n",
       "      <th>64</th>\n",
       "      <td>glassfishrobot</td>\n",
       "      <td>eclipse-ee4j</td>\n",
       "      <td>glassfish-hk2</td>\n",
       "      <td>44</td>\n",
       "      <td>Memory leak in Hk2ThreadLocal</td>\n",
       "      <td>title</td>\n",
       "      <td>glassfishrobot</td>\n",
       "      <td>2016-12-15T19:40:37Z</td>\n",
       "      <td>closed</td>\n",
       "      <td>2016-12-16T15:38:28Z</td>\n",
       "      <td>glassfishrobot</td>\n",
       "      <td>15.0</td>\n",
       "      <td>SATD</td>\n",
       "      <td>-</td>\n",
       "    </tr>\n",
       "  </tbody>\n",
       "</table>\n",
       "</div>"
      ],
      "text/plain": [
       "               bot         owner        project  issue  \\\n",
       "38  glassfishrobot  eclipse-ee4j  glassfish-hk2     16   \n",
       "47  glassfishrobot  eclipse-ee4j        soteria      5   \n",
       "49  glassfishrobot  eclipse-ee4j        soteria      5   \n",
       "54  glassfishrobot  eclipse-ee4j  glassfish-hk2     40   \n",
       "64  glassfishrobot  eclipse-ee4j  glassfish-hk2     44   \n",
       "\n",
       "                                                 text       type  \\\n",
       "38  Per guice documentation, `getExistingBinding()...       body   \n",
       "47  @arjantijms  Can't build it locally\\r\\n\\r\\n```...       body   \n",
       "49  @arjantijms Commented \\r\\nThanks again for the...  comment_1   \n",
       "54  There's a comment in the docs to note this fac...       body   \n",
       "64                      Memory leak in Hk2ThreadLocal      title   \n",
       "\n",
       "      author-login             open-date   state            close-date  \\\n",
       "38  glassfishrobot  2015-07-08T02:41:26Z  closed  2015-07-08T13:01:09Z   \n",
       "47  glassfishrobot  2016-05-10T23:32:26Z  closed  2016-05-11T11:05:57Z   \n",
       "49  glassfishrobot  2016-05-11T11:05:57Z       -                     -   \n",
       "54  glassfishrobot  2016-09-19T23:46:06Z    open                   NaN   \n",
       "64  glassfishrobot  2016-12-15T19:40:37Z  closed  2016-12-16T15:38:28Z   \n",
       "\n",
       "         closed-by  n-comments td-label td-label-li-emse  \n",
       "38  glassfishrobot         2.0     SATD                -  \n",
       "47  glassfishrobot         2.0     SATD                -  \n",
       "49               -         NaN     SATD                -  \n",
       "54               -         3.0     SATD                -  \n",
       "64  glassfishrobot        15.0     SATD                -  "
      ]
     },
     "execution_count": 60,
     "metadata": {},
     "output_type": "execute_result"
    }
   ],
   "source": [
    "sections_with_td = issues_dataset.loc[issues_dataset['td-label'] != 'non-SATD']"
   ]
  },
  {
   "cell_type": "markdown",
   "id": "894c27a1",
   "metadata": {},
   "source": [
    "Number of TD per section type"
   ]
  },
  {
   "cell_type": "code",
   "execution_count": 68,
   "id": "c19f3242",
   "metadata": {},
   "outputs": [
    {
     "data": {
      "text/html": [
       "<div>\n",
       "<style scoped>\n",
       "    .dataframe tbody tr th:only-of-type {\n",
       "        vertical-align: middle;\n",
       "    }\n",
       "\n",
       "    .dataframe tbody tr th {\n",
       "        vertical-align: top;\n",
       "    }\n",
       "\n",
       "    .dataframe thead th {\n",
       "        text-align: right;\n",
       "    }\n",
       "</style>\n",
       "<table border=\"1\" class=\"dataframe\">\n",
       "  <thead>\n",
       "    <tr style=\"text-align: right;\">\n",
       "      <th></th>\n",
       "      <th>issue</th>\n",
       "    </tr>\n",
       "    <tr>\n",
       "      <th>type</th>\n",
       "      <th></th>\n",
       "    </tr>\n",
       "  </thead>\n",
       "  <tbody>\n",
       "    <tr>\n",
       "      <th>body</th>\n",
       "      <td>613</td>\n",
       "    </tr>\n",
       "    <tr>\n",
       "      <th>title</th>\n",
       "      <td>144</td>\n",
       "    </tr>\n",
       "    <tr>\n",
       "      <th>comment_2</th>\n",
       "      <td>132</td>\n",
       "    </tr>\n",
       "    <tr>\n",
       "      <th>comment_1</th>\n",
       "      <td>126</td>\n",
       "    </tr>\n",
       "    <tr>\n",
       "      <th>comment_0</th>\n",
       "      <td>104</td>\n",
       "    </tr>\n",
       "  </tbody>\n",
       "</table>\n",
       "</div>"
      ],
      "text/plain": [
       "           issue\n",
       "type            \n",
       "body         613\n",
       "title        144\n",
       "comment_2    132\n",
       "comment_1    126\n",
       "comment_0    104"
      ]
     },
     "execution_count": 68,
     "metadata": {},
     "output_type": "execute_result"
    }
   ],
   "source": [
    "sections_with_td.loc[:,['type','issue']].groupby(['type']).count().sort_values(by='issue', ascending=False).head()"
   ]
  },
  {
   "cell_type": "markdown",
   "id": "fd2d754b",
   "metadata": {},
   "source": [
    "Proportion of sections with td generated by bots"
   ]
  },
  {
   "cell_type": "code",
   "execution_count": 74,
   "id": "e5fe0e1d",
   "metadata": {},
   "outputs": [],
   "source": [
    "section_generated_by_bots = sections_with_td.loc[sections_with_td['bot'] == sections_with_td['author-login']]\n",
    "section_generated_by_other_accounts = sections_with_td.loc[sections_with_td['bot'] != sections_with_td['author-login']]"
   ]
  },
  {
   "cell_type": "code",
   "execution_count": 75,
   "id": "2b63a4b6",
   "metadata": {},
   "outputs": [
    {
     "data": {
      "text/plain": [
       "0.3005068790731354"
      ]
     },
     "execution_count": 75,
     "metadata": {},
     "output_type": "execute_result"
    }
   ],
   "source": [
    "len(section_generated_by_bots)/len(section_generated_by_humans)"
   ]
  },
  {
   "cell_type": "code",
   "execution_count": null,
   "id": "6ef06e46",
   "metadata": {},
   "outputs": [],
   "source": []
  },
  {
   "cell_type": "markdown",
   "id": "cd01cc72",
   "metadata": {},
   "source": [
    "## Step 1 - Recovering number of projects per bot"
   ]
  },
  {
   "cell_type": "code",
   "execution_count": 40,
   "id": "cbd080c2",
   "metadata": {},
   "outputs": [
    {
     "data": {
      "image/png": "[encoded data removed]",
      "text/plain": [
       "<Figure size 640x480 with 1 Axes>"
      ]
     },
     "metadata": {},
     "output_type": "display_data"
    }
   ],
   "source": [
    "projects_per_bot = issues_dataset.loc[:,['bot', 'project','issue']].groupby(['bot'])['project'].unique()\n",
    "n_projects = [len(x) for x in projects_per_bot]\n",
    "\n",
    "plot_hist(data=n_projects, x_label='Number of projects per bot', y_label='Number of bots', title = 'Projects per bot')"
   ]
  },
  {
   "cell_type": "markdown",
   "id": "87a49c87",
   "metadata": {},
   "source": [
    "Number of projects per bot in which at least one section of the issue contains TD."
   ]
  },
  {
   "cell_type": "code",
   "execution_count": 41,
   "id": "25633812",
   "metadata": {},
   "outputs": [
    {
     "data": {
      "image/png": "[encoded data removed]",
      "text/plain": [
       "<Figure size 640x480 with 1 Axes>"
      ]
     },
     "metadata": {},
     "output_type": "display_data"
    }
   ],
   "source": [
    "projects_per_bot = issues_dataset.loc[issues_dataset['td-label'] != 'non-SATD',['bot', 'project','issue']].groupby(['bot'])['project'].unique()\n",
    "n_projects = [len(x) for x in projects_per_bot]\n",
    "\n",
    "plot_hist(data=n_projects, x_label='Number of projects per bot', y_label='Number of bots', title = 'Projects per bot')"
   ]
  },
  {
   "cell_type": "markdown",
   "id": "1c203289",
   "metadata": {},
   "source": [
    "## Step 2 - Recovering the number of issues with TD"
   ]
  },
  {
   "cell_type": "markdown",
   "id": "04f93608",
   "metadata": {},
   "source": [
    "#### 2.1. Number of issues with TD"
   ]
  },
  {
   "cell_type": "code",
   "execution_count": 44,
   "id": "79fbd062",
   "metadata": {},
   "outputs": [
    {
     "name": "stdout",
     "output_type": "stream",
     "text": [
      "glassfishrobot - 125\n",
      "k8s-ci-robot - 181\n",
      "brotherlogic - 6\n",
      "fejta-bot - 223\n",
      "gopherbot - 102\n",
      "fire-bot - 7\n",
      "DartBot - 89\n",
      "cf-gitbot - 136\n",
      "element-bot - 3\n",
      "swift-ci - 149\n",
      "openshift-bot - 156\n",
      "0crat - 65\n",
      "google-oss-bot - 96\n",
      "ant-design-bot - 8\n",
      "msft-github-bot - 62\n",
      "gitcoinbot - 198\n",
      "rultor - 16\n",
      "babel-bot - 174\n"
     ]
    }
   ],
   "source": [
    "bots = issues_dataset['bot'].unique()\n",
    "for b in bots:\n",
    "    issues_bots = issues_dataset.loc[(issues_dataset['bot'] == b) \\\n",
    "                                     & (issues_dataset['td-label'] != 'non-SATD')]\n",
    "    print(f\"{b} - {len(issues_bots)}\")"
   ]
  },
  {
   "cell_type": "markdown",
   "id": "2ac382ce",
   "metadata": {},
   "source": [
    "#### Step 2.2. Number of section with TD"
   ]
  },
  {
   "cell_type": "code",
   "execution_count": 45,
   "id": "392d4664",
   "metadata": {},
   "outputs": [
    {
     "name": "stdout",
     "output_type": "stream",
     "text": [
      "glassfishrobot - 125\n",
      "k8s-ci-robot - 181\n",
      "brotherlogic - 6\n",
      "fejta-bot - 223\n",
      "gopherbot - 102\n",
      "fire-bot - 7\n",
      "DartBot - 89\n",
      "cf-gitbot - 136\n",
      "element-bot - 3\n",
      "swift-ci - 149\n",
      "openshift-bot - 156\n",
      "0crat - 65\n",
      "google-oss-bot - 96\n",
      "ant-design-bot - 8\n",
      "msft-github-bot - 62\n",
      "gitcoinbot - 198\n",
      "rultor - 16\n",
      "babel-bot - 174\n"
     ]
    }
   ],
   "source": [
    "bots = issues_dataset['bot'].unique()\n",
    "for b in bots:\n",
    "    issues_bots = issues_dataset.loc[(issues_dataset['bot'] == b) \\\n",
    "                                     & (issues_dataset['td-label'] != 'non-SATD')]\n",
    "    print(f\"{b} - {len(issues_bots)}\")"
   ]
  },
  {
   "cell_type": "markdown",
   "id": "25cf8206",
   "metadata": {},
   "source": [
    "#### Step 2.3. Number of sections with TD that were generated by bots"
   ]
  },
  {
   "cell_type": "code",
   "execution_count": 46,
   "id": "0c71c6e3",
   "metadata": {},
   "outputs": [
    {
     "name": "stdout",
     "output_type": "stream",
     "text": [
      "glassfishrobot - 0.05998080614203455\n",
      "k8s-ci-robot - 0.014634146341463415\n",
      "brotherlogic - 0.013793103448275862\n",
      "fejta-bot - 0.05045871559633028\n",
      "gopherbot - 0.10979228486646884\n",
      "fire-bot - 0.007614213197969543\n",
      "DartBot - 0.0726457399103139\n",
      "cf-gitbot - 0.0\n",
      "element-bot - 0.0\n",
      "swift-ci - 0.1343065693430657\n",
      "openshift-bot - 0.0\n",
      "0crat - 0.0\n",
      "google-oss-bot - 0.0\n",
      "ant-design-bot - 0.0\n",
      "msft-github-bot - 0.0\n",
      "gitcoinbot - 0.0\n",
      "rultor - 0.004484304932735426\n",
      "babel-bot - 0.0599250936329588\n"
     ]
    }
   ],
   "source": [
    "bots = issues_dataset['bot'].unique()\n",
    "for b in bots:\n",
    "    issues_bots = issues_dataset.loc[(issues_dataset['bot'] == b) \\\n",
    "                                     & (issues_dataset['td-label'] != 'non-SATD')\n",
    "                                     & (issues_dataset['author-login'] == b)]\n",
    "    \n",
    "    issues_bots2 = issues_dataset.loc[(issues_dataset['bot'] == b) \\\n",
    "                                     & (issues_dataset['td-label'] == 'non-SATD')\n",
    "                                     & (issues_dataset['author-login'] == b)]\n",
    "    \n",
    "    print(f\"{b} - {len(issues_bots)/(len(issues_bots2)+len(issues_bots))}\")"
   ]
  },
  {
   "cell_type": "markdown",
   "id": "5478952d",
   "metadata": {},
   "source": [
    "## Step 3 - Users exposed to the bot"
   ]
  },
  {
   "cell_type": "markdown",
   "id": "2e9a9c15",
   "metadata": {},
   "source": [
    "#### Step 3.1. in issues with TD"
   ]
  },
  {
   "cell_type": "code",
   "execution_count": 14,
   "id": "21bc6b97",
   "metadata": {},
   "outputs": [
    {
     "name": "stdout",
     "output_type": "stream",
     "text": [
      "glassfishrobot - 0\n",
      "k8s-ci-robot - 143\n",
      "brotherlogic - 1\n",
      "fejta-bot - 121\n",
      "gopherbot - 56\n",
      "fire-bot - 15\n",
      "DartBot - 4\n",
      "cf-gitbot - 86\n",
      "vaadin-bot - 0\n",
      "element-bot - 8\n",
      "swift-ci - 47\n",
      "openshift-bot - 80\n",
      "0crat - 21\n",
      "google-oss-bot - 98\n",
      "ant-design-bot - 25\n",
      "msft-github-bot - 29\n",
      "gitcoinbot - 8\n"
     ]
    }
   ],
   "source": [
    "bots = issues_dataset['bot'].unique()\n",
    "for b in bots:\n",
    "    issues_bots = issues_dataset.loc[(issues_dataset['bot'] == b) \\\n",
    "                                     & (issues_dataset['td-label'] != 'non-SATD')\\\n",
    "                                     & (issues_dataset['author-login'] != b)]\n",
    "    print(f\"{b} - {len(issues_bots['author-login'].unique())}\")"
   ]
  },
  {
   "cell_type": "markdown",
   "id": "b28d5f9d",
   "metadata": {},
   "source": [
    "#### 3.2. in issues without TD"
   ]
  },
  {
   "cell_type": "code",
   "execution_count": 16,
   "id": "db97b38e",
   "metadata": {},
   "outputs": [
    {
     "name": "stdout",
     "output_type": "stream",
     "text": [
      "glassfishrobot - 0\n",
      "k8s-ci-robot - 157\n",
      "brotherlogic - 2\n",
      "fejta-bot - 108\n",
      "gopherbot - 30\n",
      "fire-bot - 18\n",
      "DartBot - 5\n",
      "cf-gitbot - 72\n",
      "vaadin-bot - 0\n",
      "element-bot - 98\n",
      "swift-ci - 42\n",
      "openshift-bot - 70\n",
      "0crat - 23\n",
      "google-oss-bot - 109\n",
      "ant-design-bot - 81\n",
      "msft-github-bot - 26\n",
      "gitcoinbot - 5\n"
     ]
    }
   ],
   "source": [
    "bots = issues_dataset['bot'].unique()\n",
    "for b in bots:\n",
    "    issues_bots = issues_dataset.loc[(issues_dataset['bot'] == b) \\\n",
    "                                     & (issues_dataset['td-label'] == 'non-SATD')\\\n",
    "                                     & (issues_dataset['author-login'] != b)]\n",
    "    print(f\"{b} - {len(issues_bots['author-login'].unique())}\")"
   ]
  },
  {
   "cell_type": "markdown",
   "id": "78e1b725",
   "metadata": {},
   "source": [
    "## Step 4 - Bot's functionality"
   ]
  },
  {
   "cell_type": "markdown",
   "id": "7bb46238",
   "metadata": {},
   "source": [
    "#### 4.1. Number of issues opened by bots"
   ]
  },
  {
   "cell_type": "code",
   "execution_count": 39,
   "id": "78049c3c",
   "metadata": {},
   "outputs": [
    {
     "name": "stdout",
     "output_type": "stream",
     "text": [
      "glassfishrobot - 0\n",
      "k8s-ci-robot - 141\n",
      "brotherlogic - 2\n",
      "fejta-bot - 98\n",
      "gopherbot - 26\n",
      "fire-bot - 18\n",
      "DartBot - 5\n",
      "cf-gitbot - 51\n",
      "vaadin-bot - 0\n",
      "element-bot - 96\n",
      "swift-ci - 40\n",
      "openshift-bot - 58\n",
      "0crat - 18\n",
      "google-oss-bot - 78\n",
      "ant-design-bot - 75\n",
      "msft-github-bot - 17\n",
      "gitcoinbot - 5\n"
     ]
    }
   ],
   "source": [
    "bots = issues_dataset['bot'].unique()\n",
    "for b in bots:\n",
    "    issues_bots = issues_dataset.loc[(issues_dataset['bot'] == b) \\\n",
    "                                     & (issues_dataset['td-label'] == 'non-SATD')\\\n",
    "                                     & (issues_dataset['type'] != 'title')\\\n",
    "                                     & (issues_dataset['author-login'] != b)]\n",
    "    print(f\"{b} - {len(issues_bots['author-login'].unique())}\")"
   ]
  },
  {
   "cell_type": "markdown",
   "id": "5e6e2730",
   "metadata": {},
   "source": [
    "#### 4.1. Number of issues closed by bots"
   ]
  },
  {
   "cell_type": "code",
   "execution_count": 40,
   "id": "e9ede229",
   "metadata": {},
   "outputs": [
    {
     "name": "stdout",
     "output_type": "stream",
     "text": [
      "glassfishrobot - 1\n",
      "k8s-ci-robot - 15\n",
      "brotherlogic - 1\n",
      "fejta-bot - 21\n",
      "gopherbot - 11\n",
      "fire-bot - 1\n",
      "DartBot - 1\n",
      "cf-gitbot - 20\n",
      "vaadin-bot - 0\n",
      "element-bot - 0\n",
      "swift-ci - 8\n",
      "openshift-bot - 26\n",
      "0crat - 5\n",
      "google-oss-bot - 19\n",
      "ant-design-bot - 3\n",
      "msft-github-bot - 5\n",
      "gitcoinbot - 2\n"
     ]
    }
   ],
   "source": [
    "bots = issues_dataset['bot'].unique()\n",
    "for b in bots:\n",
    "    issues_bots = issues_dataset.loc[(issues_dataset['bot'] == b) \\\n",
    "                                     & (issues_dataset['td-label'] != 'non-SATD')\\\n",
    "                                     & (issues_dataset['type'] == 'title')\\\n",
    "                                     & (issues_dataset['closed-by'] != b)]\n",
    "    print(f\"{b} - {len(issues_bots['author-login'].unique())}\")"
   ]
  },
  {
   "cell_type": "code",
   "execution_count": 42,
   "id": "496ef876",
   "metadata": {},
   "outputs": [
    {
     "data": {
      "text/html": [
       "<div>\n",
       "<style scoped>\n",
       "    .dataframe tbody tr th:only-of-type {\n",
       "        vertical-align: middle;\n",
       "    }\n",
       "\n",
       "    .dataframe tbody tr th {\n",
       "        vertical-align: top;\n",
       "    }\n",
       "\n",
       "    .dataframe thead th {\n",
       "        text-align: right;\n",
       "    }\n",
       "</style>\n",
       "<table border=\"1\" class=\"dataframe\">\n",
       "  <thead>\n",
       "    <tr style=\"text-align: right;\">\n",
       "      <th></th>\n",
       "      <th>bot</th>\n",
       "      <th>owner</th>\n",
       "      <th>project</th>\n",
       "      <th>issue</th>\n",
       "      <th>text</th>\n",
       "      <th>type</th>\n",
       "      <th>author-login</th>\n",
       "      <th>open-date</th>\n",
       "      <th>state</th>\n",
       "      <th>close-date</th>\n",
       "      <th>closed-by</th>\n",
       "      <th>td-label</th>\n",
       "    </tr>\n",
       "  </thead>\n",
       "  <tbody>\n",
       "    <tr>\n",
       "      <th>0</th>\n",
       "      <td>glassfishrobot</td>\n",
       "      <td>eclipse-ee4j</td>\n",
       "      <td>tyrus</td>\n",
       "      <td>42</td>\n",
       "      <td>wss://echo.websocket.org Handshake error. \"Res...</td>\n",
       "      <td>title</td>\n",
       "      <td>glassfishrobot</td>\n",
       "      <td>2013-10-26T09:18:31Z</td>\n",
       "      <td>closed</td>\n",
       "      <td>2013-10-29T16:58:07Z</td>\n",
       "      <td>glassfishrobot</td>\n",
       "      <td>code|design-debt</td>\n",
       "    </tr>\n",
       "    <tr>\n",
       "      <th>1</th>\n",
       "      <td>glassfishrobot</td>\n",
       "      <td>eclipse-ee4j</td>\n",
       "      <td>tyrus</td>\n",
       "      <td>42</td>\n",
       "      <td>building tyrus 1.3-SNAPSHOT from https://githu...</td>\n",
       "      <td>body</td>\n",
       "      <td>glassfishrobot</td>\n",
       "      <td>2013-10-26T09:18:31Z</td>\n",
       "      <td>closed</td>\n",
       "      <td>2013-10-29T16:58:07Z</td>\n",
       "      <td>glassfishrobot</td>\n",
       "      <td>documentation-debt</td>\n",
       "    </tr>\n",
       "    <tr>\n",
       "      <th>2</th>\n",
       "      <td>glassfishrobot</td>\n",
       "      <td>eclipse-ee4j</td>\n",
       "      <td>tyrus</td>\n",
       "      <td>42</td>\n",
       "      <td>* **Issue Imported From:** https://github.com/...</td>\n",
       "      <td>comment_0</td>\n",
       "      <td>glassfishrobot</td>\n",
       "      <td>2018-02-10T19:34:55Z</td>\n",
       "      <td>-</td>\n",
       "      <td>-</td>\n",
       "      <td>-</td>\n",
       "      <td>non-SATD</td>\n",
       "    </tr>\n",
       "    <tr>\n",
       "      <th>3</th>\n",
       "      <td>glassfishrobot</td>\n",
       "      <td>eclipse-ee4j</td>\n",
       "      <td>tyrus</td>\n",
       "      <td>42</td>\n",
       "      <td>@cthiebaud Commented \\r\\nThe same DocClient.ja...</td>\n",
       "      <td>comment_1</td>\n",
       "      <td>glassfishrobot</td>\n",
       "      <td>2013-10-26T11:25:56Z</td>\n",
       "      <td>-</td>\n",
       "      <td>-</td>\n",
       "      <td>-</td>\n",
       "      <td>code|design-debt</td>\n",
       "    </tr>\n",
       "    <tr>\n",
       "      <th>4</th>\n",
       "      <td>glassfishrobot</td>\n",
       "      <td>eclipse-ee4j</td>\n",
       "      <td>tyrus</td>\n",
       "      <td>42</td>\n",
       "      <td>@pavelbucek Commented \\r\\nplease don't use git...</td>\n",
       "      <td>comment_2</td>\n",
       "      <td>glassfishrobot</td>\n",
       "      <td>2013-10-29T16:58:07Z</td>\n",
       "      <td>-</td>\n",
       "      <td>-</td>\n",
       "      <td>-</td>\n",
       "      <td>code|design-debt</td>\n",
       "    </tr>\n",
       "  </tbody>\n",
       "</table>\n",
       "</div>"
      ],
      "text/plain": [
       "              bot         owner project  issue  \\\n",
       "0  glassfishrobot  eclipse-ee4j   tyrus     42   \n",
       "1  glassfishrobot  eclipse-ee4j   tyrus     42   \n",
       "2  glassfishrobot  eclipse-ee4j   tyrus     42   \n",
       "3  glassfishrobot  eclipse-ee4j   tyrus     42   \n",
       "4  glassfishrobot  eclipse-ee4j   tyrus     42   \n",
       "\n",
       "                                                text       type  \\\n",
       "0  wss://echo.websocket.org Handshake error. \"Res...      title   \n",
       "1  building tyrus 1.3-SNAPSHOT from https://githu...       body   \n",
       "2  * **Issue Imported From:** https://github.com/...  comment_0   \n",
       "3  @cthiebaud Commented \\r\\nThe same DocClient.ja...  comment_1   \n",
       "4  @pavelbucek Commented \\r\\nplease don't use git...  comment_2   \n",
       "\n",
       "     author-login             open-date   state            close-date  \\\n",
       "0  glassfishrobot  2013-10-26T09:18:31Z  closed  2013-10-29T16:58:07Z   \n",
       "1  glassfishrobot  2013-10-26T09:18:31Z  closed  2013-10-29T16:58:07Z   \n",
       "2  glassfishrobot  2018-02-10T19:34:55Z       -                     -   \n",
       "3  glassfishrobot  2013-10-26T11:25:56Z       -                     -   \n",
       "4  glassfishrobot  2013-10-29T16:58:07Z       -                     -   \n",
       "\n",
       "        closed-by            td-label  \n",
       "0  glassfishrobot    code|design-debt  \n",
       "1  glassfishrobot  documentation-debt  \n",
       "2               -            non-SATD  \n",
       "3               -    code|design-debt  \n",
       "4               -    code|design-debt  "
      ]
     },
     "execution_count": 42,
     "metadata": {},
     "output_type": "execute_result"
    }
   ],
   "source": [
    "issues_dataset.head()"
   ]
  }
 ],
 "metadata": {
  "kernelspec": {
   "display_name": "Python 3 (ipykernel)",
   "language": "python",
   "name": "python3"
  },
  "language_info": {
   "codemirror_mode": {
    "name": "ipython",
    "version": 3
   },
   "file_extension": ".py",
   "mimetype": "text/x-python",
   "name": "python",
   "nbconvert_exporter": "python",
   "pygments_lexer": "ipython3",
   "version": "3.9.13"
  }
 },
 "nbformat": 4,
 "nbformat_minor": 5
}
